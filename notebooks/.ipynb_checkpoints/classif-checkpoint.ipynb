{
 "cells": [
  {
   "cell_type": "code",
   "execution_count": 104,
   "metadata": {},
   "outputs": [],
   "source": [
    "import os\n",
    "import numpy as np\n",
    "import pandas as pd\n",
    "from seaborn import kdeplot\n",
    "from sklearn.svm import SVC\n",
    "import matplotlib.pyplot as plt\n",
    "from sklearn.preprocessing import MinMaxScaler\n",
    "from sklearn.model_selection import LeaveOneOut\n",
    "from sklearn.linear_model import LogisticRegression\n",
    "from sklearn.feature_selection import mutual_info_classif\n",
    "%matplotlib inline"
   ]
  },
  {
   "cell_type": "code",
   "execution_count": 105,
   "metadata": {
    "collapsed": false,
    "jupyter": {
     "outputs_hidden": false
    },
    "pycharm": {
     "name": "#%%\n"
    }
   },
   "outputs": [],
   "source": [
    "df = pd.read_excel(os.getcwd()+'/GC-MS_data.xlsx')\n",
    "df.head()\n",
    "df.iloc[:, 0].unique()\n",
    "labels = df.iloc[:, 0].replace({'Healthy':0, 'Asthmatic':1})\n",
    "data = df.iloc[:, 1:]"
   ]
  },
  {
   "cell_type": "code",
   "execution_count": 106,
   "metadata": {
    "collapsed": false,
    "jupyter": {
     "outputs_hidden": false
    },
    "pycharm": {
     "name": "#%%\n"
    }
   },
   "outputs": [
    {
     "data": {
      "image/png": "[encoded data removed]",
      "text/plain": [
       "<Figure size 432x288 with 1 Axes>"
      ]
     },
     "metadata": {
      "needs_background": "light"
     },
     "output_type": "display_data"
    }
   ],
   "source": [
    "mi = mutual_info_classif(data.to_numpy(), labels.to_numpy())\n",
    "kdeplot(pd.DataFrame(mi, columns=['MI Score'])['MI Score'], shade=True)\n",
    "plt.show()\n"
   ]
  },
  {
   "cell_type": "code",
   "execution_count": 128,
   "metadata": {
    "collapsed": false,
    "jupyter": {
     "outputs_hidden": false
    },
    "pycharm": {
     "name": "#%%\n"
    }
   },
   "outputs": [
    {
     "name": "stdout",
     "output_type": "stream",
     "text": [
      "LOO Accuracy with 7 features: [0.90697674]\n"
     ]
    }
   ],
   "source": [
    "sorted_feats = np.argsort(mi)[::-1]\n",
    "loo = LeaveOneOut()\n",
    "n_feats = 7\n",
    "score = 0\n",
    "for train_index, test_index in loo.split(data.to_numpy()):\n",
    "    x_train = data.iloc[train_index, sorted_feats[:n_feats]].to_numpy()\n",
    "    y_train = labels.iloc[train_index].to_numpy()\n",
    "    x_test = data.iloc[test_index, sorted_feats[:n_feats]].to_numpy()\n",
    "    y_test = labels.iloc[test_index].to_numpy()\n",
    "    scaler = MinMaxScaler().fit(x_train)\n",
    "    clf = SVC(kernel='rbf', gamma=10, C=1).fit(scaler.transform(x_train), y_train)\n",
    "    score += y_test == clf.predict(scaler.transform(x_test))\n",
    "acc = score/(data.to_numpy().shape[0])\n",
    "print('LOO Accuracy with ' + str(n_feats) + ' features: ' + str(acc))"
   ]
  },
  {
   "cell_type": "code",
   "execution_count": null,
   "metadata": {
    "collapsed": false,
    "jupyter": {
     "outputs_hidden": false
    },
    "pycharm": {
     "name": "#%%\n"
    }
   },
   "outputs": [],
   "source": []
  }
 ],
 "metadata": {
  "kernelspec": {
   "display_name": "Python 3",
   "language": "python",
   "name": "python3"
  },
  "language_info": {
   "codemirror_mode": {
    "name": "ipython",
    "version": 3
   },
   "file_extension": ".py",
   "mimetype": "text/x-python",
   "name": "python",
   "nbconvert_exporter": "python",
   "pygments_lexer": "ipython3",
   "version": "3.6.8"
  }
 },
 "nbformat": 4,
 "nbformat_minor": 4
}
