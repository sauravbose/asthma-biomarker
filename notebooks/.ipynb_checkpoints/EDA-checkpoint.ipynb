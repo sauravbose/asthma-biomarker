{
 "cells": [
  {
   "cell_type": "markdown",
   "metadata": {},
   "source": [
    "# Load Dependencies and Raw Data"
   ]
  },
  {
   "cell_type": "code",
   "execution_count": 1,
   "metadata": {},
   "outputs": [],
   "source": [
    "import pandas as pd\n",
    "import numpy as np\n",
    "import dill, pickle\n",
    "import copy\n",
    "\n",
    "from collections import Counter\n",
    "import itertools\n",
    "from scipy import stats\n",
    "\n",
    "import matplotlib.pyplot as plt\n",
    "\n",
    "from sklearn.cluster import KMeans\n",
    "from sklearn.cluster import AgglomerativeClustering\n",
    "\n",
    "from skrebate import ReliefF, MultiSURF, MultiSURFstar\n",
    "from sklearn.feature_selection import f_classif\n",
    "from sklearn.decomposition import PCA\n",
    "from sklearn.manifold import TSNE\n",
    "\n",
    "from sklearn import metrics\n",
    "from sklearn.metrics import adjusted_rand_score, rand_score\n",
    "from sklearn.metrics.cluster import pair_confusion_matrix\n",
    "\n",
    "from sklearn.preprocessing import StandardScaler, MinMaxScaler, RobustScaler"
   ]
  },
  {
   "cell_type": "code",
   "execution_count": 4,
   "metadata": {},
   "outputs": [],
   "source": [
    "data = pd.read_excel('../data/GC-MS_data.xlsx')"
   ]
  },
  {
   "cell_type": "code",
   "execution_count": 5,
   "metadata": {},
   "outputs": [],
   "source": [
    "# counts"
   ]
  },
  {
   "cell_type": "code",
   "execution_count": 6,
   "metadata": {},
   "outputs": [],
   "source": [
    "ID_num = np.where(data.ID == 'Healthy', 0, 1)"
   ]
  },
  {
   "cell_type": "code",
   "execution_count": 7,
   "metadata": {},
   "outputs": [],
   "source": [
    "data.insert(1, 'ID_num', ID_num)"
   ]
  },
  {
   "cell_type": "markdown",
   "metadata": {},
   "source": [
    "# User Defined Functions"
   ]
  },
  {
   "cell_type": "code",
   "execution_count": 8,
   "metadata": {},
   "outputs": [],
   "source": [
    "def print_metric(class_label, cluster_label):\n",
    "    print('Homogeneity:', metrics.homogeneity_score(class_label, cluster_label))\n",
    "    print('Completeness:', metrics.completeness_score(class_label, cluster_label))\n",
    "    print('V-measure:', metrics.v_measure_score(class_label, cluster_label))"
   ]
  },
  {
   "cell_type": "markdown",
   "metadata": {},
   "source": [
    "# Full Dataset"
   ]
  },
  {
   "cell_type": "markdown",
   "metadata": {},
   "source": [
    "We need a metric that is better than randIndex. randIndex is label agnostic. in otherwords, if 2 instances for the negative class are clustered together it is a positive outcome for randIndex even if they are clustered in the same cluster as the positive instances."
   ]
  },
  {
   "cell_type": "markdown",
   "metadata": {},
   "source": [
    "Need to try out log transorfm of the data"
   ]
  },
  {
   "cell_type": "code",
   "execution_count": 9,
   "metadata": {},
   "outputs": [
    {
     "data": {
      "text/html": [
       "<div>\n",
       "<style scoped>\n",
       "    .dataframe tbody tr th:only-of-type {\n",
       "        vertical-align: middle;\n",
       "    }\n",
       "\n",
       "    .dataframe tbody tr th {\n",
       "        vertical-align: top;\n",
       "    }\n",
       "\n",
       "    .dataframe thead th {\n",
       "        text-align: right;\n",
       "    }\n",
       "</style>\n",
       "<table border=\"1\" class=\"dataframe\">\n",
       "  <thead>\n",
       "    <tr style=\"text-align: right;\">\n",
       "      <th></th>\n",
       "      <th>ID</th>\n",
       "      <th>ID_num</th>\n",
       "      <th>M151T1</th>\n",
       "      <th>M83T1</th>\n",
       "      <th>M101T1</th>\n",
       "      <th>M46T1</th>\n",
       "      <th>M49T1</th>\n",
       "      <th>M66T1</th>\n",
       "      <th>M62T1</th>\n",
       "      <th>M80T1</th>\n",
       "      <th>...</th>\n",
       "      <th>M110T26_1</th>\n",
       "      <th>M121T26_1</th>\n",
       "      <th>M175T26_1</th>\n",
       "      <th>M124T26_1</th>\n",
       "      <th>M138T26_2</th>\n",
       "      <th>M85T26_2</th>\n",
       "      <th>M174T26</th>\n",
       "      <th>M123T26_1</th>\n",
       "      <th>M91T26</th>\n",
       "      <th>M94T26</th>\n",
       "    </tr>\n",
       "  </thead>\n",
       "  <tbody>\n",
       "    <tr>\n",
       "      <th>0</th>\n",
       "      <td>Healthy</td>\n",
       "      <td>0</td>\n",
       "      <td>16.048388</td>\n",
       "      <td>6064.292377</td>\n",
       "      <td>781.993514</td>\n",
       "      <td>802.020931</td>\n",
       "      <td>4694.204132</td>\n",
       "      <td>7.292742e+04</td>\n",
       "      <td>29491.232768</td>\n",
       "      <td>16.024791</td>\n",
       "      <td>...</td>\n",
       "      <td>7867.025232</td>\n",
       "      <td>8965.565729</td>\n",
       "      <td>3012.051770</td>\n",
       "      <td>4658.714325</td>\n",
       "      <td>2340.026084</td>\n",
       "      <td>12912.976187</td>\n",
       "      <td>1397.742432</td>\n",
       "      <td>16170.724464</td>\n",
       "      <td>10359.088145</td>\n",
       "      <td>4524.513159</td>\n",
       "    </tr>\n",
       "    <tr>\n",
       "      <th>1</th>\n",
       "      <td>Healthy</td>\n",
       "      <td>0</td>\n",
       "      <td>2966.261917</td>\n",
       "      <td>134774.774889</td>\n",
       "      <td>62570.597315</td>\n",
       "      <td>18605.033364</td>\n",
       "      <td>23763.284044</td>\n",
       "      <td>6.268676e+06</td>\n",
       "      <td>392830.377721</td>\n",
       "      <td>5189.617648</td>\n",
       "      <td>...</td>\n",
       "      <td>278936.880991</td>\n",
       "      <td>323372.411031</td>\n",
       "      <td>79971.903683</td>\n",
       "      <td>215630.572047</td>\n",
       "      <td>79703.417540</td>\n",
       "      <td>524443.694141</td>\n",
       "      <td>58370.370030</td>\n",
       "      <td>714891.705277</td>\n",
       "      <td>330847.552709</td>\n",
       "      <td>229032.808630</td>\n",
       "    </tr>\n",
       "    <tr>\n",
       "      <th>2</th>\n",
       "      <td>Healthy</td>\n",
       "      <td>0</td>\n",
       "      <td>8377.442132</td>\n",
       "      <td>54888.286191</td>\n",
       "      <td>7574.412552</td>\n",
       "      <td>24452.053496</td>\n",
       "      <td>8865.881271</td>\n",
       "      <td>8.122816e+05</td>\n",
       "      <td>470305.922774</td>\n",
       "      <td>2883.659359</td>\n",
       "      <td>...</td>\n",
       "      <td>330297.442948</td>\n",
       "      <td>400547.227331</td>\n",
       "      <td>89001.852491</td>\n",
       "      <td>237332.546382</td>\n",
       "      <td>92068.988978</td>\n",
       "      <td>281554.565002</td>\n",
       "      <td>73030.972156</td>\n",
       "      <td>942769.300372</td>\n",
       "      <td>653550.454878</td>\n",
       "      <td>189904.532666</td>\n",
       "    </tr>\n",
       "    <tr>\n",
       "      <th>3</th>\n",
       "      <td>Healthy</td>\n",
       "      <td>0</td>\n",
       "      <td>37.609095</td>\n",
       "      <td>10440.984838</td>\n",
       "      <td>26.750624</td>\n",
       "      <td>88.923190</td>\n",
       "      <td>1827.264205</td>\n",
       "      <td>4.491165e+04</td>\n",
       "      <td>8166.159143</td>\n",
       "      <td>1374.437507</td>\n",
       "      <td>...</td>\n",
       "      <td>1090.182759</td>\n",
       "      <td>998.434986</td>\n",
       "      <td>220.276019</td>\n",
       "      <td>648.220851</td>\n",
       "      <td>375.745446</td>\n",
       "      <td>1799.311194</td>\n",
       "      <td>106.666198</td>\n",
       "      <td>1713.346412</td>\n",
       "      <td>2279.341711</td>\n",
       "      <td>655.383157</td>\n",
       "    </tr>\n",
       "    <tr>\n",
       "      <th>4</th>\n",
       "      <td>Healthy</td>\n",
       "      <td>0</td>\n",
       "      <td>115.438628</td>\n",
       "      <td>7287.725513</td>\n",
       "      <td>112.578791</td>\n",
       "      <td>28.656514</td>\n",
       "      <td>5843.718655</td>\n",
       "      <td>1.573132e+05</td>\n",
       "      <td>21056.733832</td>\n",
       "      <td>3441.212011</td>\n",
       "      <td>...</td>\n",
       "      <td>9453.592618</td>\n",
       "      <td>17333.718556</td>\n",
       "      <td>1887.790859</td>\n",
       "      <td>8186.847903</td>\n",
       "      <td>3752.941527</td>\n",
       "      <td>10702.205663</td>\n",
       "      <td>2548.940100</td>\n",
       "      <td>33661.377548</td>\n",
       "      <td>16464.790716</td>\n",
       "      <td>7288.223731</td>\n",
       "    </tr>\n",
       "  </tbody>\n",
       "</table>\n",
       "<p>5 rows × 2736 columns</p>\n",
       "</div>"
      ],
      "text/plain": [
       "        ID  ID_num       M151T1          M83T1        M101T1         M46T1  \\\n",
       "0  Healthy       0    16.048388    6064.292377    781.993514    802.020931   \n",
       "1  Healthy       0  2966.261917  134774.774889  62570.597315  18605.033364   \n",
       "2  Healthy       0  8377.442132   54888.286191   7574.412552  24452.053496   \n",
       "3  Healthy       0    37.609095   10440.984838     26.750624     88.923190   \n",
       "4  Healthy       0   115.438628    7287.725513    112.578791     28.656514   \n",
       "\n",
       "          M49T1         M66T1          M62T1        M80T1  ...      M110T26_1  \\\n",
       "0   4694.204132  7.292742e+04   29491.232768    16.024791  ...    7867.025232   \n",
       "1  23763.284044  6.268676e+06  392830.377721  5189.617648  ...  278936.880991   \n",
       "2   8865.881271  8.122816e+05  470305.922774  2883.659359  ...  330297.442948   \n",
       "3   1827.264205  4.491165e+04    8166.159143  1374.437507  ...    1090.182759   \n",
       "4   5843.718655  1.573132e+05   21056.733832  3441.212011  ...    9453.592618   \n",
       "\n",
       "       M121T26_1     M175T26_1      M124T26_1     M138T26_2       M85T26_2  \\\n",
       "0    8965.565729   3012.051770    4658.714325   2340.026084   12912.976187   \n",
       "1  323372.411031  79971.903683  215630.572047  79703.417540  524443.694141   \n",
       "2  400547.227331  89001.852491  237332.546382  92068.988978  281554.565002   \n",
       "3     998.434986    220.276019     648.220851    375.745446    1799.311194   \n",
       "4   17333.718556   1887.790859    8186.847903   3752.941527   10702.205663   \n",
       "\n",
       "        M174T26      M123T26_1         M91T26         M94T26  \n",
       "0   1397.742432   16170.724464   10359.088145    4524.513159  \n",
       "1  58370.370030  714891.705277  330847.552709  229032.808630  \n",
       "2  73030.972156  942769.300372  653550.454878  189904.532666  \n",
       "3    106.666198    1713.346412    2279.341711     655.383157  \n",
       "4   2548.940100   33661.377548   16464.790716    7288.223731  \n",
       "\n",
       "[5 rows x 2736 columns]"
      ]
     },
     "execution_count": 9,
     "metadata": {},
     "output_type": "execute_result"
    }
   ],
   "source": [
    "data.head()"
   ]
  },
  {
   "cell_type": "code",
   "execution_count": 10,
   "metadata": {},
   "outputs": [
    {
     "data": {
      "text/plain": [
       "Counter({'Healthy': 29, 'Asthmatic': 14})"
      ]
     },
     "execution_count": 10,
     "metadata": {},
     "output_type": "execute_result"
    }
   ],
   "source": [
    "Counter(data.ID)"
   ]
  },
  {
   "cell_type": "markdown",
   "metadata": {},
   "source": [
    "- What do the column headers mean?\n",
    "- What do the values in each column represent? What is their unit?\n",
    "- Have any data pre-processing/quality checks been already done?\n",
    "- Is this the annotated spectrum?\n",
    "- Is it an intersection of molecules present in the samples? Are all molecules in the dataset expected to be present in all samples?\n",
    "- Could multiple columns in the dataset correspond to the same molecule? \n",
    "- Is the data normalized? If not, how can we normalize?\n",
    "\n",
    "- Maximum relevancy minimum redundancy by Gavin Brown\n"
   ]
  },
  {
   "cell_type": "code",
   "execution_count": 11,
   "metadata": {},
   "outputs": [
    {
     "data": {
      "text/plain": [
       "(43, 2736)"
      ]
     },
     "execution_count": 11,
     "metadata": {},
     "output_type": "execute_result"
    }
   ],
   "source": [
    "data.shape"
   ]
  },
  {
   "cell_type": "code",
   "execution_count": 12,
   "metadata": {},
   "outputs": [
    {
     "data": {
      "text/plain": [
       "Counter({'Healthy': 29, 'Asthmatic': 14})"
      ]
     },
     "execution_count": 12,
     "metadata": {},
     "output_type": "execute_result"
    }
   ],
   "source": [
    "Counter(data.ID)"
   ]
  },
  {
   "cell_type": "code",
   "execution_count": 13,
   "metadata": {},
   "outputs": [],
   "source": [
    "kmeans = KMeans(n_clusters=2, random_state=83741384, algorithm = \"full\").fit(data.values[:,2:])"
   ]
  },
  {
   "cell_type": "code",
   "execution_count": 14,
   "metadata": {},
   "outputs": [
    {
     "data": {
      "text/plain": [
       "array([0, 0, 0, 0, 0, 0, 0, 0, 0, 0, 0, 0, 0, 0, 0, 0, 0, 1, 0, 0, 0, 0,\n",
       "       0, 0, 0, 0, 0, 0, 0, 0, 0, 0, 0, 0, 0, 0, 0, 0, 0, 0, 0, 0, 0],\n",
       "      dtype=int32)"
      ]
     },
     "execution_count": 14,
     "metadata": {},
     "output_type": "execute_result"
    }
   ],
   "source": [
    "kmeans.labels_"
   ]
  },
  {
   "cell_type": "code",
   "execution_count": 15,
   "metadata": {},
   "outputs": [],
   "source": [
    "# External clustering evaluation using V-measure\n",
    "#homogeneity: each cluster contains only members of a single class.\n",
    "#completeness: all members of a given class are assigned to the same cluster."
   ]
  },
  {
   "cell_type": "code",
   "execution_count": 16,
   "metadata": {},
   "outputs": [
    {
     "name": "stdout",
     "output_type": "stream",
     "text": [
      "Homogeneity: 0.014728372591032643\n",
      "Completeness: 0.08414145074741128\n",
      "V-measure: 0.02506865280249827\n"
     ]
    }
   ],
   "source": [
    "print_metric(data.ID_num.values, kmeans.labels_)"
   ]
  },
  {
   "cell_type": "code",
   "execution_count": null,
   "metadata": {},
   "outputs": [],
   "source": []
  },
  {
   "cell_type": "markdown",
   "metadata": {},
   "source": [
    "# Dataset with linearly correlated features removed"
   ]
  },
  {
   "cell_type": "code",
   "execution_count": 17,
   "metadata": {},
   "outputs": [],
   "source": [
    "def corr_fs(X_df, X_arr):\n",
    "    '''Correlation based feature selection (Eliminates features with |corr| > 0.9)'''\n",
    "    correlations = {}\n",
    "    col_names = X_df.columns.tolist()\n",
    "\n",
    "    col_ids = list(range(len(col_names)))\n",
    "    for col_a, col_b in itertools.combinations(col_ids, 2):\n",
    "        corr,_ = stats.pearsonr(X_arr[:, col_a], X_arr[:, col_b])\n",
    "\n",
    "        correlations[col_names[col_a] + '__' + col_names[col_b]] = corr\n",
    "\n",
    "    corr_df = pd.DataFrame.from_dict(correlations, orient='index').reset_index()\n",
    "    corr_df.columns = ['feature_pair', 'correlation']\n",
    "    corr_df['abs_correlation'] = np.abs(corr_df.correlation)\n",
    "\n",
    "    highly_correlated_pair = corr_df.loc[corr_df.abs_correlation > 0.95]\n",
    "\n",
    "    feat_pair = highly_correlated_pair.feature_pair.values\n",
    "    feat_pair_corr = highly_correlated_pair.values\n",
    "    \n",
    "    #Drop the second feature in every highly correlated pair\n",
    "    feat_drop = [i.split('__')[1] for i in feat_pair]\n",
    "    feat_keep = [i.split('__')[0] for i in feat_pair]\n",
    "\n",
    "    feat_drop_idx = [list(col_names).index(i) for i in feat_drop]\n",
    "        \n",
    "    X_no_corr_arr = np.delete(X_arr, feat_drop_idx, axis=1)\n",
    "    X_no_corr_cols = np.delete(col_names, feat_drop_idx)\n",
    "    \n",
    "    X_no_corr_df = pd.DataFrame(X_no_corr_arr, columns=X_no_corr_cols)\n",
    "\n",
    "\n",
    "    return highly_correlated_pair, X_no_corr_df"
   ]
  },
  {
   "cell_type": "markdown",
   "metadata": {},
   "source": [
    "- Filtering out features with corr>0.8 results in 101 features\n",
    "- Filtering out features with corr>0.9 results in 311 features\n",
    "- Filtering out features with corr>0.95 results in 681 features\n",
    "- Filtering out features with corr>0.99 results in 1989 features"
   ]
  },
  {
   "cell_type": "code",
   "execution_count": 18,
   "metadata": {},
   "outputs": [],
   "source": [
    "#DO ONLY ONCE\n",
    "# data_corr_fs = data.drop(['ID','ID_num'], axis = 1)\n",
    "\n",
    "# highly_correlated_pair, X_no_corr_df = corr_fs(data_corr_fs, data_corr_fs.values)\n",
    "\n",
    "# independent_features = {'highly_correlated_pair':highly_correlated_pair, 'X_no_corr_df':X_no_corr_df}\n",
    "\n",
    "# with open('../data/independent_features.pik', \"wb\") as f:\n",
    "#     pickle.dump(independent_features, f, protocol=pickle.HIGHEST_PROTOCOL)"
   ]
  },
  {
   "cell_type": "code",
   "execution_count": 19,
   "metadata": {},
   "outputs": [],
   "source": [
    "with open('../data/independent_features.pik', \"rb\") as f:\n",
    "    independent_features = dill.load(f)"
   ]
  },
  {
   "cell_type": "code",
   "execution_count": 20,
   "metadata": {},
   "outputs": [],
   "source": [
    "highly_correlated_pair = independent_features['highly_correlated_pair']"
   ]
  },
  {
   "cell_type": "code",
   "execution_count": 21,
   "metadata": {},
   "outputs": [],
   "source": [
    "X_no_corr_df = independent_features['X_no_corr_df']"
   ]
  },
  {
   "cell_type": "code",
   "execution_count": 22,
   "metadata": {},
   "outputs": [
    {
     "data": {
      "text/html": [
       "<div>\n",
       "<style scoped>\n",
       "    .dataframe tbody tr th:only-of-type {\n",
       "        vertical-align: middle;\n",
       "    }\n",
       "\n",
       "    .dataframe tbody tr th {\n",
       "        vertical-align: top;\n",
       "    }\n",
       "\n",
       "    .dataframe thead th {\n",
       "        text-align: right;\n",
       "    }\n",
       "</style>\n",
       "<table border=\"1\" class=\"dataframe\">\n",
       "  <thead>\n",
       "    <tr style=\"text-align: right;\">\n",
       "      <th></th>\n",
       "      <th>feature_pair</th>\n",
       "      <th>correlation</th>\n",
       "      <th>abs_correlation</th>\n",
       "    </tr>\n",
       "  </thead>\n",
       "  <tbody>\n",
       "    <tr>\n",
       "      <th>12282</th>\n",
       "      <td>M49T1__M61T15_1</td>\n",
       "      <td>0.965363</td>\n",
       "      <td>0.965363</td>\n",
       "    </tr>\n",
       "    <tr>\n",
       "      <th>12304</th>\n",
       "      <td>M49T1__M122T15</td>\n",
       "      <td>0.964226</td>\n",
       "      <td>0.964226</td>\n",
       "    </tr>\n",
       "    <tr>\n",
       "      <th>12307</th>\n",
       "      <td>M49T1__M121T15_1</td>\n",
       "      <td>0.952653</td>\n",
       "      <td>0.952653</td>\n",
       "    </tr>\n",
       "    <tr>\n",
       "      <th>17147</th>\n",
       "      <td>M62T1__M104T9_1</td>\n",
       "      <td>0.972185</td>\n",
       "      <td>0.972185</td>\n",
       "    </tr>\n",
       "    <tr>\n",
       "      <th>17195</th>\n",
       "      <td>M62T1__M181T9_1</td>\n",
       "      <td>0.959435</td>\n",
       "      <td>0.959435</td>\n",
       "    </tr>\n",
       "  </tbody>\n",
       "</table>\n",
       "</div>"
      ],
      "text/plain": [
       "           feature_pair  correlation  abs_correlation\n",
       "12282   M49T1__M61T15_1     0.965363         0.965363\n",
       "12304    M49T1__M122T15     0.964226         0.964226\n",
       "12307  M49T1__M121T15_1     0.952653         0.952653\n",
       "17147   M62T1__M104T9_1     0.972185         0.972185\n",
       "17195   M62T1__M181T9_1     0.959435         0.959435"
      ]
     },
     "execution_count": 22,
     "metadata": {},
     "output_type": "execute_result"
    }
   ],
   "source": [
    "highly_correlated_pair.head()"
   ]
  },
  {
   "cell_type": "code",
   "execution_count": 23,
   "metadata": {},
   "outputs": [
    {
     "data": {
      "text/plain": [
       "(43, 681)"
      ]
     },
     "execution_count": 23,
     "metadata": {},
     "output_type": "execute_result"
    }
   ],
   "source": [
    "X_no_corr_df.shape"
   ]
  },
  {
   "cell_type": "code",
   "execution_count": 24,
   "metadata": {},
   "outputs": [
    {
     "data": {
      "text/html": [
       "<div>\n",
       "<style scoped>\n",
       "    .dataframe tbody tr th:only-of-type {\n",
       "        vertical-align: middle;\n",
       "    }\n",
       "\n",
       "    .dataframe tbody tr th {\n",
       "        vertical-align: top;\n",
       "    }\n",
       "\n",
       "    .dataframe thead th {\n",
       "        text-align: right;\n",
       "    }\n",
       "</style>\n",
       "<table border=\"1\" class=\"dataframe\">\n",
       "  <thead>\n",
       "    <tr style=\"text-align: right;\">\n",
       "      <th></th>\n",
       "      <th>M151T1</th>\n",
       "      <th>M83T1</th>\n",
       "      <th>M101T1</th>\n",
       "      <th>M46T1</th>\n",
       "      <th>M49T1</th>\n",
       "      <th>M66T1</th>\n",
       "      <th>M62T1</th>\n",
       "      <th>M80T1</th>\n",
       "      <th>M137T1</th>\n",
       "      <th>M135T1</th>\n",
       "      <th>...</th>\n",
       "      <th>M177T24</th>\n",
       "      <th>M179T24_1</th>\n",
       "      <th>M160T24_1</th>\n",
       "      <th>M118T25_1</th>\n",
       "      <th>M149T25_1</th>\n",
       "      <th>M133T25_1</th>\n",
       "      <th>M77T25_3</th>\n",
       "      <th>M107T25</th>\n",
       "      <th>M136T26_1</th>\n",
       "      <th>M135T26_1</th>\n",
       "    </tr>\n",
       "  </thead>\n",
       "  <tbody>\n",
       "    <tr>\n",
       "      <th>0</th>\n",
       "      <td>16.048388</td>\n",
       "      <td>6064.292377</td>\n",
       "      <td>781.993514</td>\n",
       "      <td>802.020931</td>\n",
       "      <td>4694.204132</td>\n",
       "      <td>7.292742e+04</td>\n",
       "      <td>29491.232768</td>\n",
       "      <td>16.024791</td>\n",
       "      <td>1710.311517</td>\n",
       "      <td>610.786947</td>\n",
       "      <td>...</td>\n",
       "      <td>8763.226090</td>\n",
       "      <td>1955.094864</td>\n",
       "      <td>45189.932530</td>\n",
       "      <td>1454.883633</td>\n",
       "      <td>8600.367206</td>\n",
       "      <td>2515.842097</td>\n",
       "      <td>5009.445544</td>\n",
       "      <td>14497.249904</td>\n",
       "      <td>945.040761</td>\n",
       "      <td>6862.351212</td>\n",
       "    </tr>\n",
       "    <tr>\n",
       "      <th>1</th>\n",
       "      <td>2966.261917</td>\n",
       "      <td>134774.774889</td>\n",
       "      <td>62570.597315</td>\n",
       "      <td>18605.033364</td>\n",
       "      <td>23763.284044</td>\n",
       "      <td>6.268676e+06</td>\n",
       "      <td>392830.377721</td>\n",
       "      <td>5189.617648</td>\n",
       "      <td>1061.179026</td>\n",
       "      <td>63189.361143</td>\n",
       "      <td>...</td>\n",
       "      <td>83990.884777</td>\n",
       "      <td>25405.911733</td>\n",
       "      <td>336358.777640</td>\n",
       "      <td>130370.652612</td>\n",
       "      <td>93902.604529</td>\n",
       "      <td>717966.648513</td>\n",
       "      <td>294883.093401</td>\n",
       "      <td>350356.949201</td>\n",
       "      <td>104412.535580</td>\n",
       "      <td>204595.793530</td>\n",
       "    </tr>\n",
       "    <tr>\n",
       "      <th>2</th>\n",
       "      <td>8377.442132</td>\n",
       "      <td>54888.286191</td>\n",
       "      <td>7574.412552</td>\n",
       "      <td>24452.053496</td>\n",
       "      <td>8865.881271</td>\n",
       "      <td>8.122816e+05</td>\n",
       "      <td>470305.922774</td>\n",
       "      <td>2883.659359</td>\n",
       "      <td>4927.060920</td>\n",
       "      <td>68984.802047</td>\n",
       "      <td>...</td>\n",
       "      <td>167842.847318</td>\n",
       "      <td>45217.682193</td>\n",
       "      <td>279806.422505</td>\n",
       "      <td>76149.863150</td>\n",
       "      <td>114093.631133</td>\n",
       "      <td>122272.569502</td>\n",
       "      <td>339934.153420</td>\n",
       "      <td>260890.313895</td>\n",
       "      <td>38464.014754</td>\n",
       "      <td>430983.528860</td>\n",
       "    </tr>\n",
       "    <tr>\n",
       "      <th>3</th>\n",
       "      <td>37.609095</td>\n",
       "      <td>10440.984838</td>\n",
       "      <td>26.750624</td>\n",
       "      <td>88.923190</td>\n",
       "      <td>1827.264205</td>\n",
       "      <td>4.491165e+04</td>\n",
       "      <td>8166.159143</td>\n",
       "      <td>1374.437507</td>\n",
       "      <td>732.478087</td>\n",
       "      <td>1881.366829</td>\n",
       "      <td>...</td>\n",
       "      <td>104.323716</td>\n",
       "      <td>68.874332</td>\n",
       "      <td>1103.340199</td>\n",
       "      <td>324.393379</td>\n",
       "      <td>193.587466</td>\n",
       "      <td>1167.192877</td>\n",
       "      <td>1612.488181</td>\n",
       "      <td>911.409782</td>\n",
       "      <td>438.807757</td>\n",
       "      <td>5493.967431</td>\n",
       "    </tr>\n",
       "    <tr>\n",
       "      <th>4</th>\n",
       "      <td>115.438628</td>\n",
       "      <td>7287.725513</td>\n",
       "      <td>112.578791</td>\n",
       "      <td>28.656514</td>\n",
       "      <td>5843.718655</td>\n",
       "      <td>1.573132e+05</td>\n",
       "      <td>21056.733832</td>\n",
       "      <td>3441.212011</td>\n",
       "      <td>170.831961</td>\n",
       "      <td>284.265511</td>\n",
       "      <td>...</td>\n",
       "      <td>8217.623859</td>\n",
       "      <td>1813.530773</td>\n",
       "      <td>30148.132215</td>\n",
       "      <td>1902.473403</td>\n",
       "      <td>6568.375110</td>\n",
       "      <td>4522.037574</td>\n",
       "      <td>8474.697967</td>\n",
       "      <td>12300.660757</td>\n",
       "      <td>2305.994805</td>\n",
       "      <td>15030.665476</td>\n",
       "    </tr>\n",
       "  </tbody>\n",
       "</table>\n",
       "<p>5 rows × 681 columns</p>\n",
       "</div>"
      ],
      "text/plain": [
       "        M151T1          M83T1        M101T1         M46T1         M49T1  \\\n",
       "0    16.048388    6064.292377    781.993514    802.020931   4694.204132   \n",
       "1  2966.261917  134774.774889  62570.597315  18605.033364  23763.284044   \n",
       "2  8377.442132   54888.286191   7574.412552  24452.053496   8865.881271   \n",
       "3    37.609095   10440.984838     26.750624     88.923190   1827.264205   \n",
       "4   115.438628    7287.725513    112.578791     28.656514   5843.718655   \n",
       "\n",
       "          M66T1          M62T1        M80T1       M137T1        M135T1  ...  \\\n",
       "0  7.292742e+04   29491.232768    16.024791  1710.311517    610.786947  ...   \n",
       "1  6.268676e+06  392830.377721  5189.617648  1061.179026  63189.361143  ...   \n",
       "2  8.122816e+05  470305.922774  2883.659359  4927.060920  68984.802047  ...   \n",
       "3  4.491165e+04    8166.159143  1374.437507   732.478087   1881.366829  ...   \n",
       "4  1.573132e+05   21056.733832  3441.212011   170.831961    284.265511  ...   \n",
       "\n",
       "         M177T24     M179T24_1      M160T24_1      M118T25_1      M149T25_1  \\\n",
       "0    8763.226090   1955.094864   45189.932530    1454.883633    8600.367206   \n",
       "1   83990.884777  25405.911733  336358.777640  130370.652612   93902.604529   \n",
       "2  167842.847318  45217.682193  279806.422505   76149.863150  114093.631133   \n",
       "3     104.323716     68.874332    1103.340199     324.393379     193.587466   \n",
       "4    8217.623859   1813.530773   30148.132215    1902.473403    6568.375110   \n",
       "\n",
       "       M133T25_1       M77T25_3        M107T25      M136T26_1      M135T26_1  \n",
       "0    2515.842097    5009.445544   14497.249904     945.040761    6862.351212  \n",
       "1  717966.648513  294883.093401  350356.949201  104412.535580  204595.793530  \n",
       "2  122272.569502  339934.153420  260890.313895   38464.014754  430983.528860  \n",
       "3    1167.192877    1612.488181     911.409782     438.807757    5493.967431  \n",
       "4    4522.037574    8474.697967   12300.660757    2305.994805   15030.665476  \n",
       "\n",
       "[5 rows x 681 columns]"
      ]
     },
     "execution_count": 24,
     "metadata": {},
     "output_type": "execute_result"
    }
   ],
   "source": [
    "X_no_corr_df.head()"
   ]
  },
  {
   "cell_type": "code",
   "execution_count": null,
   "metadata": {},
   "outputs": [],
   "source": []
  },
  {
   "cell_type": "code",
   "execution_count": 25,
   "metadata": {},
   "outputs": [],
   "source": [
    "kmeans2 = KMeans(n_clusters=2, random_state=83741384, algorithm = \"full\").fit(X_no_corr_df.values)"
   ]
  },
  {
   "cell_type": "code",
   "execution_count": 26,
   "metadata": {},
   "outputs": [
    {
     "data": {
      "text/plain": [
       "array([0, 1, 0, 0, 0, 0, 0, 0, 0, 0, 0, 0, 0, 0, 0, 0, 0, 1, 0, 0, 0, 0,\n",
       "       0, 0, 1, 0, 0, 0, 0, 0, 0, 0, 0, 0, 0, 0, 0, 0, 0, 0, 0, 0, 0],\n",
       "      dtype=int32)"
      ]
     },
     "execution_count": 26,
     "metadata": {},
     "output_type": "execute_result"
    }
   ],
   "source": [
    "kmeans2.labels_"
   ]
  },
  {
   "cell_type": "code",
   "execution_count": 27,
   "metadata": {},
   "outputs": [
    {
     "name": "stdout",
     "output_type": "stream",
     "text": [
      "Homogeneity: 0.04552933928953474\n",
      "Completeness: 0.11353775259842998\n",
      "V-measure: 0.06499520169597431\n"
     ]
    }
   ],
   "source": [
    "print_metric(data.ID_num.values, kmeans2.labels_)"
   ]
  },
  {
   "cell_type": "code",
   "execution_count": null,
   "metadata": {},
   "outputs": [],
   "source": []
  },
  {
   "cell_type": "code",
   "execution_count": null,
   "metadata": {},
   "outputs": [],
   "source": []
  },
  {
   "cell_type": "markdown",
   "metadata": {},
   "source": [
    "# Full Dataset min-max scaled\n",
    "\n",
    "Standard scaling works worse for all methods"
   ]
  },
  {
   "cell_type": "code",
   "execution_count": 14,
   "metadata": {},
   "outputs": [],
   "source": [
    "X_raw = data.values[:,2:]\n",
    "X_scaled = MinMaxScaler().fit_transform(X_raw)"
   ]
  },
  {
   "cell_type": "code",
   "execution_count": 15,
   "metadata": {},
   "outputs": [],
   "source": [
    "data_scaled = pd.DataFrame(X_scaled, columns = data.columns[2:])"
   ]
  },
  {
   "cell_type": "code",
   "execution_count": 16,
   "metadata": {},
   "outputs": [],
   "source": [
    "data_scaled.insert(0, 'ID', data.ID.values)\n",
    "data_scaled.insert(1, 'ID_num', data.ID_num.values)"
   ]
  },
  {
   "cell_type": "code",
   "execution_count": 17,
   "metadata": {},
   "outputs": [
    {
     "data": {
      "text/html": [
       "<div>\n",
       "<style scoped>\n",
       "    .dataframe tbody tr th:only-of-type {\n",
       "        vertical-align: middle;\n",
       "    }\n",
       "\n",
       "    .dataframe tbody tr th {\n",
       "        vertical-align: top;\n",
       "    }\n",
       "\n",
       "    .dataframe thead th {\n",
       "        text-align: right;\n",
       "    }\n",
       "</style>\n",
       "<table border=\"1\" class=\"dataframe\">\n",
       "  <thead>\n",
       "    <tr style=\"text-align: right;\">\n",
       "      <th></th>\n",
       "      <th>ID</th>\n",
       "      <th>ID_num</th>\n",
       "      <th>M151T1</th>\n",
       "      <th>M83T1</th>\n",
       "      <th>M101T1</th>\n",
       "      <th>M46T1</th>\n",
       "      <th>M49T1</th>\n",
       "      <th>M66T1</th>\n",
       "      <th>M62T1</th>\n",
       "      <th>M80T1</th>\n",
       "      <th>...</th>\n",
       "      <th>M110T26_1</th>\n",
       "      <th>M121T26_1</th>\n",
       "      <th>M175T26_1</th>\n",
       "      <th>M124T26_1</th>\n",
       "      <th>M138T26_2</th>\n",
       "      <th>M85T26_2</th>\n",
       "      <th>M174T26</th>\n",
       "      <th>M123T26_1</th>\n",
       "      <th>M91T26</th>\n",
       "      <th>M94T26</th>\n",
       "    </tr>\n",
       "  </thead>\n",
       "  <tbody>\n",
       "    <tr>\n",
       "      <th>0</th>\n",
       "      <td>Healthy</td>\n",
       "      <td>0</td>\n",
       "      <td>0.000000</td>\n",
       "      <td>0.000473</td>\n",
       "      <td>0.001771</td>\n",
       "      <td>0.007110</td>\n",
       "      <td>0.005539</td>\n",
       "      <td>0.002965</td>\n",
       "      <td>0.004136</td>\n",
       "      <td>0.000000</td>\n",
       "      <td>...</td>\n",
       "      <td>0.010292</td>\n",
       "      <td>0.010465</td>\n",
       "      <td>0.014761</td>\n",
       "      <td>0.010935</td>\n",
       "      <td>0.010958</td>\n",
       "      <td>0.013937</td>\n",
       "      <td>0.006530</td>\n",
       "      <td>0.008662</td>\n",
       "      <td>0.005817</td>\n",
       "      <td>0.008167</td>\n",
       "    </tr>\n",
       "    <tr>\n",
       "      <th>1</th>\n",
       "      <td>Healthy</td>\n",
       "      <td>0</td>\n",
       "      <td>0.000925</td>\n",
       "      <td>0.010704</td>\n",
       "      <td>0.146647</td>\n",
       "      <td>0.170794</td>\n",
       "      <td>0.028064</td>\n",
       "      <td>0.258369</td>\n",
       "      <td>0.055378</td>\n",
       "      <td>0.003457</td>\n",
       "      <td>...</td>\n",
       "      <td>0.421972</td>\n",
       "      <td>0.423447</td>\n",
       "      <td>0.421684</td>\n",
       "      <td>0.586169</td>\n",
       "      <td>0.442528</td>\n",
       "      <td>0.655437</td>\n",
       "      <td>0.294707</td>\n",
       "      <td>0.427273</td>\n",
       "      <td>0.236570</td>\n",
       "      <td>0.482057</td>\n",
       "    </tr>\n",
       "    <tr>\n",
       "      <th>2</th>\n",
       "      <td>Healthy</td>\n",
       "      <td>0</td>\n",
       "      <td>0.002622</td>\n",
       "      <td>0.004354</td>\n",
       "      <td>0.017697</td>\n",
       "      <td>0.224552</td>\n",
       "      <td>0.010467</td>\n",
       "      <td>0.033443</td>\n",
       "      <td>0.066304</td>\n",
       "      <td>0.001916</td>\n",
       "      <td>...</td>\n",
       "      <td>0.499974</td>\n",
       "      <td>0.524818</td>\n",
       "      <td>0.469430</td>\n",
       "      <td>0.645342</td>\n",
       "      <td>0.511509</td>\n",
       "      <td>0.350835</td>\n",
       "      <td>0.368862</td>\n",
       "      <td>0.563797</td>\n",
       "      <td>0.468918</td>\n",
       "      <td>0.399466</td>\n",
       "    </tr>\n",
       "    <tr>\n",
       "      <th>3</th>\n",
       "      <td>Healthy</td>\n",
       "      <td>0</td>\n",
       "      <td>0.000007</td>\n",
       "      <td>0.000821</td>\n",
       "      <td>0.000000</td>\n",
       "      <td>0.000554</td>\n",
       "      <td>0.002153</td>\n",
       "      <td>0.001810</td>\n",
       "      <td>0.001128</td>\n",
       "      <td>0.000908</td>\n",
       "      <td>...</td>\n",
       "      <td>0.000000</td>\n",
       "      <td>0.000000</td>\n",
       "      <td>0.000000</td>\n",
       "      <td>0.000000</td>\n",
       "      <td>0.000000</td>\n",
       "      <td>0.000000</td>\n",
       "      <td>0.000000</td>\n",
       "      <td>0.000000</td>\n",
       "      <td>0.000000</td>\n",
       "      <td>0.000000</td>\n",
       "    </tr>\n",
       "    <tr>\n",
       "      <th>4</th>\n",
       "      <td>Healthy</td>\n",
       "      <td>0</td>\n",
       "      <td>0.000031</td>\n",
       "      <td>0.000570</td>\n",
       "      <td>0.000201</td>\n",
       "      <td>0.000000</td>\n",
       "      <td>0.006897</td>\n",
       "      <td>0.006444</td>\n",
       "      <td>0.002946</td>\n",
       "      <td>0.002289</td>\n",
       "      <td>...</td>\n",
       "      <td>0.012702</td>\n",
       "      <td>0.021457</td>\n",
       "      <td>0.008817</td>\n",
       "      <td>0.020555</td>\n",
       "      <td>0.018840</td>\n",
       "      <td>0.011165</td>\n",
       "      <td>0.012353</td>\n",
       "      <td>0.019140</td>\n",
       "      <td>0.010214</td>\n",
       "      <td>0.014001</td>\n",
       "    </tr>\n",
       "  </tbody>\n",
       "</table>\n",
       "<p>5 rows × 2736 columns</p>\n",
       "</div>"
      ],
      "text/plain": [
       "        ID  ID_num    M151T1     M83T1    M101T1     M46T1     M49T1  \\\n",
       "0  Healthy       0  0.000000  0.000473  0.001771  0.007110  0.005539   \n",
       "1  Healthy       0  0.000925  0.010704  0.146647  0.170794  0.028064   \n",
       "2  Healthy       0  0.002622  0.004354  0.017697  0.224552  0.010467   \n",
       "3  Healthy       0  0.000007  0.000821  0.000000  0.000554  0.002153   \n",
       "4  Healthy       0  0.000031  0.000570  0.000201  0.000000  0.006897   \n",
       "\n",
       "      M66T1     M62T1     M80T1  ...  M110T26_1  M121T26_1  M175T26_1  \\\n",
       "0  0.002965  0.004136  0.000000  ...   0.010292   0.010465   0.014761   \n",
       "1  0.258369  0.055378  0.003457  ...   0.421972   0.423447   0.421684   \n",
       "2  0.033443  0.066304  0.001916  ...   0.499974   0.524818   0.469430   \n",
       "3  0.001810  0.001128  0.000908  ...   0.000000   0.000000   0.000000   \n",
       "4  0.006444  0.002946  0.002289  ...   0.012702   0.021457   0.008817   \n",
       "\n",
       "   M124T26_1  M138T26_2  M85T26_2   M174T26  M123T26_1    M91T26    M94T26  \n",
       "0   0.010935   0.010958  0.013937  0.006530   0.008662  0.005817  0.008167  \n",
       "1   0.586169   0.442528  0.655437  0.294707   0.427273  0.236570  0.482057  \n",
       "2   0.645342   0.511509  0.350835  0.368862   0.563797  0.468918  0.399466  \n",
       "3   0.000000   0.000000  0.000000  0.000000   0.000000  0.000000  0.000000  \n",
       "4   0.020555   0.018840  0.011165  0.012353   0.019140  0.010214  0.014001  \n",
       "\n",
       "[5 rows x 2736 columns]"
      ]
     },
     "execution_count": 17,
     "metadata": {},
     "output_type": "execute_result"
    }
   ],
   "source": [
    "data_scaled.head()"
   ]
  },
  {
   "cell_type": "code",
   "execution_count": 18,
   "metadata": {},
   "outputs": [
    {
     "data": {
      "text/plain": [
       "(43, 2736)"
      ]
     },
     "execution_count": 18,
     "metadata": {},
     "output_type": "execute_result"
    }
   ],
   "source": [
    "data_scaled.shape"
   ]
  },
  {
   "cell_type": "code",
   "execution_count": 19,
   "metadata": {},
   "outputs": [],
   "source": [
    "kmeans = KMeans(n_clusters=2, random_state=83741384, algorithm = \"full\").fit(data_scaled.values[:,2:])"
   ]
  },
  {
   "cell_type": "code",
   "execution_count": 20,
   "metadata": {},
   "outputs": [
    {
     "data": {
      "text/plain": [
       "array([0, 1, 1, 0, 0, 1, 1, 0, 0, 0, 0, 0, 0, 0, 0, 0, 0, 1, 0, 0, 0, 0,\n",
       "       0, 0, 1, 0, 0, 0, 0, 0, 0, 0, 0, 0, 0, 0, 0, 0, 0, 0, 0, 0, 0],\n",
       "      dtype=int32)"
      ]
     },
     "execution_count": 20,
     "metadata": {},
     "output_type": "execute_result"
    }
   ],
   "source": [
    "kmeans.labels_"
   ]
  },
  {
   "cell_type": "code",
   "execution_count": 21,
   "metadata": {},
   "outputs": [
    {
     "name": "stdout",
     "output_type": "stream",
     "text": [
      "Homogeneity: 0.09554449451081323\n",
      "Completeness: 0.14918670452065427\n",
      "V-measure: 0.11648672770427766\n"
     ]
    }
   ],
   "source": [
    "print_metric(data.ID_num.values, kmeans.labels_)"
   ]
  },
  {
   "cell_type": "code",
   "execution_count": null,
   "metadata": {},
   "outputs": [],
   "source": []
  },
  {
   "cell_type": "markdown",
   "metadata": {},
   "source": [
    "# Indepenedent variables subjected to PCA"
   ]
  },
  {
   "cell_type": "code",
   "execution_count": 33,
   "metadata": {},
   "outputs": [],
   "source": [
    "pca = PCA(n_components=20)\n",
    "principalComponents = pca.fit_transform(X_no_corr_df.values)\n",
    "kmeans3 = KMeans(n_clusters=2, random_state=83741384, algorithm = \"full\").fit(principalComponents)\n"
   ]
  },
  {
   "cell_type": "code",
   "execution_count": 34,
   "metadata": {},
   "outputs": [
    {
     "data": {
      "text/plain": [
       "array([0, 1, 1, 0, 0, 1, 1, 0, 0, 0, 0, 0, 0, 0, 0, 0, 0, 1, 0, 0, 0, 0,\n",
       "       0, 0, 1, 0, 0, 0, 0, 0, 0, 0, 0, 0, 0, 0, 0, 0, 0, 0, 0, 0, 0],\n",
       "      dtype=int32)"
      ]
     },
     "execution_count": 34,
     "metadata": {},
     "output_type": "execute_result"
    }
   ],
   "source": [
    "kmeans3.labels_"
   ]
  },
  {
   "cell_type": "code",
   "execution_count": 35,
   "metadata": {},
   "outputs": [
    {
     "name": "stdout",
     "output_type": "stream",
     "text": [
      "Homogeneity: 0.09554449451081323\n",
      "Completeness: 0.14918670452065427\n",
      "V-measure: 0.11648672770427766\n"
     ]
    }
   ],
   "source": [
    "print_metric(data.ID_num.values, kmeans3.labels_)"
   ]
  },
  {
   "cell_type": "code",
   "execution_count": 36,
   "metadata": {},
   "outputs": [],
   "source": [
    "# n_components = list(range(1,44))\n",
    "# pca_randIndex = []\n",
    "# for n in n_components:\n",
    "#     pca = PCA(n_components=n)\n",
    "#     principalComponents = pca.fit_transform(x_scaled)\n",
    "#     kmeans3 = KMeans(n_clusters=2, random_state=83741384, algorithm = \"full\").fit(principalComponents)\n",
    "#     pca_randIndex.append(adjusted_rand_score(data.ID.values, kmeans3.labels_))\n",
    "    "
   ]
  },
  {
   "cell_type": "code",
   "execution_count": null,
   "metadata": {},
   "outputs": [],
   "source": []
  },
  {
   "cell_type": "code",
   "execution_count": 37,
   "metadata": {},
   "outputs": [],
   "source": [
    "pca2D = PCA(n_components=2)\n",
    "principalComponents_2D = pca2D.fit_transform(X_no_corr_df.values)\n",
    "principalDf = pd.DataFrame(data = principalComponents_2D\n",
    "             , columns = ['principal component 1', 'principal component 2'])"
   ]
  },
  {
   "cell_type": "code",
   "execution_count": 38,
   "metadata": {},
   "outputs": [
    {
     "data": {
      "text/plain": [
       "(43, 2)"
      ]
     },
     "execution_count": 38,
     "metadata": {},
     "output_type": "execute_result"
    }
   ],
   "source": [
    "principalDf.shape"
   ]
  },
  {
   "cell_type": "code",
   "execution_count": 39,
   "metadata": {},
   "outputs": [],
   "source": [
    "pcaDf = pd.concat([principalDf, data[['ID']]], axis = 1)"
   ]
  },
  {
   "cell_type": "code",
   "execution_count": 40,
   "metadata": {},
   "outputs": [
    {
     "data": {
      "text/html": [
       "<div>\n",
       "<style scoped>\n",
       "    .dataframe tbody tr th:only-of-type {\n",
       "        vertical-align: middle;\n",
       "    }\n",
       "\n",
       "    .dataframe tbody tr th {\n",
       "        vertical-align: top;\n",
       "    }\n",
       "\n",
       "    .dataframe thead th {\n",
       "        text-align: right;\n",
       "    }\n",
       "</style>\n",
       "<table border=\"1\" class=\"dataframe\">\n",
       "  <thead>\n",
       "    <tr style=\"text-align: right;\">\n",
       "      <th></th>\n",
       "      <th>principal component 1</th>\n",
       "      <th>principal component 2</th>\n",
       "      <th>ID</th>\n",
       "    </tr>\n",
       "  </thead>\n",
       "  <tbody>\n",
       "    <tr>\n",
       "      <th>0</th>\n",
       "      <td>-3.149311</td>\n",
       "      <td>-0.523162</td>\n",
       "      <td>Healthy</td>\n",
       "    </tr>\n",
       "    <tr>\n",
       "      <th>1</th>\n",
       "      <td>8.306503</td>\n",
       "      <td>-2.810530</td>\n",
       "      <td>Healthy</td>\n",
       "    </tr>\n",
       "    <tr>\n",
       "      <th>2</th>\n",
       "      <td>4.872638</td>\n",
       "      <td>-1.949082</td>\n",
       "      <td>Healthy</td>\n",
       "    </tr>\n",
       "    <tr>\n",
       "      <th>3</th>\n",
       "      <td>-3.459398</td>\n",
       "      <td>-0.576416</td>\n",
       "      <td>Healthy</td>\n",
       "    </tr>\n",
       "    <tr>\n",
       "      <th>4</th>\n",
       "      <td>-3.434106</td>\n",
       "      <td>-0.618900</td>\n",
       "      <td>Healthy</td>\n",
       "    </tr>\n",
       "  </tbody>\n",
       "</table>\n",
       "</div>"
      ],
      "text/plain": [
       "   principal component 1  principal component 2       ID\n",
       "0              -3.149311              -0.523162  Healthy\n",
       "1               8.306503              -2.810530  Healthy\n",
       "2               4.872638              -1.949082  Healthy\n",
       "3              -3.459398              -0.576416  Healthy\n",
       "4              -3.434106              -0.618900  Healthy"
      ]
     },
     "execution_count": 40,
     "metadata": {},
     "output_type": "execute_result"
    }
   ],
   "source": [
    "pcaDf.head()"
   ]
  },
  {
   "cell_type": "code",
   "execution_count": 41,
   "metadata": {},
   "outputs": [
    {
     "data": {
      "image/png": "[encoded data removed]",
      "text/plain": [
       "<Figure size 576x576 with 1 Axes>"
      ]
     },
     "metadata": {
      "needs_background": "light"
     },
     "output_type": "display_data"
    }
   ],
   "source": [
    "fig = plt.figure(figsize = (8,8))\n",
    "ax = fig.add_subplot(1,1,1) \n",
    "ax.set_xlabel('Principal Component 1', fontsize = 15)\n",
    "ax.set_ylabel('Principal Component 2', fontsize = 15)\n",
    "ax.set_title('2 component PCA', fontsize = 20)\n",
    "\n",
    "targets = ['Healthy', 'Asthmatic']\n",
    "colors = ['r', 'b']\n",
    "\n",
    "for target, color in zip(targets,colors):\n",
    "    indicesToKeep = pcaDf['ID'] == target\n",
    "    ax.scatter(pcaDf.loc[indicesToKeep, 'principal component 1']\n",
    "               , pcaDf.loc[indicesToKeep, 'principal component 2']\n",
    "               , c = color\n",
    "               , s = 50)\n",
    "ax.legend(targets)\n",
    "ax.grid()"
   ]
  },
  {
   "cell_type": "markdown",
   "metadata": {},
   "source": [
    "# Independent variables subjected to TSNe"
   ]
  },
  {
   "cell_type": "markdown",
   "metadata": {},
   "source": [
    "## Only TSNE"
   ]
  },
  {
   "cell_type": "code",
   "execution_count": 42,
   "metadata": {},
   "outputs": [],
   "source": [
    "X_embedded = TSNE(n_components=2).fit_transform(X_no_corr_df.values)"
   ]
  },
  {
   "cell_type": "code",
   "execution_count": 43,
   "metadata": {},
   "outputs": [],
   "source": [
    "kmeans4 = KMeans(n_clusters=2, random_state=83741384, algorithm = \"full\").fit(X_embedded)"
   ]
  },
  {
   "cell_type": "code",
   "execution_count": 44,
   "metadata": {},
   "outputs": [
    {
     "data": {
      "text/plain": [
       "array([0, 1, 1, 0, 0, 1, 1, 0, 0, 0, 0, 0, 0, 0, 0, 0, 0, 1, 1, 1, 0, 0,\n",
       "       1, 1, 1, 1, 0, 0, 1, 1, 1, 0, 0, 1, 1, 0, 0, 0, 0, 1, 0, 0, 0],\n",
       "      dtype=int32)"
      ]
     },
     "execution_count": 44,
     "metadata": {},
     "output_type": "execute_result"
    }
   ],
   "source": [
    "kmeans4.labels_"
   ]
  },
  {
   "cell_type": "code",
   "execution_count": 45,
   "metadata": {},
   "outputs": [
    {
     "name": "stdout",
     "output_type": "stream",
     "text": [
      "Homogeneity: 0.002351503063694798\n",
      "Completeness: 0.0022110764696554193\n",
      "V-measure: 0.002279128749188251\n"
     ]
    }
   ],
   "source": [
    "print_metric(data.ID_num.values, kmeans4.labels_)"
   ]
  },
  {
   "cell_type": "markdown",
   "metadata": {},
   "source": [
    "## TSNE After PCA"
   ]
  },
  {
   "cell_type": "code",
   "execution_count": 46,
   "metadata": {},
   "outputs": [],
   "source": [
    "pca = PCA(n_components=20)\n",
    "principalComponents = pca.fit_transform(X_no_corr_df.values)"
   ]
  },
  {
   "cell_type": "code",
   "execution_count": 47,
   "metadata": {},
   "outputs": [],
   "source": [
    "X_embedded = TSNE(n_components=2).fit_transform(principalComponents)"
   ]
  },
  {
   "cell_type": "code",
   "execution_count": 48,
   "metadata": {},
   "outputs": [],
   "source": [
    "kmeans5 = KMeans(n_clusters=2, random_state=83741384, algorithm = \"full\").fit(X_embedded)"
   ]
  },
  {
   "cell_type": "code",
   "execution_count": 49,
   "metadata": {},
   "outputs": [
    {
     "data": {
      "text/plain": [
       "array([0, 1, 1, 0, 0, 1, 1, 0, 0, 0, 0, 0, 0, 0, 0, 0, 0, 1, 0, 0, 0, 0,\n",
       "       1, 1, 1, 1, 0, 0, 1, 1, 1, 0, 1, 1, 1, 0, 0, 0, 0, 0, 0, 0, 1],\n",
       "      dtype=int32)"
      ]
     },
     "execution_count": 49,
     "metadata": {},
     "output_type": "execute_result"
    }
   ],
   "source": [
    "kmeans5.labels_"
   ]
  },
  {
   "cell_type": "code",
   "execution_count": 50,
   "metadata": {},
   "outputs": [
    {
     "name": "stdout",
     "output_type": "stream",
     "text": [
      "Homogeneity: 0.005177749582259576\n",
      "Completeness: 0.004949831406357561\n",
      "V-measure: 0.005061225879176639\n"
     ]
    }
   ],
   "source": [
    "print_metric(data.ID_num.values, kmeans5.labels_)"
   ]
  },
  {
   "cell_type": "code",
   "execution_count": null,
   "metadata": {},
   "outputs": [],
   "source": []
  },
  {
   "cell_type": "code",
   "execution_count": 51,
   "metadata": {},
   "outputs": [],
   "source": [
    "TSNEDf = pd.DataFrame(data = X_embedded\n",
    "             , columns = ['Component 1', 'Component 2'])"
   ]
  },
  {
   "cell_type": "code",
   "execution_count": 52,
   "metadata": {},
   "outputs": [],
   "source": [
    "TSNEDf = pd.concat([TSNEDf, data[['ID']]], axis = 1)"
   ]
  },
  {
   "cell_type": "code",
   "execution_count": 53,
   "metadata": {},
   "outputs": [
    {
     "data": {
      "text/html": [
       "<div>\n",
       "<style scoped>\n",
       "    .dataframe tbody tr th:only-of-type {\n",
       "        vertical-align: middle;\n",
       "    }\n",
       "\n",
       "    .dataframe tbody tr th {\n",
       "        vertical-align: top;\n",
       "    }\n",
       "\n",
       "    .dataframe thead th {\n",
       "        text-align: right;\n",
       "    }\n",
       "</style>\n",
       "<table border=\"1\" class=\"dataframe\">\n",
       "  <thead>\n",
       "    <tr style=\"text-align: right;\">\n",
       "      <th></th>\n",
       "      <th>Component 1</th>\n",
       "      <th>Component 2</th>\n",
       "      <th>ID</th>\n",
       "    </tr>\n",
       "  </thead>\n",
       "  <tbody>\n",
       "    <tr>\n",
       "      <th>0</th>\n",
       "      <td>-7.371060</td>\n",
       "      <td>-43.237347</td>\n",
       "      <td>Healthy</td>\n",
       "    </tr>\n",
       "    <tr>\n",
       "      <th>1</th>\n",
       "      <td>51.782528</td>\n",
       "      <td>70.358269</td>\n",
       "      <td>Healthy</td>\n",
       "    </tr>\n",
       "    <tr>\n",
       "      <th>2</th>\n",
       "      <td>39.604801</td>\n",
       "      <td>53.064106</td>\n",
       "      <td>Healthy</td>\n",
       "    </tr>\n",
       "    <tr>\n",
       "      <th>3</th>\n",
       "      <td>-1.222587</td>\n",
       "      <td>-29.169823</td>\n",
       "      <td>Healthy</td>\n",
       "    </tr>\n",
       "    <tr>\n",
       "      <th>4</th>\n",
       "      <td>10.313186</td>\n",
       "      <td>-39.780895</td>\n",
       "      <td>Healthy</td>\n",
       "    </tr>\n",
       "  </tbody>\n",
       "</table>\n",
       "</div>"
      ],
      "text/plain": [
       "   Component 1  Component 2       ID\n",
       "0    -7.371060   -43.237347  Healthy\n",
       "1    51.782528    70.358269  Healthy\n",
       "2    39.604801    53.064106  Healthy\n",
       "3    -1.222587   -29.169823  Healthy\n",
       "4    10.313186   -39.780895  Healthy"
      ]
     },
     "execution_count": 53,
     "metadata": {},
     "output_type": "execute_result"
    }
   ],
   "source": [
    "TSNEDf.head()"
   ]
  },
  {
   "cell_type": "code",
   "execution_count": 54,
   "metadata": {},
   "outputs": [
    {
     "data": {
      "image/png": "[encoded data removed]",
      "text/plain": [
       "<Figure size 576x576 with 1 Axes>"
      ]
     },
     "metadata": {
      "needs_background": "light"
     },
     "output_type": "display_data"
    }
   ],
   "source": [
    "fig = plt.figure(figsize = (8,8))\n",
    "ax = fig.add_subplot(1,1,1) \n",
    "ax.set_xlabel('Component 1', fontsize = 15)\n",
    "ax.set_ylabel('Component 2', fontsize = 15)\n",
    "ax.set_title('2 component TSNE', fontsize = 20)\n",
    "\n",
    "targets = ['Healthy', 'Asthmatic']\n",
    "colors = ['r', 'b']\n",
    "\n",
    "for target, color in zip(targets,colors):\n",
    "    indicesToKeep = TSNEDf['ID'] == target\n",
    "    ax.scatter(TSNEDf.loc[indicesToKeep, 'Component 1']\n",
    "               , TSNEDf.loc[indicesToKeep, 'Component 2']\n",
    "               , c = color\n",
    "               , s = 50)\n",
    "ax.legend(targets)\n",
    "ax.grid()"
   ]
  },
  {
   "cell_type": "markdown",
   "metadata": {},
   "source": [
    "# Clustering individual columns"
   ]
  },
  {
   "cell_type": "code",
   "execution_count": 112,
   "metadata": {},
   "outputs": [],
   "source": [
    "col_name = X_no_corr_df.columns\n",
    "univariate_Vmeasure = []\n",
    "for col in col_name:\n",
    "    kmeans = KMeans(n_clusters=2, random_state=83741384, algorithm = \"full\").fit(X_no_corr_df[col].values.reshape(-1,1))\n",
    "    univariate_Vmeasure.append(metrics.v_measure_score(data.ID_num.values, kmeans.labels_))"
   ]
  },
  {
   "cell_type": "code",
   "execution_count": 113,
   "metadata": {},
   "outputs": [],
   "source": [
    "univariate_Vmeasure = np.array(univariate_Vmeasure)"
   ]
  },
  {
   "cell_type": "code",
   "execution_count": 114,
   "metadata": {},
   "outputs": [
    {
     "data": {
      "text/plain": [
       "0.22022404214662397"
      ]
     },
     "execution_count": 114,
     "metadata": {},
     "output_type": "execute_result"
    }
   ],
   "source": [
    "max(univariate_Vmeasure)"
   ]
  },
  {
   "cell_type": "code",
   "execution_count": 115,
   "metadata": {},
   "outputs": [
    {
     "data": {
      "text/plain": [
       "173"
      ]
     },
     "execution_count": 115,
     "metadata": {},
     "output_type": "execute_result"
    }
   ],
   "source": [
    "np.argmax(univariate_Vmeasure)"
   ]
  },
  {
   "cell_type": "code",
   "execution_count": 116,
   "metadata": {},
   "outputs": [
    {
     "data": {
      "text/plain": [
       "'M97T3_2'"
      ]
     },
     "execution_count": 116,
     "metadata": {},
     "output_type": "execute_result"
    }
   ],
   "source": [
    "col_name[173]"
   ]
  },
  {
   "cell_type": "code",
   "execution_count": 117,
   "metadata": {},
   "outputs": [
    {
     "data": {
      "text/plain": [
       "2.3131079961579786e-05"
      ]
     },
     "execution_count": 117,
     "metadata": {},
     "output_type": "execute_result"
    }
   ],
   "source": [
    "min(univariate_Vmeasure)"
   ]
  },
  {
   "cell_type": "code",
   "execution_count": null,
   "metadata": {},
   "outputs": [],
   "source": []
  },
  {
   "cell_type": "code",
   "execution_count": null,
   "metadata": {},
   "outputs": [],
   "source": []
  },
  {
   "cell_type": "markdown",
   "metadata": {},
   "source": [
    "# Relief Methods"
   ]
  },
  {
   "cell_type": "markdown",
   "metadata": {},
   "source": [
    "## Relief-F"
   ]
  },
  {
   "cell_type": "code",
   "execution_count": 60,
   "metadata": {},
   "outputs": [
    {
     "data": {
      "text/html": [
       "<div>\n",
       "<style scoped>\n",
       "    .dataframe tbody tr th:only-of-type {\n",
       "        vertical-align: middle;\n",
       "    }\n",
       "\n",
       "    .dataframe tbody tr th {\n",
       "        vertical-align: top;\n",
       "    }\n",
       "\n",
       "    .dataframe thead th {\n",
       "        text-align: right;\n",
       "    }\n",
       "</style>\n",
       "<table border=\"1\" class=\"dataframe\">\n",
       "  <thead>\n",
       "    <tr style=\"text-align: right;\">\n",
       "      <th></th>\n",
       "      <th>M151T1</th>\n",
       "      <th>M83T1</th>\n",
       "      <th>M101T1</th>\n",
       "      <th>M46T1</th>\n",
       "      <th>M49T1</th>\n",
       "      <th>M66T1</th>\n",
       "      <th>M62T1</th>\n",
       "      <th>M80T1</th>\n",
       "      <th>M137T1</th>\n",
       "      <th>M135T1</th>\n",
       "      <th>...</th>\n",
       "      <th>M177T24</th>\n",
       "      <th>M179T24_1</th>\n",
       "      <th>M160T24_1</th>\n",
       "      <th>M118T25_1</th>\n",
       "      <th>M149T25_1</th>\n",
       "      <th>M133T25_1</th>\n",
       "      <th>M77T25_3</th>\n",
       "      <th>M107T25</th>\n",
       "      <th>M136T26_1</th>\n",
       "      <th>M135T26_1</th>\n",
       "    </tr>\n",
       "  </thead>\n",
       "  <tbody>\n",
       "    <tr>\n",
       "      <th>0</th>\n",
       "      <td>0.000000</td>\n",
       "      <td>0.000473</td>\n",
       "      <td>0.001771</td>\n",
       "      <td>0.007110</td>\n",
       "      <td>0.005539</td>\n",
       "      <td>0.002965</td>\n",
       "      <td>0.004136</td>\n",
       "      <td>0.000000</td>\n",
       "      <td>0.033043</td>\n",
       "      <td>0.003564</td>\n",
       "      <td>...</td>\n",
       "      <td>0.012077</td>\n",
       "      <td>0.017227</td>\n",
       "      <td>0.043644</td>\n",
       "      <td>0.005270</td>\n",
       "      <td>0.016446</td>\n",
       "      <td>0.002719</td>\n",
       "      <td>0.000969</td>\n",
       "      <td>0.020756</td>\n",
       "      <td>0.002987</td>\n",
       "      <td>0.003695</td>\n",
       "    </tr>\n",
       "    <tr>\n",
       "      <th>1</th>\n",
       "      <td>0.000925</td>\n",
       "      <td>0.010704</td>\n",
       "      <td>0.146647</td>\n",
       "      <td>0.170794</td>\n",
       "      <td>0.028064</td>\n",
       "      <td>0.258369</td>\n",
       "      <td>0.055378</td>\n",
       "      <td>0.003457</td>\n",
       "      <td>0.020225</td>\n",
       "      <td>0.448607</td>\n",
       "      <td>...</td>\n",
       "      <td>0.117003</td>\n",
       "      <td>0.231409</td>\n",
       "      <td>0.326234</td>\n",
       "      <td>0.606226</td>\n",
       "      <td>0.183323</td>\n",
       "      <td>1.000000</td>\n",
       "      <td>0.083681</td>\n",
       "      <td>0.533868</td>\n",
       "      <td>0.533529</td>\n",
       "      <td>0.197654</td>\n",
       "    </tr>\n",
       "    <tr>\n",
       "      <th>2</th>\n",
       "      <td>0.002622</td>\n",
       "      <td>0.004354</td>\n",
       "      <td>0.017697</td>\n",
       "      <td>0.224552</td>\n",
       "      <td>0.010467</td>\n",
       "      <td>0.033443</td>\n",
       "      <td>0.066304</td>\n",
       "      <td>0.001916</td>\n",
       "      <td>0.096564</td>\n",
       "      <td>0.489823</td>\n",
       "      <td>...</td>\n",
       "      <td>0.233958</td>\n",
       "      <td>0.412355</td>\n",
       "      <td>0.271348</td>\n",
       "      <td>0.353469</td>\n",
       "      <td>0.222822</td>\n",
       "      <td>0.169650</td>\n",
       "      <td>0.096536</td>\n",
       "      <td>0.397185</td>\n",
       "      <td>0.195370</td>\n",
       "      <td>0.419720</td>\n",
       "    </tr>\n",
       "    <tr>\n",
       "      <th>3</th>\n",
       "      <td>0.000007</td>\n",
       "      <td>0.000821</td>\n",
       "      <td>0.000000</td>\n",
       "      <td>0.000554</td>\n",
       "      <td>0.002153</td>\n",
       "      <td>0.001810</td>\n",
       "      <td>0.001128</td>\n",
       "      <td>0.000908</td>\n",
       "      <td>0.013734</td>\n",
       "      <td>0.012600</td>\n",
       "      <td>...</td>\n",
       "      <td>0.000000</td>\n",
       "      <td>0.000000</td>\n",
       "      <td>0.000856</td>\n",
       "      <td>0.000000</td>\n",
       "      <td>0.000000</td>\n",
       "      <td>0.000839</td>\n",
       "      <td>0.000000</td>\n",
       "      <td>0.000000</td>\n",
       "      <td>0.000391</td>\n",
       "      <td>0.002353</td>\n",
       "    </tr>\n",
       "    <tr>\n",
       "      <th>4</th>\n",
       "      <td>0.000031</td>\n",
       "      <td>0.000570</td>\n",
       "      <td>0.000201</td>\n",
       "      <td>0.000000</td>\n",
       "      <td>0.006897</td>\n",
       "      <td>0.006444</td>\n",
       "      <td>0.002946</td>\n",
       "      <td>0.002289</td>\n",
       "      <td>0.002643</td>\n",
       "      <td>0.001242</td>\n",
       "      <td>...</td>\n",
       "      <td>0.011316</td>\n",
       "      <td>0.015934</td>\n",
       "      <td>0.029045</td>\n",
       "      <td>0.007356</td>\n",
       "      <td>0.012471</td>\n",
       "      <td>0.005515</td>\n",
       "      <td>0.001958</td>\n",
       "      <td>0.017400</td>\n",
       "      <td>0.009965</td>\n",
       "      <td>0.011708</td>\n",
       "    </tr>\n",
       "  </tbody>\n",
       "</table>\n",
       "<p>5 rows × 681 columns</p>\n",
       "</div>"
      ],
      "text/plain": [
       "     M151T1     M83T1    M101T1     M46T1     M49T1     M66T1     M62T1  \\\n",
       "0  0.000000  0.000473  0.001771  0.007110  0.005539  0.002965  0.004136   \n",
       "1  0.000925  0.010704  0.146647  0.170794  0.028064  0.258369  0.055378   \n",
       "2  0.002622  0.004354  0.017697  0.224552  0.010467  0.033443  0.066304   \n",
       "3  0.000007  0.000821  0.000000  0.000554  0.002153  0.001810  0.001128   \n",
       "4  0.000031  0.000570  0.000201  0.000000  0.006897  0.006444  0.002946   \n",
       "\n",
       "      M80T1    M137T1    M135T1  ...   M177T24  M179T24_1  M160T24_1  \\\n",
       "0  0.000000  0.033043  0.003564  ...  0.012077   0.017227   0.043644   \n",
       "1  0.003457  0.020225  0.448607  ...  0.117003   0.231409   0.326234   \n",
       "2  0.001916  0.096564  0.489823  ...  0.233958   0.412355   0.271348   \n",
       "3  0.000908  0.013734  0.012600  ...  0.000000   0.000000   0.000856   \n",
       "4  0.002289  0.002643  0.001242  ...  0.011316   0.015934   0.029045   \n",
       "\n",
       "   M118T25_1  M149T25_1  M133T25_1  M77T25_3   M107T25  M136T26_1  M135T26_1  \n",
       "0   0.005270   0.016446   0.002719  0.000969  0.020756   0.002987   0.003695  \n",
       "1   0.606226   0.183323   1.000000  0.083681  0.533868   0.533529   0.197654  \n",
       "2   0.353469   0.222822   0.169650  0.096536  0.397185   0.195370   0.419720  \n",
       "3   0.000000   0.000000   0.000839  0.000000  0.000000   0.000391   0.002353  \n",
       "4   0.007356   0.012471   0.005515  0.001958  0.017400   0.009965   0.011708  \n",
       "\n",
       "[5 rows x 681 columns]"
      ]
     },
     "execution_count": 60,
     "metadata": {},
     "output_type": "execute_result"
    }
   ],
   "source": [
    "X_no_corr_df.head()"
   ]
  },
  {
   "cell_type": "code",
   "execution_count": null,
   "metadata": {},
   "outputs": [],
   "source": []
  },
  {
   "cell_type": "code",
   "execution_count": 61,
   "metadata": {},
   "outputs": [],
   "source": [
    "fs = ReliefF(discrete_threshold = 5, n_jobs=1)\n",
    "fs.fit(X_no_corr_df.values, data.ID_num.values)\n",
    "\n",
    "feature_scores = fs.feature_importances_\n",
    "feature_ids = np.where(feature_scores>=0)[0]\n",
    "selected_features = np.array(X_no_corr_df.columns[feature_ids]) "
   ]
  },
  {
   "cell_type": "code",
   "execution_count": 62,
   "metadata": {},
   "outputs": [],
   "source": [
    "X_reliefF = X_no_corr_df.values[:,feature_ids]"
   ]
  },
  {
   "cell_type": "code",
   "execution_count": 63,
   "metadata": {},
   "outputs": [
    {
     "data": {
      "text/plain": [
       "(43, 179)"
      ]
     },
     "execution_count": 63,
     "metadata": {},
     "output_type": "execute_result"
    }
   ],
   "source": [
    "X_reliefF.shape"
   ]
  },
  {
   "cell_type": "code",
   "execution_count": 64,
   "metadata": {},
   "outputs": [],
   "source": [
    "kmeans_reliefF = KMeans(n_clusters=2, random_state=83741384, algorithm = \"full\").fit(X_reliefF)"
   ]
  },
  {
   "cell_type": "code",
   "execution_count": 65,
   "metadata": {},
   "outputs": [
    {
     "name": "stdout",
     "output_type": "stream",
     "text": [
      "Homogeneity: 0.004887246307896421\n",
      "Completeness: 0.006418870627021016\n",
      "V-measure: 0.00554931493338607\n"
     ]
    }
   ],
   "source": [
    "print_metric(data.ID_num.values, kmeans_reliefF.labels_)"
   ]
  },
  {
   "cell_type": "markdown",
   "metadata": {},
   "source": [
    "## MultiSURF"
   ]
  },
  {
   "cell_type": "code",
   "execution_count": 66,
   "metadata": {},
   "outputs": [],
   "source": [
    "fs = MultiSURF(discrete_threshold = 5, n_jobs=1)\n",
    "fs.fit(X_no_corr_df.values, data.ID_num.values)\n",
    "\n",
    "feature_scores = fs.feature_importances_\n",
    "feature_ids = np.where(feature_scores>=0)[0]\n",
    "selected_features = np.array(X_no_corr_df.columns[feature_ids]) "
   ]
  },
  {
   "cell_type": "code",
   "execution_count": 67,
   "metadata": {},
   "outputs": [],
   "source": [
    "X_MultiSURF = X_no_corr_df.values[:,feature_ids]"
   ]
  },
  {
   "cell_type": "code",
   "execution_count": 68,
   "metadata": {},
   "outputs": [
    {
     "data": {
      "text/plain": [
       "(43, 439)"
      ]
     },
     "execution_count": 68,
     "metadata": {},
     "output_type": "execute_result"
    }
   ],
   "source": [
    "X_MultiSURF.shape"
   ]
  },
  {
   "cell_type": "code",
   "execution_count": 69,
   "metadata": {},
   "outputs": [],
   "source": [
    "kmeans_MultiSURF = KMeans(n_clusters=2, random_state=83741384, algorithm = \"full\").fit(X_MultiSURF)"
   ]
  },
  {
   "cell_type": "code",
   "execution_count": 70,
   "metadata": {},
   "outputs": [
    {
     "name": "stdout",
     "output_type": "stream",
     "text": [
      "Homogeneity: 0.09554449451081323\n",
      "Completeness: 0.14918670452065427\n",
      "V-measure: 0.11648672770427766\n"
     ]
    }
   ],
   "source": [
    "print_metric(data.ID_num.values, kmeans_MultiSURF.labels_)"
   ]
  },
  {
   "cell_type": "markdown",
   "metadata": {},
   "source": [
    "## MultiSURFStar"
   ]
  },
  {
   "cell_type": "code",
   "execution_count": 71,
   "metadata": {},
   "outputs": [],
   "source": [
    "fs = MultiSURFstar(discrete_threshold = 5, n_jobs=1)\n",
    "fs.fit(X_no_corr_df.values, data.ID_num.values)\n",
    "\n",
    "feature_scores = fs.feature_importances_\n",
    "feature_ids = np.where(feature_scores>=0)[0]\n",
    "selected_features = np.array(X_no_corr_df.columns[feature_ids]) "
   ]
  },
  {
   "cell_type": "code",
   "execution_count": 72,
   "metadata": {},
   "outputs": [],
   "source": [
    "X_MultiSURFStar = X_no_corr_df.values[:,feature_ids]"
   ]
  },
  {
   "cell_type": "code",
   "execution_count": 73,
   "metadata": {},
   "outputs": [
    {
     "data": {
      "text/plain": [
       "(43, 10)"
      ]
     },
     "execution_count": 73,
     "metadata": {},
     "output_type": "execute_result"
    }
   ],
   "source": [
    "X_MultiSURFStar.shape"
   ]
  },
  {
   "cell_type": "code",
   "execution_count": 74,
   "metadata": {},
   "outputs": [],
   "source": [
    "kmeans_MultiSURFStar = KMeans(n_clusters=2, random_state=83741384, algorithm = \"full\").fit(X_MultiSURFStar)"
   ]
  },
  {
   "cell_type": "code",
   "execution_count": 75,
   "metadata": {},
   "outputs": [
    {
     "name": "stdout",
     "output_type": "stream",
     "text": [
      "Homogeneity: 0.02640437827309564\n",
      "Completeness: 0.03750275791747589\n",
      "V-measure: 0.030989872660995857\n"
     ]
    }
   ],
   "source": [
    "print_metric(data.ID_num.values, kmeans_MultiSURFStar.labels_)"
   ]
  },
  {
   "cell_type": "markdown",
   "metadata": {},
   "source": [
    "# Univariate Statistical Feature Selection"
   ]
  },
  {
   "cell_type": "markdown",
   "metadata": {},
   "source": [
    "## Anova"
   ]
  },
  {
   "cell_type": "code",
   "execution_count": 98,
   "metadata": {},
   "outputs": [],
   "source": [
    "f,p = f_classif(X_no_corr_df.values, data.ID_num.values)\n",
    "feature_ids = np.where(p<=0.05)[0]\n",
    "\n",
    "\n",
    "selected_features = np.array(X_no_corr_df.columns[feature_ids])\n",
    "\n",
    "X_anova = X_no_corr_df.values[:,feature_ids]"
   ]
  },
  {
   "cell_type": "code",
   "execution_count": 99,
   "metadata": {},
   "outputs": [
    {
     "data": {
      "text/plain": [
       "(43, 23)"
      ]
     },
     "execution_count": 99,
     "metadata": {},
     "output_type": "execute_result"
    }
   ],
   "source": [
    "X_anova.shape"
   ]
  },
  {
   "cell_type": "code",
   "execution_count": 100,
   "metadata": {},
   "outputs": [],
   "source": [
    "kmeans_anova = KMeans(n_clusters=2, random_state=83741384, algorithm = \"full\").fit(X_anova)"
   ]
  },
  {
   "cell_type": "code",
   "execution_count": 101,
   "metadata": {},
   "outputs": [
    {
     "data": {
      "text/plain": [
       "array([0, 1, 1, 0, 0, 1, 1, 0, 0, 1, 0, 1, 0, 1, 0, 0, 0, 1, 0, 0, 0, 0,\n",
       "       0, 0, 1, 0, 0, 0, 0, 0, 0, 0, 0, 0, 0, 0, 0, 0, 0, 0, 0, 0, 0],\n",
       "      dtype=int32)"
      ]
     },
     "execution_count": 101,
     "metadata": {},
     "output_type": "execute_result"
    }
   ],
   "source": [
    "kmeans_anova.labels_"
   ]
  },
  {
   "cell_type": "code",
   "execution_count": 102,
   "metadata": {},
   "outputs": [
    {
     "data": {
      "text/plain": [
       "array(['M151T1', 'M67T2_1', 'M90T2_2', 'M72T2_2', 'M82T2_2', 'M95T2',\n",
       "       'M97T3_1', 'M77T3_1', 'M84T4_1', 'M100T4_1', 'M138T4', 'M84T6_1',\n",
       "       'M98T6_2', 'M127T6', 'M39T7_1', 'M63T7_2', 'M77T7_2', 'M108T7',\n",
       "       'M58T7', 'M94T11_1', 'M93T11_1', 'M38T11', 'M110T12_2'],\n",
       "      dtype=object)"
      ]
     },
     "execution_count": 102,
     "metadata": {},
     "output_type": "execute_result"
    }
   ],
   "source": [
    "selected_features"
   ]
  },
  {
   "cell_type": "code",
   "execution_count": 80,
   "metadata": {},
   "outputs": [
    {
     "name": "stdout",
     "output_type": "stream",
     "text": [
      "Homogeneity: 0.15104779463357518\n",
      "Completeness: 0.18578209361681305\n",
      "V-measure: 0.1666240229986222\n"
     ]
    }
   ],
   "source": [
    "print_metric(data.ID_num.values, kmeans_anova.labels_)"
   ]
  },
  {
   "cell_type": "code",
   "execution_count": null,
   "metadata": {},
   "outputs": [],
   "source": []
  },
  {
   "cell_type": "markdown",
   "metadata": {},
   "source": [
    "# Combinations"
   ]
  },
  {
   "cell_type": "markdown",
   "metadata": {},
   "source": [
    "## Anova + Relief-F"
   ]
  },
  {
   "cell_type": "code",
   "execution_count": 91,
   "metadata": {},
   "outputs": [],
   "source": [
    "fs = ReliefF(discrete_threshold = 5, n_jobs=1)\n",
    "fs.fit(X_anova, data.ID_num.values)\n",
    "\n",
    "feature_scores = fs.feature_importances_\n",
    "feature_ids = np.where(feature_scores>=0)[0]\n",
    "selected_features = selected_features[feature_ids]"
   ]
  },
  {
   "cell_type": "code",
   "execution_count": 92,
   "metadata": {},
   "outputs": [],
   "source": [
    "X_ano_reliefF = X_anova[:,feature_ids]"
   ]
  },
  {
   "cell_type": "code",
   "execution_count": 93,
   "metadata": {},
   "outputs": [
    {
     "data": {
      "text/plain": [
       "(43, 18)"
      ]
     },
     "execution_count": 93,
     "metadata": {},
     "output_type": "execute_result"
    }
   ],
   "source": [
    "X_ano_reliefF.shape"
   ]
  },
  {
   "cell_type": "code",
   "execution_count": 94,
   "metadata": {},
   "outputs": [],
   "source": [
    "kmeans_ano_reliefF = KMeans(n_clusters=2, random_state=83741384, algorithm = \"full\").fit(X_ano_reliefF)"
   ]
  },
  {
   "cell_type": "code",
   "execution_count": 95,
   "metadata": {},
   "outputs": [
    {
     "name": "stdout",
     "output_type": "stream",
     "text": [
      "Homogeneity: 0.15104779463357518\n",
      "Completeness: 0.18578209361681305\n",
      "V-measure: 0.1666240229986222\n"
     ]
    }
   ],
   "source": [
    "print_metric(data.ID_num.values, kmeans_ano_reliefF.labels_)"
   ]
  },
  {
   "cell_type": "code",
   "execution_count": 97,
   "metadata": {},
   "outputs": [
    {
     "data": {
      "text/plain": [
       "array(['M151T1', 'M72T2_2', 'M82T2_2', 'M95T2', 'M97T3_1', 'M77T3_1',\n",
       "       'M84T4_1', 'M100T4_1', 'M138T4', 'M84T6_1', 'M98T6_2', 'M127T6',\n",
       "       'M63T7_2', 'M108T7', 'M94T11_1', 'M93T11_1', 'M38T11', 'M110T12_2'],\n",
       "      dtype=object)"
      ]
     },
     "execution_count": 97,
     "metadata": {},
     "output_type": "execute_result"
    }
   ],
   "source": [
    "selected_features"
   ]
  },
  {
   "cell_type": "code",
   "execution_count": null,
   "metadata": {},
   "outputs": [],
   "source": []
  },
  {
   "cell_type": "markdown",
   "metadata": {},
   "source": [
    "- What to the column headers mean?\n",
    "- What do the values in each column represent? What is their unit?\n",
    "- Have any data pre-processing/quality checks been already done?\n",
    "- Is this the annotated spectrum?\n",
    "- Is it an intersection of molecules present in the samples? Are all molecules in the dataset expected to be present in all samples?\n",
    "- Could multiple columns in the dataset correspond to the same molecule? \n",
    "- Is the data normalized? If not, how can we normalize?\n",
    "\n",
    "- Maximum relevancy minimum redundancy by Gavin Brown\n"
   ]
  },
  {
   "cell_type": "code",
   "execution_count": null,
   "metadata": {},
   "outputs": [],
   "source": []
  },
  {
   "cell_type": "code",
   "execution_count": null,
   "metadata": {},
   "outputs": [],
   "source": []
  },
  {
   "cell_type": "code",
   "execution_count": null,
   "metadata": {},
   "outputs": [],
   "source": []
  },
  {
   "cell_type": "markdown",
   "metadata": {},
   "source": [
    "Common methods listed in Boccard 2013 (Chapter 21)\n",
    "- PCA (something about orthogonality does not apply to metabolites and so PCA might not be the best)\n",
    "- Independent component analysis\n",
    "- Partial Least square regression\n",
    "- Random Forest\n",
    "- SVM  \n",
    "\n",
    "Best method according to Boccard paper:\n",
    "- Relief followed by SVM\n",
    "- Identified biomarkers by looking at feature weights of svm model\n",
    "- Looked at PCA after relief\n",
    "- Correlation Feature Selection\n",
    "  \n",
    "Flavia Audibert paper:\n",
    "- Linearly correlated features removed before ML analysis. \n",
    "- Random forest was used for feature ranking to identify biomarkers\n",
    "- SVM and RF classifiers were the best classifiers\n",
    "\n",
    "Smolinska paper:\n",
    "\n",
    "\n",
    "\n",
    "From previous readings:\n",
    "- Look at MMD as a measure of separability b/w classes\n",
    "\n",
    "\n"
   ]
  },
  {
   "cell_type": "code",
   "execution_count": 21,
   "metadata": {},
   "outputs": [],
   "source": [
    "mean = [10, 20]\n",
    "cov = [[1, 0], [0, 100]]\n",
    "x1, y1 = np.random.multivariate_normal(mean, cov, 500).T\n",
    "\n",
    "mean = [20, 20]\n",
    "cov = [[13, 0], [0, 10]]\n",
    "x2, y2 = np.random.multivariate_normal(mean, cov, 500).T"
   ]
  },
  {
   "cell_type": "code",
   "execution_count": 28,
   "metadata": {},
   "outputs": [
    {
     "data": {
      "text/plain": [
       "14.009069245650156"
      ]
     },
     "execution_count": 28,
     "metadata": {},
     "output_type": "execute_result"
    }
   ],
   "source": [
    "np.var(x2)"
   ]
  },
  {
   "cell_type": "code",
   "execution_count": 29,
   "metadata": {},
   "outputs": [
    {
     "data": {
      "text/plain": [
       "9.274760373747387"
      ]
     },
     "execution_count": 29,
     "metadata": {},
     "output_type": "execute_result"
    }
   ],
   "source": [
    "np.var(y2)"
   ]
  },
  {
   "cell_type": "code",
   "execution_count": 30,
   "metadata": {},
   "outputs": [
    {
     "data": {
      "text/plain": [
       "[<matplotlib.lines.Line2D at 0x7f878f9f93c8>]"
      ]
     },
     "execution_count": 30,
     "metadata": {},
     "output_type": "execute_result"
    },
    {
     "data": {
      "image/png": "[encoded data removed]",
      "text/plain": [
       "<Figure size 432x288 with 1 Axes>"
      ]
     },
     "metadata": {
      "needs_background": "light"
     },
     "output_type": "display_data"
    }
   ],
   "source": [
    "plt.plot(x1, y1, 'x')\n",
    "plt.plot(x2,y2, 'o')"
   ]
  },
  {
   "cell_type": "code",
   "execution_count": 31,
   "metadata": {},
   "outputs": [],
   "source": [
    "x = list(x1)+list(x2)\n",
    "y = list(y1) + list(y2)\n",
    "\n",
    "dat = pd.DataFrame()\n",
    "dat['x'] = x\n",
    "dat['y'] = y"
   ]
  },
  {
   "cell_type": "code",
   "execution_count": 32,
   "metadata": {},
   "outputs": [
    {
     "data": {
      "text/plain": [
       "(1000, 2)"
      ]
     },
     "execution_count": 32,
     "metadata": {},
     "output_type": "execute_result"
    }
   ],
   "source": [
    "dat.shape"
   ]
  },
  {
   "cell_type": "code",
   "execution_count": 33,
   "metadata": {},
   "outputs": [
    {
     "data": {
      "text/plain": [
       "array([1., 1., 1., 1., 1.])"
      ]
     },
     "execution_count": 33,
     "metadata": {},
     "output_type": "execute_result"
    }
   ],
   "source": [
    "np.ones(5)"
   ]
  },
  {
   "cell_type": "code",
   "execution_count": 34,
   "metadata": {},
   "outputs": [],
   "source": [
    "label = list(np.ones(500)) + list(np.zeros(500))"
   ]
  },
  {
   "cell_type": "code",
   "execution_count": 35,
   "metadata": {},
   "outputs": [],
   "source": [
    "dat['label'] = label"
   ]
  },
  {
   "cell_type": "code",
   "execution_count": 36,
   "metadata": {},
   "outputs": [
    {
     "data": {
      "image/png": "[encoded data removed]",
      "text/plain": [
       "<Figure size 432x288 with 1 Axes>"
      ]
     },
     "metadata": {
      "needs_background": "light"
     },
     "output_type": "display_data"
    }
   ],
   "source": [
    "for x, y, color in dat.values:\n",
    "    c = 'r' if color == 1 else 'b'\n",
    "    plt.plot(x, y, 'x' + c)\n",
    "plt.show()"
   ]
  },
  {
   "cell_type": "code",
   "execution_count": 37,
   "metadata": {},
   "outputs": [
    {
     "data": {
      "text/html": [
       "<div>\n",
       "<style scoped>\n",
       "    .dataframe tbody tr th:only-of-type {\n",
       "        vertical-align: middle;\n",
       "    }\n",
       "\n",
       "    .dataframe tbody tr th {\n",
       "        vertical-align: top;\n",
       "    }\n",
       "\n",
       "    .dataframe thead th {\n",
       "        text-align: right;\n",
       "    }\n",
       "</style>\n",
       "<table border=\"1\" class=\"dataframe\">\n",
       "  <thead>\n",
       "    <tr style=\"text-align: right;\">\n",
       "      <th></th>\n",
       "      <th>x</th>\n",
       "      <th>y</th>\n",
       "      <th>label</th>\n",
       "    </tr>\n",
       "  </thead>\n",
       "  <tbody>\n",
       "    <tr>\n",
       "      <th>0</th>\n",
       "      <td>11.242320</td>\n",
       "      <td>34.799321</td>\n",
       "      <td>1.0</td>\n",
       "    </tr>\n",
       "    <tr>\n",
       "      <th>1</th>\n",
       "      <td>11.328709</td>\n",
       "      <td>26.529368</td>\n",
       "      <td>1.0</td>\n",
       "    </tr>\n",
       "    <tr>\n",
       "      <th>2</th>\n",
       "      <td>10.951067</td>\n",
       "      <td>25.077926</td>\n",
       "      <td>1.0</td>\n",
       "    </tr>\n",
       "    <tr>\n",
       "      <th>3</th>\n",
       "      <td>10.114628</td>\n",
       "      <td>11.315700</td>\n",
       "      <td>1.0</td>\n",
       "    </tr>\n",
       "    <tr>\n",
       "      <th>4</th>\n",
       "      <td>10.160290</td>\n",
       "      <td>26.811898</td>\n",
       "      <td>1.0</td>\n",
       "    </tr>\n",
       "  </tbody>\n",
       "</table>\n",
       "</div>"
      ],
      "text/plain": [
       "           x          y  label\n",
       "0  11.242320  34.799321    1.0\n",
       "1  11.328709  26.529368    1.0\n",
       "2  10.951067  25.077926    1.0\n",
       "3  10.114628  11.315700    1.0\n",
       "4  10.160290  26.811898    1.0"
      ]
     },
     "execution_count": 37,
     "metadata": {},
     "output_type": "execute_result"
    }
   ],
   "source": [
    "dat.head()"
   ]
  },
  {
   "cell_type": "code",
   "execution_count": 38,
   "metadata": {},
   "outputs": [
    {
     "data": {
      "text/plain": [
       "5.798576449207339"
      ]
     },
     "execution_count": 38,
     "metadata": {},
     "output_type": "execute_result"
    }
   ],
   "source": [
    "np.std(dat.x)"
   ]
  },
  {
   "cell_type": "code",
   "execution_count": 39,
   "metadata": {},
   "outputs": [],
   "source": [
    "x_sc = dat.values[:,:2]\n",
    "x_sc = StandardScaler().fit_transform(x_sc)"
   ]
  },
  {
   "cell_type": "code",
   "execution_count": 40,
   "metadata": {},
   "outputs": [],
   "source": [
    "dat_sc = pd.DataFrame()\n",
    "dat_sc['x'] = x_sc[:,0]\n",
    "dat_sc['y'] = x_sc[:,1]"
   ]
  },
  {
   "cell_type": "code",
   "execution_count": 41,
   "metadata": {},
   "outputs": [],
   "source": [
    "dat_sc['label'] = dat.label"
   ]
  },
  {
   "cell_type": "code",
   "execution_count": 42,
   "metadata": {},
   "outputs": [
    {
     "data": {
      "image/png": "[encoded data removed]",
      "text/plain": [
       "<Figure size 432x288 with 1 Axes>"
      ]
     },
     "metadata": {
      "needs_background": "light"
     },
     "output_type": "display_data"
    }
   ],
   "source": [
    "for x, y, color in dat_sc.values:\n",
    "    c = 'r' if color == 1 else 'b'\n",
    "    plt.plot(x, y, 'x' + c)\n",
    "plt.show()"
   ]
  },
  {
   "cell_type": "code",
   "execution_count": 46,
   "metadata": {},
   "outputs": [
    {
     "data": {
      "text/plain": [
       "0.027546948070087972"
      ]
     },
     "execution_count": 46,
     "metadata": {},
     "output_type": "execute_result"
    }
   ],
   "source": [
    "np.var(dat_sc.loc[dat_sc.label==1].x)"
   ]
  },
  {
   "cell_type": "code",
   "execution_count": 44,
   "metadata": {},
   "outputs": [
    {
     "data": {
      "text/plain": [
       "15.103299064564755"
      ]
     },
     "execution_count": 44,
     "metadata": {},
     "output_type": "execute_result"
    }
   ],
   "source": [
    "np.mean(dat.x)"
   ]
  },
  {
   "cell_type": "code",
   "execution_count": null,
   "metadata": {},
   "outputs": [],
   "source": []
  },
  {
   "cell_type": "markdown",
   "metadata": {},
   "source": [
    "# Appendix"
   ]
  },
  {
   "cell_type": "code",
   "execution_count": null,
   "metadata": {},
   "outputs": [],
   "source": []
  },
  {
   "cell_type": "code",
   "execution_count": null,
   "metadata": {},
   "outputs": [],
   "source": []
  },
  {
   "cell_type": "code",
   "execution_count": null,
   "metadata": {},
   "outputs": [],
   "source": []
  },
  {
   "cell_type": "code",
   "execution_count": 71,
   "metadata": {},
   "outputs": [],
   "source": [
    "# def compute_cluster_metric(data_labels, cluster_labels):\n",
    "#     metric_df = pd.DataFrame()\n",
    "#     data_labels_num = np.where(data_labels == 'Healthy', 0, 1)\n",
    "#     metric_df['data_labels'] = data_labels_num\n",
    "#     metric_df['cluster_labels'] = cluster_labels\n",
    "    \n",
    "    \n",
    "#     cluster_pos = metric_df.loc[metric_df.cluster_labels == 1]\n",
    "#     perc_pos_label_in_cluster_pos = len(cluster_pos.loc[cluster_pos.data_labels == 1])/len(cluster_pos)\n",
    "#     perc_neg_label_in_cluster_pos = len(cluster_pos.loc[cluster_pos.data_labels == 0])/len(cluster_pos)\n",
    "#     cluster_pos_metric_contrib = np.abs(perc_neg_label_in_cluster_pos - perc_pos_label_in_cluster_pos)\n",
    "\n",
    "#     cluster_neg = metric_df.loc[metric_df.cluster_labels == 0]\n",
    "#     perc_pos_label_in_cluster_neg = len(cluster_neg.loc[cluster_neg.data_labels == 1])/len(cluster_neg)\n",
    "#     perc_neg_label_in_cluster_neg = len(cluster_neg.loc[cluster_neg.data_labels == 0])/len(cluster_neg)\n",
    "#     cluster_neg_metric_contrib = np.abs(perc_neg_label_in_cluster_neg - perc_pos_label_in_cluster_neg)\n",
    "    \n",
    "#     cluster_performance = np.mean([cluster_pos_metric_contrib,cluster_neg_metric_contrib])\n",
    "\n",
    "#     return cluster_performance\n",
    "    "
   ]
  },
  {
   "cell_type": "code",
   "execution_count": 73,
   "metadata": {},
   "outputs": [
    {
     "data": {
      "text/plain": [
       "0.6666666666666666"
      ]
     },
     "execution_count": 73,
     "metadata": {},
     "output_type": "execute_result"
    }
   ],
   "source": [
    "# perf = compute_cluster_metric(data.ID.values, kmeans.labels_)\n",
    "# perf"
   ]
  },
  {
   "cell_type": "code",
   "execution_count": null,
   "metadata": {},
   "outputs": [],
   "source": []
  },
  {
   "cell_type": "code",
   "execution_count": 338,
   "metadata": {},
   "outputs": [],
   "source": [
    "# External clustering evaluation using randIndex and F-measure"
   ]
  },
  {
   "cell_type": "code",
   "execution_count": 339,
   "metadata": {},
   "outputs": [
    {
     "data": {
      "text/plain": [
       "-0.023809523809523808"
      ]
     },
     "execution_count": 339,
     "metadata": {},
     "output_type": "execute_result"
    }
   ],
   "source": [
    "adjusted_rand_score(data.ID_num.values, kmeans.labels_)"
   ]
  },
  {
   "cell_type": "code",
   "execution_count": 340,
   "metadata": {},
   "outputs": [
    {
     "data": {
      "text/plain": [
       "0.5348837209302325"
      ]
     },
     "execution_count": 340,
     "metadata": {},
     "output_type": "execute_result"
    }
   ],
   "source": [
    "rand_score(data.ID_num.values, kmeans.labels_)"
   ]
  },
  {
   "cell_type": "code",
   "execution_count": 341,
   "metadata": {},
   "outputs": [
    {
     "data": {
      "text/plain": [
       "array([[ 28, 784],\n",
       "       [ 56, 938]])"
      ]
     },
     "execution_count": 341,
     "metadata": {},
     "output_type": "execute_result"
    }
   ],
   "source": [
    "pair_confusion_matrix(data.ID_num.values, kmeans.labels_)"
   ]
  },
  {
   "cell_type": "code",
   "execution_count": 343,
   "metadata": {},
   "outputs": [
    {
     "data": {
      "text/plain": [
       "0.6907216494845361"
      ]
     },
     "execution_count": 343,
     "metadata": {},
     "output_type": "execute_result"
    }
   ],
   "source": [
    "tn, fp, fn, tp = pair_confusion_matrix(data.ID_num.values, kmeans.labels_).ravel()\n",
    "prec = tp/(tp+fp)\n",
    "rec = tp/(tp+fn)\n",
    "\n",
    "f1 = (2*prec*rec)/(prec+rec)\n",
    "f1"
   ]
  },
  {
   "cell_type": "code",
   "execution_count": null,
   "metadata": {},
   "outputs": [],
   "source": []
  },
  {
   "cell_type": "code",
   "execution_count": 168,
   "metadata": {},
   "outputs": [],
   "source": [
    "#Agglomerative clustering\n",
    "aggC = AgglomerativeClustering().fit(X_no_corr_df.values)"
   ]
  }
 ],
 "metadata": {
  "kernelspec": {
   "display_name": "Python 3",
   "language": "python",
   "name": "python3"
  },
  "language_info": {
   "codemirror_mode": {
    "name": "ipython",
    "version": 3
   },
   "file_extension": ".py",
   "mimetype": "text/x-python",
   "name": "python",
   "nbconvert_exporter": "python",
   "pygments_lexer": "ipython3",
   "version": "3.6.8"
  }
 },
 "nbformat": 4,
 "nbformat_minor": 4
}
