{
 "cells": [
  {
   "cell_type": "code",
   "execution_count": 1,
   "id": "related-treat",
   "metadata": {},
   "outputs": [],
   "source": [
    "import pandas as pd\n",
    "import numpy as np\n",
    "import dill, pickle\n",
    "import copy\n",
    "import os\n",
    "\n",
    "from collections import Counter\n",
    "import itertools\n",
    "from scipy import stats\n",
    "\n",
    "import matplotlib.pyplot as plt\n",
    "#from seaborn import kdeplot\n",
    "from joblib import Parallel, delayed\n",
    "\n",
    "from sklearn.metrics import auc, roc_auc_score, roc_curve, precision_recall_curve, average_precision_score, accuracy_score\n",
    "from sklearn.metrics import classification_report, confusion_matrix\n",
    "\n",
    "from xgboost.sklearn import XGBClassifier\n",
    "from sklearn.svm import SVC\n",
    "from sklearn.feature_selection import mutual_info_classif\n",
    "\n",
    "from sklearn.preprocessing import MinMaxScaler\n",
    "from sklearn.model_selection import LeaveOneOut"
   ]
  },
  {
   "cell_type": "code",
   "execution_count": null,
   "id": "e8794b2d-897f-42b4-8f58-a0e7796ab8c1",
   "metadata": {},
   "outputs": [],
   "source": []
  },
  {
   "cell_type": "markdown",
   "id": "contemporary-villa",
   "metadata": {},
   "source": [
    "# ML Analysis"
   ]
  },
  {
   "cell_type": "code",
   "execution_count": 2,
   "id": "documented-england",
   "metadata": {},
   "outputs": [],
   "source": [
    "def create_result_df(path, model):\n",
    "    result_df = pd.DataFrame(columns=['Algorithm', 'AUCPR',\t'AUCROC', 'NPV', 'Precision', \n",
    "                                  'Recall', 'Specificity', 'Accuracy',\t'F1'])\n",
    "    \n",
    "    files = os.listdir(path)\n",
    "    \n",
    "    for file in files:\n",
    "        metrics = []\n",
    "\n",
    "        with open(path + file, \"rb\") as f:\n",
    "            results = dill.load(f)\n",
    "        \n",
    "        #Algo name\n",
    "        metrics.append(results['algo'])\n",
    "        \n",
    "        \n",
    "        if model == 'svm':\n",
    "            pred_prob = results['param_sorted'][0]['prediction_score']\n",
    "            y_test = results['param_sorted'][0]['y_test']\n",
    "            y_pred = [int(i>0) for i in pred_prob]\n",
    "        else:\n",
    "            pred_prob = results['param_sorted'][0]['prediction_proba']\n",
    "            y_test = results['param_sorted'][0]['y_test']\n",
    "            y_pred = [int(i>0.5) for i in pred_prob]\n",
    "            \n",
    "        #AUCPR\n",
    "        metrics.append(average_precision_score(y_test, pred_prob))\n",
    "        \n",
    "        #AUCROC\n",
    "        metrics.append(roc_auc_score(y_test, pred_prob))\n",
    "    \n",
    "        tn = confusion_matrix(y_test, y_pred)[0, 0]\n",
    "        tp = confusion_matrix(y_test, y_pred)[1, 1]\n",
    "        fp = confusion_matrix(y_test, y_pred)[0, 1]\n",
    "        fn = confusion_matrix(y_test, y_pred)[1, 0]\n",
    "\n",
    "        npv = tn/(tn+fn)\n",
    "        metrics.append(npv)\n",
    "        \n",
    "        precision = tp/(tp+fp)\n",
    "        metrics.append(precision)\n",
    "\n",
    "        recall = tp/(tp+fn)\n",
    "        metrics.append(recall)\n",
    "        \n",
    "        specificity = tn/(tn+fp)\n",
    "        metrics.append(specificity)\n",
    "        \n",
    "        accuracy = (tp+tn)/(tp+tn+fp+fn)\n",
    "        metrics.append(accuracy)\n",
    "        \n",
    "        f1 = 2*(precision*recall)/(precision+recall)\n",
    "        metrics.append(f1)\n",
    "        \n",
    "        result_df.loc[len(result_df)] = metrics\n",
    "    \n",
    "        \n",
    "    \n",
    "    return result_df\n",
    "    "
   ]
  },
  {
   "cell_type": "code",
   "execution_count": null,
   "id": "17a1d8a5-cb8b-4f07-ac17-223a10947ccf",
   "metadata": {},
   "outputs": [],
   "source": []
  },
  {
   "cell_type": "code",
   "execution_count": 3,
   "id": "30f48799-2f2d-46f6-82dc-bc891d8cc60d",
   "metadata": {},
   "outputs": [],
   "source": [
    "# XGB"
   ]
  },
  {
   "cell_type": "code",
   "execution_count": 4,
   "id": "f5e6cc02-1070-4fa9-b00b-84e5b9ab9f24",
   "metadata": {},
   "outputs": [
    {
     "name": "stderr",
     "output_type": "stream",
     "text": [
      "/Users/boses1/anaconda3/lib/python3.6/site-packages/ipykernel_launcher.py:40: RuntimeWarning: invalid value encountered in long_scalars\n"
     ]
    }
   ],
   "source": [
    "xgb_file_path = '../src/train/results/xgb/'\n",
    "xgb_res_df = create_result_df(xgb_file_path, 'xgb')"
   ]
  },
  {
   "cell_type": "code",
   "execution_count": 5,
   "id": "1edb2f98-3a85-4af7-ba5b-569bf05e6460",
   "metadata": {},
   "outputs": [],
   "source": [
    "xgb_res_roc = xgb_res_df[xgb_res_df['Algorithm'].str.contains('roc')]"
   ]
  },
  {
   "cell_type": "code",
   "execution_count": 6,
   "id": "9fdad94d-d025-4983-a453-0f0138fd0597",
   "metadata": {},
   "outputs": [],
   "source": [
    "xgb_res_roc = xgb_res_roc[~xgb_res_roc['Algorithm'].str.contains('class_weight')]"
   ]
  },
  {
   "cell_type": "code",
   "execution_count": 7,
   "id": "124ba5c6-4c25-45ee-aa4b-9b1669ac2019",
   "metadata": {},
   "outputs": [
    {
     "data": {
      "text/html": [
       "<div>\n",
       "<style scoped>\n",
       "    .dataframe tbody tr th:only-of-type {\n",
       "        vertical-align: middle;\n",
       "    }\n",
       "\n",
       "    .dataframe tbody tr th {\n",
       "        vertical-align: top;\n",
       "    }\n",
       "\n",
       "    .dataframe thead th {\n",
       "        text-align: right;\n",
       "    }\n",
       "</style>\n",
       "<table border=\"1\" class=\"dataframe\">\n",
       "  <thead>\n",
       "    <tr style=\"text-align: right;\">\n",
       "      <th></th>\n",
       "      <th>Algorithm</th>\n",
       "      <th>AUCPR</th>\n",
       "      <th>AUCROC</th>\n",
       "      <th>NPV</th>\n",
       "      <th>Precision</th>\n",
       "      <th>Recall</th>\n",
       "      <th>Specificity</th>\n",
       "      <th>Accuracy</th>\n",
       "      <th>F1</th>\n",
       "    </tr>\n",
       "  </thead>\n",
       "  <tbody>\n",
       "    <tr>\n",
       "      <th>6</th>\n",
       "      <td>xgb_fs_anova_reliefF_eval_roc</td>\n",
       "      <td>0.881001</td>\n",
       "      <td>0.913793</td>\n",
       "      <td>0.870968</td>\n",
       "      <td>0.833333</td>\n",
       "      <td>0.714286</td>\n",
       "      <td>0.931034</td>\n",
       "      <td>0.860465</td>\n",
       "      <td>0.769231</td>\n",
       "    </tr>\n",
       "    <tr>\n",
       "      <th>7</th>\n",
       "      <td>xgb_fs_multisurf_eval_roc</td>\n",
       "      <td>0.866194</td>\n",
       "      <td>0.901478</td>\n",
       "      <td>0.823529</td>\n",
       "      <td>0.888889</td>\n",
       "      <td>0.571429</td>\n",
       "      <td>0.965517</td>\n",
       "      <td>0.837209</td>\n",
       "      <td>0.695652</td>\n",
       "    </tr>\n",
       "    <tr>\n",
       "      <th>33</th>\n",
       "      <td>xgb_fs_no_eval_roc</td>\n",
       "      <td>0.851762</td>\n",
       "      <td>0.894089</td>\n",
       "      <td>0.838710</td>\n",
       "      <td>0.750000</td>\n",
       "      <td>0.642857</td>\n",
       "      <td>0.896552</td>\n",
       "      <td>0.813953</td>\n",
       "      <td>0.692308</td>\n",
       "    </tr>\n",
       "    <tr>\n",
       "      <th>20</th>\n",
       "      <td>xgb_fs_reliefF_eval_roc</td>\n",
       "      <td>0.770152</td>\n",
       "      <td>0.884236</td>\n",
       "      <td>0.812500</td>\n",
       "      <td>0.727273</td>\n",
       "      <td>0.571429</td>\n",
       "      <td>0.896552</td>\n",
       "      <td>0.790698</td>\n",
       "      <td>0.640000</td>\n",
       "    </tr>\n",
       "    <tr>\n",
       "      <th>10</th>\n",
       "      <td>xgb_fs_anovaF_eval_roc</td>\n",
       "      <td>0.773472</td>\n",
       "      <td>0.869458</td>\n",
       "      <td>0.838710</td>\n",
       "      <td>0.750000</td>\n",
       "      <td>0.642857</td>\n",
       "      <td>0.896552</td>\n",
       "      <td>0.813953</td>\n",
       "      <td>0.692308</td>\n",
       "    </tr>\n",
       "    <tr>\n",
       "      <th>4</th>\n",
       "      <td>xgb_fs_anova_multisurf_eval_roc</td>\n",
       "      <td>0.643821</td>\n",
       "      <td>0.832512</td>\n",
       "      <td>0.821429</td>\n",
       "      <td>0.600000</td>\n",
       "      <td>0.642857</td>\n",
       "      <td>0.793103</td>\n",
       "      <td>0.744186</td>\n",
       "      <td>0.620690</td>\n",
       "    </tr>\n",
       "  </tbody>\n",
       "</table>\n",
       "</div>"
      ],
      "text/plain": [
       "                          Algorithm     AUCPR    AUCROC       NPV  Precision  \\\n",
       "6     xgb_fs_anova_reliefF_eval_roc  0.881001  0.913793  0.870968   0.833333   \n",
       "7         xgb_fs_multisurf_eval_roc  0.866194  0.901478  0.823529   0.888889   \n",
       "33               xgb_fs_no_eval_roc  0.851762  0.894089  0.838710   0.750000   \n",
       "20          xgb_fs_reliefF_eval_roc  0.770152  0.884236  0.812500   0.727273   \n",
       "10           xgb_fs_anovaF_eval_roc  0.773472  0.869458  0.838710   0.750000   \n",
       "4   xgb_fs_anova_multisurf_eval_roc  0.643821  0.832512  0.821429   0.600000   \n",
       "\n",
       "      Recall  Specificity  Accuracy        F1  \n",
       "6   0.714286     0.931034  0.860465  0.769231  \n",
       "7   0.571429     0.965517  0.837209  0.695652  \n",
       "33  0.642857     0.896552  0.813953  0.692308  \n",
       "20  0.571429     0.896552  0.790698  0.640000  \n",
       "10  0.642857     0.896552  0.813953  0.692308  \n",
       "4   0.642857     0.793103  0.744186  0.620690  "
      ]
     },
     "execution_count": 7,
     "metadata": {},
     "output_type": "execute_result"
    }
   ],
   "source": [
    "xgb_res_roc.sort_values(by='AUCROC', ascending = False)"
   ]
  },
  {
   "cell_type": "code",
   "execution_count": 27,
   "id": "0c9e1dc6-f624-4a16-8599-163208d5188a",
   "metadata": {},
   "outputs": [],
   "source": [
    "#Why for the svm aucroc is high but aucor is low? BUt for xgb both are high?\n",
    "#Its because SVM's decisions are less confident"
   ]
  },
  {
   "cell_type": "code",
   "execution_count": 28,
   "id": "d8cc89d3-9119-4959-9dd5-782c64ed0490",
   "metadata": {},
   "outputs": [],
   "source": [
    "#At standard threshold, xgb seems to be predicting more 0s than 1s compared to svm."
   ]
  },
  {
   "cell_type": "code",
   "execution_count": 37,
   "id": "11e98c43-aded-4176-9f0d-2eee9b4d7489",
   "metadata": {},
   "outputs": [],
   "source": [
    "with open(xgb_file_path + 'xgb_fs_anova_reliefF_eval_roc_results.pik', \"rb\") as f:\n",
    "    xgb_anorelief = dill.load(f)\n",
    "\n",
    "with open(xgb_file_path + 'xgb_fs_multisurf_eval_roc_results.pik', \"rb\") as f:\n",
    "    xgb_multisurf = dill.load(f)\n",
    "            \n",
    "with open(xgb_file_path + 'xgb_fs_reliefF_eval_roc_results.pik', \"rb\") as f:\n",
    "    xgb_relief = dill.load(f)\n",
    "            \n",
    "with open(xgb_file_path + 'xgb_fs_anovaF_eval_roc_results.pik', \"rb\") as f:\n",
    "    xgb_ano = dill.load(f)\n",
    "            \n",
    "with open(xgb_file_path + 'xgb_fs_anova_multisurf_eval_roc_results.pik', \"rb\") as f:\n",
    "    xgb_anomultisurf = dill.load(f)"
   ]
  },
  {
   "cell_type": "code",
   "execution_count": 38,
   "id": "0e859135-b667-4f3f-b123-9c7d6bbc4a2d",
   "metadata": {},
   "outputs": [
    {
     "data": {
      "text/plain": [
       "{'colsample_bytree': 0.528414386688919,\n",
       " 'gamma': 0.3362753390466716,\n",
       " 'learning_rate': 0.43076846574157246,\n",
       " 'max_depth': 21,\n",
       " 'min_child_weight': 1.0,\n",
       " 'n_estimators': 1838,\n",
       " 'reg_alpha': 0.01,\n",
       " 'reg_lambda': 1e-05,\n",
       " 'subsample': 0.19763022321324158}"
      ]
     },
     "execution_count": 38,
     "metadata": {},
     "output_type": "execute_result"
    }
   ],
   "source": [
    "xgb_anorelief['opt_param']"
   ]
  },
  {
   "cell_type": "code",
   "execution_count": null,
   "id": "e5c6ed40-9d49-4767-955a-68c0eb45e12c",
   "metadata": {},
   "outputs": [],
   "source": []
  },
  {
   "cell_type": "code",
   "execution_count": 26,
   "id": "7f59c9af-f0a2-4ca8-9c89-7ea92baac326",
   "metadata": {},
   "outputs": [],
   "source": [
    "def set_tick_fontsize(ax, fs):\n",
    "    for tick in ax.xaxis.get_major_ticks():\n",
    "        tick.label.set_fontsize(fs)\n",
    "    for tick in ax.yaxis.get_major_ticks():\n",
    "        tick.label.set_fontsize(fs)"
   ]
  },
  {
   "cell_type": "code",
   "execution_count": 39,
   "id": "ce8c6ec4-8018-4d6e-9381-3f8c06b40127",
   "metadata": {},
   "outputs": [],
   "source": [
    "xgb_anorelief_pred_prob = xgb_anorelief['param_sorted'][0]['prediction_proba']\n",
    "xgb_anorelief_y_test = xgb_anorelief['param_sorted'][0]['y_test']\n",
    "\n",
    "xgb_multisurf_pred_prob = xgb_multisurf['param_sorted'][0]['prediction_proba']\n",
    "xgb_multisurf_y_test = xgb_multisurf['param_sorted'][0]['y_test']\n",
    "\n",
    "xgb_relief_pred_prob = xgb_relief['param_sorted'][0]['prediction_proba']\n",
    "xgb_relief_y_test = xgb_relief['param_sorted'][0]['y_test']\n",
    "\n",
    "xgb_ano_pred_prob = xgb_ano['param_sorted'][0]['prediction_proba']\n",
    "xgb_ano_y_test = xgb_ano['param_sorted'][0]['y_test']\n",
    "\n",
    "xgb_anomultisurf_pred_prob = xgb_anomultisurf['param_sorted'][0]['prediction_proba']\n",
    "xgb_anomultisurf_y_test = xgb_anomultisurf['param_sorted'][0]['y_test']"
   ]
  },
  {
   "cell_type": "code",
   "execution_count": 45,
   "id": "38eb9458-361e-473e-829e-62326608f2ce",
   "metadata": {},
   "outputs": [
    {
     "data": {
      "image/png": "[encoded data removed]",
      "text/plain": [
       "<Figure size 720x576 with 1 Axes>"
      ]
     },
     "metadata": {
      "needs_background": "light"
     },
     "output_type": "display_data"
    }
   ],
   "source": [
    "LABEL_FONT_SIZE = 16\n",
    "TITLE_FONT_SIZE = 18\n",
    "LEGEND_FONT_SIZE = 16\n",
    "TICK_FONT_SIZE = 14\n",
    "MULTI_FIG_SIZE = (16, 14)\n",
    "SINGLE_FIG_SIZE = (10,8)\n",
    "MARKER_SIZE = 10\n",
    "\n",
    "fig, ax = plt.subplots(1, 1, figsize=SINGLE_FIG_SIZE)\n",
    "lw = 2\n",
    "\n",
    "x = np.linspace(0,1,100)\n",
    "\n",
    "#Random Classifier\n",
    "ax.plot(x,x,'--b', lw= lw, label='Random Classifier (AUC=0.50)')\n",
    "    \n",
    "fpr_xgb, tpr_xgb, thresholds_xgb = roc_curve(xgb_anorelief_y_test, xgb_anorelief_pred_prob)\n",
    "roc_xgb = roc_auc_score(xgb_anorelief_y_test, xgb_anorelief_pred_prob)\n",
    "ax.plot(fpr_xgb, tpr_xgb, '#F5793A', lw = lw, label=f'Anova+ReliefF (AUC = {round(roc_xgb,2)})')\n",
    "\n",
    "fpr_xgb, tpr_xgb, thresholds_xgb = roc_curve(xgb_multisurf_y_test, xgb_multisurf_pred_prob)\n",
    "roc_xgb = roc_auc_score(xgb_multisurf_y_test, xgb_multisurf_pred_prob)\n",
    "ax.plot(fpr_xgb, tpr_xgb, '#A95AA1', lw = lw, label=f'MultiSURF (AUC = {round(roc_xgb,2)})')\n",
    "\n",
    "fpr_xgb, tpr_xgb, thresholds_xgb = roc_curve(xgb_relief_y_test, xgb_relief_pred_prob)\n",
    "roc_xgb = roc_auc_score(xgb_relief_y_test, xgb_relief_pred_prob)\n",
    "ax.plot(fpr_xgb, tpr_xgb, '#85C0F9', lw = lw, label=f'ReliefF (AUC = {round(roc_xgb,2)})')\n",
    "\n",
    "fpr_xgb, tpr_xgb, thresholds_xgb = roc_curve(xgb_ano_y_test, xgb_ano_pred_prob)\n",
    "roc_xgb = roc_auc_score(xgb_ano_y_test, xgb_ano_pred_prob)\n",
    "ax.plot(fpr_xgb, tpr_xgb, '#CCBE9F', lw = lw, label=f'Anova (AUC = {round(roc_xgb,2)})')\n",
    "\n",
    "fpr_xgb, tpr_xgb, thresholds_xgb = roc_curve(xgb_anomultisurf_y_test, xgb_anomultisurf_pred_prob)\n",
    "roc_xgb = roc_auc_score(xgb_anomultisurf_y_test, xgb_anomultisurf_pred_prob)\n",
    "ax.plot(fpr_xgb, tpr_xgb, 'black', lw = lw, label=f'Anova+MultiSURF (AUC = {round(roc_xgb,2)})')\n",
    "\n",
    "# ax.set_xlim(0,1)\n",
    "# ax.set_ylim(0,)\n",
    "\n",
    "ax.set_xlabel('FPR', fontsize=LABEL_FONT_SIZE)\n",
    "ax.set_ylabel('TPR', fontsize=LABEL_FONT_SIZE)\n",
    "set_tick_fontsize(ax, TICK_FONT_SIZE)\n",
    "ax.set_title('ROC Curves', fontsize=TITLE_FONT_SIZE)\n",
    "ax.legend(loc=\"lower right\", fontsize=LEGEND_FONT_SIZE)\n",
    "ax.grid();\n",
    "\n"
   ]
  },
  {
   "cell_type": "code",
   "execution_count": 46,
   "id": "c24e67fc-3e74-4484-a056-896094250fe0",
   "metadata": {},
   "outputs": [],
   "source": [
    "img_out_path = '../reports/figures/'\n",
    "fig.savefig(img_out_path+'ROC.pdf', dpi=300, bbox_inches='tight', pad_inches=.15)"
   ]
  },
  {
   "cell_type": "code",
   "execution_count": null,
   "id": "de23ff53-9a29-4fb9-a169-4583b8d419fb",
   "metadata": {},
   "outputs": [],
   "source": []
  },
  {
   "cell_type": "code",
   "execution_count": 356,
   "id": "3be9d708-2401-4c4f-bb9f-9579f69914e4",
   "metadata": {},
   "outputs": [],
   "source": [
    "feature_set = set([])\n",
    "for split in xgb_results['cv_data']:\n",
    "    selected_features = split[4]\n",
    "#     print(len(selected_features))\n",
    "    feature_set = feature_set.union(set(selected_features))\n",
    "    "
   ]
  },
  {
   "cell_type": "code",
   "execution_count": 352,
   "id": "fd1c44bb-6ab2-488f-9c87-d69dd05b4ba4",
   "metadata": {},
   "outputs": [
    {
     "data": {
      "text/plain": [
       "58"
      ]
     },
     "execution_count": 352,
     "metadata": {},
     "output_type": "execute_result"
    }
   ],
   "source": [
    "len(feature_set)"
   ]
  },
  {
   "cell_type": "code",
   "execution_count": 122,
   "id": "8b00f3ba-9b0a-4444-8a2a-7eadc869f143",
   "metadata": {},
   "outputs": [],
   "source": [
    "xgb_feature_set_dict = dict.fromkeys(list(feature_set), 0)"
   ]
  },
  {
   "cell_type": "code",
   "execution_count": 123,
   "id": "83192d4b-f243-4ce4-8ac9-871b79fb7e90",
   "metadata": {},
   "outputs": [],
   "source": [
    "for split in xgb_results['cv_data']:\n",
    "    for feat in split[4]:\n",
    "        xgb_feature_set_dict[feat]+=1"
   ]
  },
  {
   "cell_type": "code",
   "execution_count": 124,
   "id": "3455da11-a1b9-4cf8-b47e-4c1d03d56e7d",
   "metadata": {},
   "outputs": [
    {
     "data": {
      "text/plain": [
       "[('M72T2_2', 43),\n",
       " ('M138T4', 43),\n",
       " ('M77T3_1', 43),\n",
       " ('M82T2_2', 43),\n",
       " ('M98T6_2', 43),\n",
       " ('M84T6_1', 43),\n",
       " ('M110T12_2', 43),\n",
       " ('M93T11_1', 42),\n",
       " ('M151T1', 42),\n",
       " ('M38T11', 40),\n",
       " ('M127T6', 40),\n",
       " ('M94T11_1', 39),\n",
       " ('M97T3_1', 39),\n",
       " ('M100T4_1', 32),\n",
       " ('M63T7_2', 26),\n",
       " ('M84T4_1', 23),\n",
       " ('M108T7', 22),\n",
       " ('M39T7_1', 20),\n",
       " ('M95T2', 19),\n",
       " ('M58T7', 18),\n",
       " ('M69T2_1', 16),\n",
       " ('M107T7_2', 15),\n",
       " ('M90T2_2', 13),\n",
       " ('M69T4_1', 11),\n",
       " ('M100T3_1', 9),\n",
       " ('M56T2_1', 5),\n",
       " ('M166T6_1', 5),\n",
       " ('M131T2_1', 3),\n",
       " ('M100T6', 3),\n",
       " ('M50T11_2', 2),\n",
       " ('M69T6_1', 2),\n",
       " ('M98T2_1', 1),\n",
       " ('M131T7', 1),\n",
       " ('M50T2', 1),\n",
       " ('M86T3_4', 1),\n",
       " ('M170T6', 1),\n",
       " ('M86T2_1', 1),\n",
       " ('M139T2', 1),\n",
       " ('M96T6_3', 1),\n",
       " ('M63T11_1', 1),\n",
       " ('M43T2_3', 1),\n",
       " ('M90T3_1', 1),\n",
       " ('M94T3', 1),\n",
       " ('M85T5_3', 1),\n",
       " ('M83T3_3', 1),\n",
       " ('M90T12', 1),\n",
       " ('M74T11_2', 1),\n",
       " ('M155T2_2', 1),\n",
       " ('M100T3_2', 1),\n",
       " ('M104T2', 1),\n",
       " ('M69T10_3', 1),\n",
       " ('M46T4', 1),\n",
       " ('M137T4', 1),\n",
       " ('M68T2_1', 1),\n",
       " ('M89T12_3', 1),\n",
       " ('M103T12_2', 1),\n",
       " ('M112T3_1', 1),\n",
       " ('M43T5_3', 1)]"
      ]
     },
     "execution_count": 124,
     "metadata": {},
     "output_type": "execute_result"
    }
   ],
   "source": [
    "sorted(xgb_feature_set_dict.items(), key=lambda x: x[1], reverse=True)"
   ]
  },
  {
   "cell_type": "code",
   "execution_count": null,
   "id": "29bdf399-4548-4fc3-b72f-bffaa0a24999",
   "metadata": {},
   "outputs": [],
   "source": []
  },
  {
   "cell_type": "code",
   "execution_count": 125,
   "id": "a0cdb4d9-6ab1-44f4-8aab-deaff78f4d86",
   "metadata": {},
   "outputs": [
    {
     "name": "stdout",
     "output_type": "stream",
     "text": [
      "split 1 | 23/58\n",
      "split 2 | 14/58\n",
      "split 3 | 14/58\n",
      "split 4 | 27/58\n",
      "split 5 | 26/58\n",
      "split 6 | 19/58\n",
      "split 7 | 13/58\n",
      "split 8 | 24/58\n",
      "split 9 | 21/58\n",
      "split 10 | 17/58\n",
      "split 11 | 25/58\n",
      "split 12 | 16/58\n",
      "split 13 | 26/58\n",
      "split 14 | 14/58\n",
      "split 15 | 22/58\n",
      "split 16 | 21/58\n",
      "split 17 | 25/58\n",
      "split 18 | 19/58\n",
      "split 19 | 22/58\n",
      "split 20 | 22/58\n",
      "split 21 | 25/58\n",
      "split 22 | 22/58\n",
      "split 23 | 19/58\n",
      "split 24 | 20/58\n",
      "split 25 | 25/58\n",
      "split 26 | 20/58\n",
      "split 27 | 26/58\n",
      "split 28 | 22/58\n",
      "split 29 | 19/58\n",
      "split 30 | 15/58\n",
      "split 31 | 17/58\n",
      "split 32 | 14/58\n",
      "split 33 | 15/58\n",
      "split 34 | 20/58\n",
      "split 35 | 21/58\n",
      "split 36 | 14/58\n",
      "split 37 | 13/58\n",
      "split 38 | 13/58\n",
      "split 39 | 9/58\n",
      "split 40 | 12/58\n",
      "split 41 | 19/58\n",
      "split 42 | 12/58\n",
      "split 43 | 12/58\n"
     ]
    }
   ],
   "source": [
    "counter = 1\n",
    "for split in xgb_results['cv_data']:\n",
    "    print(f'split {counter} | {len(split[4])}/58')\n",
    "    counter+=1"
   ]
  },
  {
   "cell_type": "code",
   "execution_count": null,
   "id": "a95e5bd8-a62c-4b49-8735-6dbeb7e76679",
   "metadata": {},
   "outputs": [],
   "source": []
  },
  {
   "cell_type": "markdown",
   "id": "d77ea353-31f1-4a4b-b577-83dee88627d8",
   "metadata": {},
   "source": [
    "# Appendix"
   ]
  },
  {
   "cell_type": "code",
   "execution_count": 110,
   "id": "sunset-formation",
   "metadata": {},
   "outputs": [],
   "source": [
    "# LR"
   ]
  },
  {
   "cell_type": "code",
   "execution_count": 8,
   "id": "rotary-milton",
   "metadata": {},
   "outputs": [],
   "source": [
    "lr_file_path = '../src/train/results/lr/'\n",
    "lr_res_df = create_result_df(lr_file_path, 'lr')"
   ]
  },
  {
   "cell_type": "code",
   "execution_count": 9,
   "id": "aa88b037-7fb1-475a-b29f-5f191693bb26",
   "metadata": {},
   "outputs": [],
   "source": [
    "lr_res_roc = lr_res_df[lr_res_df['Algorithm'].str.contains('roc')]"
   ]
  },
  {
   "cell_type": "code",
   "execution_count": 10,
   "id": "e27d5f65-e2e2-48ba-9ffe-4d616bcb288b",
   "metadata": {},
   "outputs": [],
   "source": [
    "lr_res_roc = lr_res_roc[~lr_res_roc['Algorithm'].str.contains('class_weight')]"
   ]
  },
  {
   "cell_type": "code",
   "execution_count": 11,
   "id": "naval-female",
   "metadata": {},
   "outputs": [
    {
     "data": {
      "text/html": [
       "<div>\n",
       "<style scoped>\n",
       "    .dataframe tbody tr th:only-of-type {\n",
       "        vertical-align: middle;\n",
       "    }\n",
       "\n",
       "    .dataframe tbody tr th {\n",
       "        vertical-align: top;\n",
       "    }\n",
       "\n",
       "    .dataframe thead th {\n",
       "        text-align: right;\n",
       "    }\n",
       "</style>\n",
       "<table border=\"1\" class=\"dataframe\">\n",
       "  <thead>\n",
       "    <tr style=\"text-align: right;\">\n",
       "      <th></th>\n",
       "      <th>Algorithm</th>\n",
       "      <th>AUCPR</th>\n",
       "      <th>AUCROC</th>\n",
       "      <th>NPV</th>\n",
       "      <th>Precision</th>\n",
       "      <th>Recall</th>\n",
       "      <th>Specificity</th>\n",
       "      <th>Accuracy</th>\n",
       "      <th>F1</th>\n",
       "    </tr>\n",
       "  </thead>\n",
       "  <tbody>\n",
       "    <tr>\n",
       "      <th>24</th>\n",
       "      <td>lr_fs_no_eval_roc</td>\n",
       "      <td>0.786986</td>\n",
       "      <td>0.849754</td>\n",
       "      <td>0.823529</td>\n",
       "      <td>0.888889</td>\n",
       "      <td>0.571429</td>\n",
       "      <td>0.965517</td>\n",
       "      <td>0.837209</td>\n",
       "      <td>0.695652</td>\n",
       "    </tr>\n",
       "    <tr>\n",
       "      <th>12</th>\n",
       "      <td>lr_fs_multisurf_eval_roc</td>\n",
       "      <td>0.734863</td>\n",
       "      <td>0.820197</td>\n",
       "      <td>0.771429</td>\n",
       "      <td>0.750000</td>\n",
       "      <td>0.428571</td>\n",
       "      <td>0.931034</td>\n",
       "      <td>0.767442</td>\n",
       "      <td>0.545455</td>\n",
       "    </tr>\n",
       "    <tr>\n",
       "      <th>21</th>\n",
       "      <td>lr_fs_reliefF_eval_roc</td>\n",
       "      <td>0.667865</td>\n",
       "      <td>0.825123</td>\n",
       "      <td>0.787879</td>\n",
       "      <td>0.700000</td>\n",
       "      <td>0.500000</td>\n",
       "      <td>0.896552</td>\n",
       "      <td>0.767442</td>\n",
       "      <td>0.583333</td>\n",
       "    </tr>\n",
       "    <tr>\n",
       "      <th>15</th>\n",
       "      <td>lr_fs_anovaF_eval_roc</td>\n",
       "      <td>0.613448</td>\n",
       "      <td>0.768473</td>\n",
       "      <td>0.717949</td>\n",
       "      <td>0.750000</td>\n",
       "      <td>0.214286</td>\n",
       "      <td>0.965517</td>\n",
       "      <td>0.720930</td>\n",
       "      <td>0.333333</td>\n",
       "    </tr>\n",
       "    <tr>\n",
       "      <th>6</th>\n",
       "      <td>lr_fs_anova_reliefF_eval_roc</td>\n",
       "      <td>0.581527</td>\n",
       "      <td>0.746305</td>\n",
       "      <td>0.717949</td>\n",
       "      <td>0.750000</td>\n",
       "      <td>0.214286</td>\n",
       "      <td>0.965517</td>\n",
       "      <td>0.720930</td>\n",
       "      <td>0.333333</td>\n",
       "    </tr>\n",
       "    <tr>\n",
       "      <th>29</th>\n",
       "      <td>lr_fs_anova_multisurf_eval_roc</td>\n",
       "      <td>0.456142</td>\n",
       "      <td>0.652709</td>\n",
       "      <td>0.675000</td>\n",
       "      <td>0.333333</td>\n",
       "      <td>0.071429</td>\n",
       "      <td>0.931034</td>\n",
       "      <td>0.651163</td>\n",
       "      <td>0.117647</td>\n",
       "    </tr>\n",
       "  </tbody>\n",
       "</table>\n",
       "</div>"
      ],
      "text/plain": [
       "                         Algorithm     AUCPR    AUCROC       NPV  Precision  \\\n",
       "24               lr_fs_no_eval_roc  0.786986  0.849754  0.823529   0.888889   \n",
       "12        lr_fs_multisurf_eval_roc  0.734863  0.820197  0.771429   0.750000   \n",
       "21          lr_fs_reliefF_eval_roc  0.667865  0.825123  0.787879   0.700000   \n",
       "15           lr_fs_anovaF_eval_roc  0.613448  0.768473  0.717949   0.750000   \n",
       "6     lr_fs_anova_reliefF_eval_roc  0.581527  0.746305  0.717949   0.750000   \n",
       "29  lr_fs_anova_multisurf_eval_roc  0.456142  0.652709  0.675000   0.333333   \n",
       "\n",
       "      Recall  Specificity  Accuracy        F1  \n",
       "24  0.571429     0.965517  0.837209  0.695652  \n",
       "12  0.428571     0.931034  0.767442  0.545455  \n",
       "21  0.500000     0.896552  0.767442  0.583333  \n",
       "15  0.214286     0.965517  0.720930  0.333333  \n",
       "6   0.214286     0.965517  0.720930  0.333333  \n",
       "29  0.071429     0.931034  0.651163  0.117647  "
      ]
     },
     "execution_count": 11,
     "metadata": {},
     "output_type": "execute_result"
    }
   ],
   "source": [
    "lr_res_roc.sort_values(by='AUCPR', ascending = False)"
   ]
  },
  {
   "cell_type": "code",
   "execution_count": null,
   "id": "convinced-madrid",
   "metadata": {},
   "outputs": [],
   "source": []
  },
  {
   "cell_type": "code",
   "execution_count": 126,
   "id": "compressed-elephant",
   "metadata": {},
   "outputs": [],
   "source": [
    "# SVM"
   ]
  },
  {
   "cell_type": "code",
   "execution_count": 409,
   "id": "requested-motor",
   "metadata": {},
   "outputs": [],
   "source": [
    "svm_file_path = '../src/train/results/svm/'\n",
    "svm_res_df = create_result_df(svm_file_path, 'svm')"
   ]
  },
  {
   "cell_type": "code",
   "execution_count": 423,
   "id": "unavailable-vocabulary",
   "metadata": {},
   "outputs": [
    {
     "name": "stderr",
     "output_type": "stream",
     "text": [
      "/Users/boses1/anaconda3/lib/python3.6/site-packages/ipykernel_launcher.py:40: RuntimeWarning: invalid value encountered in long_scalars\n",
      "/Users/boses1/anaconda3/lib/python3.6/site-packages/ipykernel_launcher.py:40: RuntimeWarning: invalid value encountered in long_scalars\n",
      "/Users/boses1/anaconda3/lib/python3.6/site-packages/ipykernel_launcher.py:40: RuntimeWarning: invalid value encountered in long_scalars\n"
     ]
    }
   ],
   "source": [
    "svm_file_path = '../src/train/results/svm_lim_vector2/'\n",
    "svm_res_df = create_result_df(svm_file_path, 'svm')"
   ]
  },
  {
   "cell_type": "code",
   "execution_count": 424,
   "id": "lesbian-syndication",
   "metadata": {},
   "outputs": [
    {
     "data": {
      "text/html": [
       "<div>\n",
       "<style scoped>\n",
       "    .dataframe tbody tr th:only-of-type {\n",
       "        vertical-align: middle;\n",
       "    }\n",
       "\n",
       "    .dataframe tbody tr th {\n",
       "        vertical-align: top;\n",
       "    }\n",
       "\n",
       "    .dataframe thead th {\n",
       "        text-align: right;\n",
       "    }\n",
       "</style>\n",
       "<table border=\"1\" class=\"dataframe\">\n",
       "  <thead>\n",
       "    <tr style=\"text-align: right;\">\n",
       "      <th></th>\n",
       "      <th>Algorithm</th>\n",
       "      <th>AUCPR</th>\n",
       "      <th>AUCROC</th>\n",
       "      <th>NPV</th>\n",
       "      <th>Precision</th>\n",
       "      <th>Recall</th>\n",
       "      <th>Specificity</th>\n",
       "      <th>Accuracy</th>\n",
       "      <th>F1</th>\n",
       "    </tr>\n",
       "  </thead>\n",
       "  <tbody>\n",
       "    <tr>\n",
       "      <th>3</th>\n",
       "      <td>svm_fs_anovaF_cb_class_weight_eval_apr</td>\n",
       "      <td>0.797353</td>\n",
       "      <td>0.770936</td>\n",
       "      <td>0.862069</td>\n",
       "      <td>0.714286</td>\n",
       "      <td>0.714286</td>\n",
       "      <td>0.862069</td>\n",
       "      <td>0.813953</td>\n",
       "      <td>0.714286</td>\n",
       "    </tr>\n",
       "    <tr>\n",
       "      <th>2</th>\n",
       "      <td>svm_fs_anova_reliefF_cb_class_weight_eval_apr</td>\n",
       "      <td>0.796367</td>\n",
       "      <td>0.768473</td>\n",
       "      <td>0.857143</td>\n",
       "      <td>0.666667</td>\n",
       "      <td>0.714286</td>\n",
       "      <td>0.827586</td>\n",
       "      <td>0.790698</td>\n",
       "      <td>0.689655</td>\n",
       "    </tr>\n",
       "    <tr>\n",
       "      <th>1</th>\n",
       "      <td>svm_fs_anova_multisurf_cb_class_weight_eval_apr</td>\n",
       "      <td>0.640867</td>\n",
       "      <td>0.743842</td>\n",
       "      <td>0.771429</td>\n",
       "      <td>0.750000</td>\n",
       "      <td>0.428571</td>\n",
       "      <td>0.931034</td>\n",
       "      <td>0.767442</td>\n",
       "      <td>0.545455</td>\n",
       "    </tr>\n",
       "    <tr>\n",
       "      <th>0</th>\n",
       "      <td>svm_fs_no_cb_class_weight_eval_apr</td>\n",
       "      <td>0.325581</td>\n",
       "      <td>0.000000</td>\n",
       "      <td>0.674419</td>\n",
       "      <td>NaN</td>\n",
       "      <td>0.000000</td>\n",
       "      <td>1.000000</td>\n",
       "      <td>0.674419</td>\n",
       "      <td>NaN</td>\n",
       "    </tr>\n",
       "    <tr>\n",
       "      <th>4</th>\n",
       "      <td>svm_fs_reliefF_cb_class_weight_eval_apr</td>\n",
       "      <td>0.195571</td>\n",
       "      <td>0.000000</td>\n",
       "      <td>0.674419</td>\n",
       "      <td>NaN</td>\n",
       "      <td>0.000000</td>\n",
       "      <td>1.000000</td>\n",
       "      <td>0.674419</td>\n",
       "      <td>NaN</td>\n",
       "    </tr>\n",
       "    <tr>\n",
       "      <th>5</th>\n",
       "      <td>svm_fs_multisurf_cb_class_weight_eval_apr</td>\n",
       "      <td>0.195571</td>\n",
       "      <td>0.000000</td>\n",
       "      <td>0.674419</td>\n",
       "      <td>NaN</td>\n",
       "      <td>0.000000</td>\n",
       "      <td>1.000000</td>\n",
       "      <td>0.674419</td>\n",
       "      <td>NaN</td>\n",
       "    </tr>\n",
       "  </tbody>\n",
       "</table>\n",
       "</div>"
      ],
      "text/plain": [
       "                                         Algorithm     AUCPR    AUCROC  \\\n",
       "3           svm_fs_anovaF_cb_class_weight_eval_apr  0.797353  0.770936   \n",
       "2    svm_fs_anova_reliefF_cb_class_weight_eval_apr  0.796367  0.768473   \n",
       "1  svm_fs_anova_multisurf_cb_class_weight_eval_apr  0.640867  0.743842   \n",
       "0               svm_fs_no_cb_class_weight_eval_apr  0.325581  0.000000   \n",
       "4          svm_fs_reliefF_cb_class_weight_eval_apr  0.195571  0.000000   \n",
       "5        svm_fs_multisurf_cb_class_weight_eval_apr  0.195571  0.000000   \n",
       "\n",
       "        NPV  Precision    Recall  Specificity  Accuracy        F1  \n",
       "3  0.862069   0.714286  0.714286     0.862069  0.813953  0.714286  \n",
       "2  0.857143   0.666667  0.714286     0.827586  0.790698  0.689655  \n",
       "1  0.771429   0.750000  0.428571     0.931034  0.767442  0.545455  \n",
       "0  0.674419        NaN  0.000000     1.000000  0.674419       NaN  \n",
       "4  0.674419        NaN  0.000000     1.000000  0.674419       NaN  \n",
       "5  0.674419        NaN  0.000000     1.000000  0.674419       NaN  "
      ]
     },
     "execution_count": 424,
     "metadata": {},
     "output_type": "execute_result"
    }
   ],
   "source": [
    "svm_res_df.sort_values(by='AUCPR', ascending = False)"
   ]
  },
  {
   "cell_type": "code",
   "execution_count": 425,
   "id": "composite-representation",
   "metadata": {},
   "outputs": [
    {
     "data": {
      "text/plain": [
       "'../src/train/results/svm_lim_vector2/'"
      ]
     },
     "execution_count": 425,
     "metadata": {},
     "output_type": "execute_result"
    }
   ],
   "source": [
    "svm_file_path"
   ]
  },
  {
   "cell_type": "code",
   "execution_count": 455,
   "id": "interstate-finance",
   "metadata": {},
   "outputs": [],
   "source": [
    "with open(svm_file_path + 'svm_fs_anovaF_cb_class_weight_eval_apr_results.pik', \"rb\") as f:\n",
    "            svm_results = dill.load(f)"
   ]
  },
  {
   "cell_type": "code",
   "execution_count": 456,
   "id": "relative-wagner",
   "metadata": {},
   "outputs": [
    {
     "data": {
      "text/plain": [
       "dict_keys(['algo', 'cv_data', 'trials', 'opt_param', 'param_sorted'])"
      ]
     },
     "execution_count": 456,
     "metadata": {},
     "output_type": "execute_result"
    }
   ],
   "source": [
    "svm_results.keys()"
   ]
  },
  {
   "cell_type": "code",
   "execution_count": 457,
   "id": "choice-applicant",
   "metadata": {},
   "outputs": [],
   "source": [
    "svm_pred_score = svm_results['param_sorted'][0]['prediction_score']"
   ]
  },
  {
   "cell_type": "code",
   "execution_count": 458,
   "id": "former-reservation",
   "metadata": {},
   "outputs": [
    {
     "data": {
      "text/plain": [
       "{'C': 65.02664396742932,\n",
       " 'class_weight': 'balanced',\n",
       " 'gamma': 'auto',\n",
       " 'kernel': 'rbf',\n",
       " 'probability': True}"
      ]
     },
     "execution_count": 458,
     "metadata": {},
     "output_type": "execute_result"
    }
   ],
   "source": [
    "svm_results['opt_param']"
   ]
  },
  {
   "cell_type": "code",
   "execution_count": null,
   "id": "southern-retention",
   "metadata": {},
   "outputs": [],
   "source": []
  },
  {
   "cell_type": "markdown",
   "id": "structured-bhutan",
   "metadata": {},
   "source": [
    "How do you check for overfitting? You cant do learning curves when model was trained using feature selection embedded in LOO because each training split in LOO has a different set of features. So there is no single set of features to be used for learning curve.\n",
    "\n",
    "In regular k fold CV, you can pick hyperparamters for the median performing split and then do learning curve analysis for the median performing split. "
   ]
  },
  {
   "cell_type": "markdown",
   "id": "likely-calibration",
   "metadata": {},
   "source": [
    "If we dont control for the number of support vectors in SVM, we are overfitting the dataset even with LOO as is evidenced by the number of support vectors in the learnt model"
   ]
  },
  {
   "cell_type": "code",
   "execution_count": 443,
   "id": "standard-wayne",
   "metadata": {},
   "outputs": [],
   "source": [
    "# svm_res_df.sort_values(by='AUCPR', ascending = False)"
   ]
  },
  {
   "cell_type": "code",
   "execution_count": null,
   "id": "romance-walter",
   "metadata": {},
   "outputs": [],
   "source": []
  },
  {
   "cell_type": "code",
   "execution_count": 220,
   "id": "tamil-connecticut",
   "metadata": {},
   "outputs": [],
   "source": [
    "y_test = svm_results['param_sorted'][0]['y_test']"
   ]
  },
  {
   "cell_type": "code",
   "execution_count": 221,
   "id": "unexpected-anthony",
   "metadata": {},
   "outputs": [],
   "source": [
    "svm_pred = [int(i>=0.) for i in svm_pred_score]"
   ]
  },
  {
   "cell_type": "code",
   "execution_count": 222,
   "id": "tutorial-efficiency",
   "metadata": {},
   "outputs": [
    {
     "data": {
      "text/plain": [
       "array([[29,  0],\n",
       "       [ 0, 14]])"
      ]
     },
     "execution_count": 222,
     "metadata": {},
     "output_type": "execute_result"
    }
   ],
   "source": [
    "confusion_matrix(y_test, svm_pred)"
   ]
  },
  {
   "cell_type": "code",
   "execution_count": null,
   "id": "packed-guidance",
   "metadata": {},
   "outputs": [],
   "source": []
  },
  {
   "cell_type": "code",
   "execution_count": 459,
   "id": "ongoing-minister",
   "metadata": {},
   "outputs": [],
   "source": [
    "feature_set = set([])\n",
    "for split in svm_results['cv_data']:\n",
    "    selected_features = split[4]\n",
    "#     print(len(selected_features))\n",
    "    feature_set = feature_set.union(set(selected_features))\n",
    "    "
   ]
  },
  {
   "cell_type": "code",
   "execution_count": 460,
   "id": "informational-interest",
   "metadata": {},
   "outputs": [
    {
     "data": {
      "text/plain": [
       "66"
      ]
     },
     "execution_count": 460,
     "metadata": {},
     "output_type": "execute_result"
    }
   ],
   "source": [
    "len(feature_set)"
   ]
  },
  {
   "cell_type": "code",
   "execution_count": 461,
   "id": "nearby-detector",
   "metadata": {},
   "outputs": [],
   "source": [
    "svm_feature_set_dict = dict.fromkeys(list(feature_set), 0)"
   ]
  },
  {
   "cell_type": "code",
   "execution_count": 462,
   "id": "military-cinema",
   "metadata": {},
   "outputs": [],
   "source": [
    "for split in svm_results['cv_data']:\n",
    "    for feat in split[4]:\n",
    "        svm_feature_set_dict[feat]+=1"
   ]
  },
  {
   "cell_type": "code",
   "execution_count": 463,
   "id": "known-roller",
   "metadata": {},
   "outputs": [],
   "source": [
    "sorted_features = sorted(svm_feature_set_dict.items(), key=lambda x: x[1], reverse=True)"
   ]
  },
  {
   "cell_type": "code",
   "execution_count": 464,
   "id": "immune-penny",
   "metadata": {},
   "outputs": [],
   "source": [
    "important_features = []\n",
    "for feat in sorted_features:\n",
    "    if feat[1]>=22:\n",
    "        important_features.append(feat)\n",
    "    "
   ]
  },
  {
   "cell_type": "code",
   "execution_count": 465,
   "id": "established-acrobat",
   "metadata": {},
   "outputs": [
    {
     "data": {
      "text/plain": [
       "[('M77T3_1', 43),\n",
       " ('M82T2_2', 43),\n",
       " ('M110T12_2', 43),\n",
       " ('M72T2_2', 43),\n",
       " ('M138T4', 43),\n",
       " ('M39T7_1', 43),\n",
       " ('M98T6_2', 43),\n",
       " ('M84T6_1', 43),\n",
       " ('M93T11_1', 42),\n",
       " ('M151T1', 42),\n",
       " ('M108T7', 42),\n",
       " ('M63T7_2', 41),\n",
       " ('M58T7', 40),\n",
       " ('M38T11', 40),\n",
       " ('M127T6', 40),\n",
       " ('M94T11_1', 39),\n",
       " ('M97T3_1', 39),\n",
       " ('M100T4_1', 32),\n",
       " ('M84T4_1', 23),\n",
       " ('M90T2_2', 22),\n",
       " ('M67T2_1', 22)]"
      ]
     },
     "execution_count": 465,
     "metadata": {},
     "output_type": "execute_result"
    }
   ],
   "source": [
    "important_features"
   ]
  },
  {
   "cell_type": "code",
   "execution_count": null,
   "id": "exposed-boating",
   "metadata": {},
   "outputs": [],
   "source": []
  },
  {
   "cell_type": "code",
   "execution_count": 397,
   "id": "rotary-australian",
   "metadata": {},
   "outputs": [],
   "source": [
    "# HAVE to reload svm_fs_no_cb_class_weight_eval_apr for this to work\n",
    "params = svm_results['opt_param']"
   ]
  },
  {
   "cell_type": "code",
   "execution_count": 398,
   "id": "tropical-france",
   "metadata": {},
   "outputs": [
    {
     "data": {
      "text/plain": [
       "{'C': 65.02664396742932,\n",
       " 'class_weight': 'balanced',\n",
       " 'gamma': 'auto',\n",
       " 'kernel': 'rbf',\n",
       " 'probability': True}"
      ]
     },
     "execution_count": 398,
     "metadata": {},
     "output_type": "execute_result"
    }
   ],
   "source": [
    "params"
   ]
  },
  {
   "cell_type": "code",
   "execution_count": 399,
   "id": "black-superior",
   "metadata": {},
   "outputs": [
    {
     "data": {
      "text/html": [
       "<div>\n",
       "<style scoped>\n",
       "    .dataframe tbody tr th:only-of-type {\n",
       "        vertical-align: middle;\n",
       "    }\n",
       "\n",
       "    .dataframe tbody tr th {\n",
       "        vertical-align: top;\n",
       "    }\n",
       "\n",
       "    .dataframe thead th {\n",
       "        text-align: right;\n",
       "    }\n",
       "</style>\n",
       "<table border=\"1\" class=\"dataframe\">\n",
       "  <thead>\n",
       "    <tr style=\"text-align: right;\">\n",
       "      <th></th>\n",
       "      <th>M151T1</th>\n",
       "      <th>M83T1</th>\n",
       "      <th>M101T1</th>\n",
       "      <th>M46T1</th>\n",
       "      <th>M49T1</th>\n",
       "      <th>M66T1</th>\n",
       "      <th>M62T1</th>\n",
       "      <th>M80T1</th>\n",
       "      <th>M137T1</th>\n",
       "      <th>M135T1</th>\n",
       "      <th>...</th>\n",
       "      <th>M110T26_1</th>\n",
       "      <th>M121T26_1</th>\n",
       "      <th>M175T26_1</th>\n",
       "      <th>M124T26_1</th>\n",
       "      <th>M138T26_2</th>\n",
       "      <th>M85T26_2</th>\n",
       "      <th>M174T26</th>\n",
       "      <th>M123T26_1</th>\n",
       "      <th>M91T26</th>\n",
       "      <th>M94T26</th>\n",
       "    </tr>\n",
       "  </thead>\n",
       "  <tbody>\n",
       "    <tr>\n",
       "      <th>0</th>\n",
       "      <td>16.048388</td>\n",
       "      <td>6064.292377</td>\n",
       "      <td>781.993514</td>\n",
       "      <td>802.020931</td>\n",
       "      <td>4694.204132</td>\n",
       "      <td>7.292742e+04</td>\n",
       "      <td>29491.232768</td>\n",
       "      <td>16.024791</td>\n",
       "      <td>1710.311517</td>\n",
       "      <td>610.786947</td>\n",
       "      <td>...</td>\n",
       "      <td>7867.025232</td>\n",
       "      <td>8965.565729</td>\n",
       "      <td>3012.051770</td>\n",
       "      <td>4658.714325</td>\n",
       "      <td>2340.026084</td>\n",
       "      <td>12912.976187</td>\n",
       "      <td>1397.742432</td>\n",
       "      <td>16170.724464</td>\n",
       "      <td>10359.088145</td>\n",
       "      <td>4524.513159</td>\n",
       "    </tr>\n",
       "    <tr>\n",
       "      <th>1</th>\n",
       "      <td>2966.261917</td>\n",
       "      <td>134774.774889</td>\n",
       "      <td>62570.597315</td>\n",
       "      <td>18605.033364</td>\n",
       "      <td>23763.284044</td>\n",
       "      <td>6.268676e+06</td>\n",
       "      <td>392830.377721</td>\n",
       "      <td>5189.617648</td>\n",
       "      <td>1061.179026</td>\n",
       "      <td>63189.361143</td>\n",
       "      <td>...</td>\n",
       "      <td>278936.880991</td>\n",
       "      <td>323372.411031</td>\n",
       "      <td>79971.903683</td>\n",
       "      <td>215630.572047</td>\n",
       "      <td>79703.417540</td>\n",
       "      <td>524443.694141</td>\n",
       "      <td>58370.370030</td>\n",
       "      <td>714891.705277</td>\n",
       "      <td>330847.552709</td>\n",
       "      <td>229032.808630</td>\n",
       "    </tr>\n",
       "    <tr>\n",
       "      <th>2</th>\n",
       "      <td>8377.442132</td>\n",
       "      <td>54888.286191</td>\n",
       "      <td>7574.412552</td>\n",
       "      <td>24452.053496</td>\n",
       "      <td>8865.881271</td>\n",
       "      <td>8.122816e+05</td>\n",
       "      <td>470305.922774</td>\n",
       "      <td>2883.659359</td>\n",
       "      <td>4927.060920</td>\n",
       "      <td>68984.802047</td>\n",
       "      <td>...</td>\n",
       "      <td>330297.442948</td>\n",
       "      <td>400547.227331</td>\n",
       "      <td>89001.852491</td>\n",
       "      <td>237332.546382</td>\n",
       "      <td>92068.988978</td>\n",
       "      <td>281554.565002</td>\n",
       "      <td>73030.972156</td>\n",
       "      <td>942769.300372</td>\n",
       "      <td>653550.454878</td>\n",
       "      <td>189904.532666</td>\n",
       "    </tr>\n",
       "    <tr>\n",
       "      <th>3</th>\n",
       "      <td>37.609095</td>\n",
       "      <td>10440.984838</td>\n",
       "      <td>26.750624</td>\n",
       "      <td>88.923190</td>\n",
       "      <td>1827.264205</td>\n",
       "      <td>4.491165e+04</td>\n",
       "      <td>8166.159143</td>\n",
       "      <td>1374.437507</td>\n",
       "      <td>732.478087</td>\n",
       "      <td>1881.366829</td>\n",
       "      <td>...</td>\n",
       "      <td>1090.182759</td>\n",
       "      <td>998.434986</td>\n",
       "      <td>220.276019</td>\n",
       "      <td>648.220851</td>\n",
       "      <td>375.745446</td>\n",
       "      <td>1799.311194</td>\n",
       "      <td>106.666198</td>\n",
       "      <td>1713.346412</td>\n",
       "      <td>2279.341711</td>\n",
       "      <td>655.383157</td>\n",
       "    </tr>\n",
       "    <tr>\n",
       "      <th>4</th>\n",
       "      <td>115.438628</td>\n",
       "      <td>7287.725513</td>\n",
       "      <td>112.578791</td>\n",
       "      <td>28.656514</td>\n",
       "      <td>5843.718655</td>\n",
       "      <td>1.573132e+05</td>\n",
       "      <td>21056.733832</td>\n",
       "      <td>3441.212011</td>\n",
       "      <td>170.831961</td>\n",
       "      <td>284.265511</td>\n",
       "      <td>...</td>\n",
       "      <td>9453.592618</td>\n",
       "      <td>17333.718556</td>\n",
       "      <td>1887.790859</td>\n",
       "      <td>8186.847903</td>\n",
       "      <td>3752.941527</td>\n",
       "      <td>10702.205663</td>\n",
       "      <td>2548.940100</td>\n",
       "      <td>33661.377548</td>\n",
       "      <td>16464.790716</td>\n",
       "      <td>7288.223731</td>\n",
       "    </tr>\n",
       "  </tbody>\n",
       "</table>\n",
       "<p>5 rows × 2734 columns</p>\n",
       "</div>"
      ],
      "text/plain": [
       "        M151T1          M83T1        M101T1         M46T1         M49T1  \\\n",
       "0    16.048388    6064.292377    781.993514    802.020931   4694.204132   \n",
       "1  2966.261917  134774.774889  62570.597315  18605.033364  23763.284044   \n",
       "2  8377.442132   54888.286191   7574.412552  24452.053496   8865.881271   \n",
       "3    37.609095   10440.984838     26.750624     88.923190   1827.264205   \n",
       "4   115.438628    7287.725513    112.578791     28.656514   5843.718655   \n",
       "\n",
       "          M66T1          M62T1        M80T1       M137T1        M135T1  ...  \\\n",
       "0  7.292742e+04   29491.232768    16.024791  1710.311517    610.786947  ...   \n",
       "1  6.268676e+06  392830.377721  5189.617648  1061.179026  63189.361143  ...   \n",
       "2  8.122816e+05  470305.922774  2883.659359  4927.060920  68984.802047  ...   \n",
       "3  4.491165e+04    8166.159143  1374.437507   732.478087   1881.366829  ...   \n",
       "4  1.573132e+05   21056.733832  3441.212011   170.831961    284.265511  ...   \n",
       "\n",
       "       M110T26_1      M121T26_1     M175T26_1      M124T26_1     M138T26_2  \\\n",
       "0    7867.025232    8965.565729   3012.051770    4658.714325   2340.026084   \n",
       "1  278936.880991  323372.411031  79971.903683  215630.572047  79703.417540   \n",
       "2  330297.442948  400547.227331  89001.852491  237332.546382  92068.988978   \n",
       "3    1090.182759     998.434986    220.276019     648.220851    375.745446   \n",
       "4    9453.592618   17333.718556   1887.790859    8186.847903   3752.941527   \n",
       "\n",
       "        M85T26_2       M174T26      M123T26_1         M91T26         M94T26  \n",
       "0   12912.976187   1397.742432   16170.724464   10359.088145    4524.513159  \n",
       "1  524443.694141  58370.370030  714891.705277  330847.552709  229032.808630  \n",
       "2  281554.565002  73030.972156  942769.300372  653550.454878  189904.532666  \n",
       "3    1799.311194    106.666198    1713.346412    2279.341711     655.383157  \n",
       "4   10702.205663   2548.940100   33661.377548   16464.790716    7288.223731  \n",
       "\n",
       "[5 rows x 2734 columns]"
      ]
     },
     "execution_count": 399,
     "metadata": {},
     "output_type": "execute_result"
    }
   ],
   "source": [
    "data.head()"
   ]
  },
  {
   "cell_type": "code",
   "execution_count": 400,
   "id": "streaming-applicant",
   "metadata": {},
   "outputs": [
    {
     "name": "stdout",
     "output_type": "stream",
     "text": [
      "(42, 2734)\n",
      "(1, 2734)\n",
      "num_sv [24 12]\n",
      "(42, 2734)\n",
      "(1, 2734)\n",
      "num_sv [24 12]\n",
      "(42, 2734)\n",
      "(1, 2734)\n",
      "num_sv [24 12]\n",
      "(42, 2734)\n",
      "(1, 2734)\n",
      "num_sv [24 12]\n",
      "(42, 2734)\n",
      "(1, 2734)\n",
      "num_sv [24 12]\n",
      "(42, 2734)\n",
      "(1, 2734)\n",
      "num_sv [23 12]\n",
      "(42, 2734)\n",
      "(1, 2734)\n",
      "num_sv [24 12]\n",
      "(42, 2734)\n",
      "(1, 2734)\n",
      "num_sv [24 12]\n",
      "(42, 2734)\n",
      "(1, 2734)\n",
      "num_sv [24 12]\n",
      "(42, 2734)\n",
      "(1, 2734)\n",
      "num_sv [24 12]\n",
      "(42, 2734)\n",
      "(1, 2734)\n",
      "num_sv [24 12]\n",
      "(42, 2734)\n",
      "(1, 2734)\n",
      "num_sv [24 12]\n",
      "(42, 2734)\n",
      "(1, 2734)\n",
      "num_sv [24 12]\n",
      "(42, 2734)\n",
      "(1, 2734)\n",
      "num_sv [23 12]\n",
      "(42, 2734)\n",
      "(1, 2734)\n",
      "num_sv [24 12]\n",
      "(42, 2734)\n",
      "(1, 2734)\n",
      "num_sv [24 12]\n",
      "(42, 2734)\n",
      "(1, 2734)\n",
      "num_sv [24 12]\n",
      "(42, 2734)\n",
      "(1, 2734)\n",
      "num_sv [22 12]\n",
      "(42, 2734)\n",
      "(1, 2734)\n",
      "num_sv [23 12]\n",
      "(42, 2734)\n",
      "(1, 2734)\n",
      "num_sv [23 12]\n",
      "(42, 2734)\n",
      "(1, 2734)\n",
      "num_sv [24 12]\n",
      "(42, 2734)\n",
      "(1, 2734)\n",
      "num_sv [24 12]\n",
      "(42, 2734)\n",
      "(1, 2734)\n",
      "num_sv [23 12]\n",
      "(42, 2734)\n",
      "(1, 2734)\n",
      "num_sv [23 12]\n",
      "(42, 2734)\n",
      "(1, 2734)\n",
      "num_sv [22 12]\n",
      "(42, 2734)\n",
      "(1, 2734)\n",
      "num_sv [23 12]\n",
      "(42, 2734)\n",
      "(1, 2734)\n",
      "num_sv [24 12]\n",
      "(42, 2734)\n",
      "(1, 2734)\n",
      "num_sv [24 12]\n",
      "(42, 2734)\n",
      "(1, 2734)\n",
      "num_sv [23 12]\n",
      "(42, 2734)\n",
      "(1, 2734)\n",
      "num_sv [25 11]\n",
      "(42, 2734)\n",
      "(1, 2734)\n",
      "num_sv [24 11]\n",
      "(42, 2734)\n",
      "(1, 2734)\n",
      "num_sv [24 11]\n",
      "(42, 2734)\n",
      "(1, 2734)\n",
      "num_sv [24 11]\n",
      "(42, 2734)\n",
      "(1, 2734)\n",
      "num_sv [25 11]\n",
      "(42, 2734)\n",
      "(1, 2734)\n",
      "num_sv [24 11]\n",
      "(42, 2734)\n",
      "(1, 2734)\n",
      "num_sv [23 11]\n",
      "(42, 2734)\n",
      "(1, 2734)\n",
      "num_sv [24 11]\n",
      "(42, 2734)\n",
      "(1, 2734)\n",
      "num_sv [24 11]\n",
      "(42, 2734)\n",
      "(1, 2734)\n",
      "num_sv [25 12]\n",
      "(42, 2734)\n",
      "(1, 2734)\n",
      "num_sv [24 12]\n",
      "(42, 2734)\n",
      "(1, 2734)\n",
      "num_sv [22 11]\n",
      "(42, 2734)\n",
      "(1, 2734)\n",
      "num_sv [24 12]\n",
      "(42, 2734)\n",
      "(1, 2734)\n",
      "num_sv [25 12]\n"
     ]
    }
   ],
   "source": [
    "score_arr = []\n",
    "pred_prob_arr = []\n",
    "for train_index, test_index in loo.split(data.to_numpy()):\n",
    "    x_train = data.iloc[train_index, :].to_numpy()\n",
    "    y_train = labels.iloc[train_index].to_numpy()\n",
    "    \n",
    "    x_test = data.iloc[test_index, :].to_numpy()\n",
    "    y_test = labels.iloc[test_index].to_numpy()\n",
    "\n",
    "    scaler = MinMaxScaler()\n",
    "    x_train = scaler.fit_transform(x_train)\n",
    "    print(x_train.shape)\n",
    "    x_test = scaler.transform(x_test)\n",
    "    print(x_test.shape)\n",
    "    \n",
    "    clf = SVC(random_state = 927364913, **params)\n",
    "    clf.fit(x_train,y_train)\n",
    "    \n",
    "    print('num_sv', clf.n_support_)\n",
    "#     print('sv', )\n",
    "    \n",
    "    pred_prob_arr.append(clf.predict_proba(x_test))\n",
    "    score_arr.append(clf.decision_function(x_test)[0])\n",
    "      "
   ]
  },
  {
   "cell_type": "code",
   "execution_count": 214,
   "id": "armed-parking",
   "metadata": {},
   "outputs": [
    {
     "data": {
      "text/plain": [
       "[-0.05850235349965366,\n",
       " -0.05850235349965366,\n",
       " -0.05850235349965366,\n",
       " -0.05850235349965366,\n",
       " -0.05850235349965366,\n",
       " -0.05850235349965366,\n",
       " -0.05850235349965366,\n",
       " -0.05850235349965366,\n",
       " -0.05850235349965366,\n",
       " -0.05850235349965366,\n",
       " -0.05850235349965366,\n",
       " -0.05850235349965366,\n",
       " -0.05850235349965366,\n",
       " -0.05850235349965366,\n",
       " -0.05850235349965366,\n",
       " -0.05850235349965366,\n",
       " -0.05850235349965366,\n",
       " -0.05850235349965366,\n",
       " -0.05850235349965366,\n",
       " -0.05850235349965366,\n",
       " -0.05850235349965366,\n",
       " -0.05850235349965366,\n",
       " -0.05850235349965366,\n",
       " -0.05850235349965366,\n",
       " -0.05850235349965366,\n",
       " -0.05850235349965366,\n",
       " -0.05850235349965366,\n",
       " -0.05850235349965366,\n",
       " -0.05850235349965366,\n",
       " 0.7479898618476457,\n",
       " 0.7479898618476457,\n",
       " 0.7479898618476457,\n",
       " 0.7479898618476457,\n",
       " 0.7479898618476457,\n",
       " 0.7479898618476457,\n",
       " 0.7479898618476457,\n",
       " 0.7479898618476457,\n",
       " 0.7479898618476457,\n",
       " 0.7479898618476457,\n",
       " 0.7479898618476457,\n",
       " 0.7479898618476457,\n",
       " 0.7479898618476457,\n",
       " 0.7479898618476457]"
      ]
     },
     "execution_count": 214,
     "metadata": {},
     "output_type": "execute_result"
    }
   ],
   "source": [
    "score_arr"
   ]
  },
  {
   "cell_type": "code",
   "execution_count": null,
   "id": "attended-unknown",
   "metadata": {},
   "outputs": [],
   "source": []
  },
  {
   "cell_type": "code",
   "execution_count": null,
   "id": "medium-pennsylvania",
   "metadata": {},
   "outputs": [],
   "source": [
    "#Comparing XGBoost with SVM classifier"
   ]
  },
  {
   "cell_type": "code",
   "execution_count": 27,
   "id": "mature-landscape",
   "metadata": {},
   "outputs": [],
   "source": [
    "xgb_pred_prob = xgb_results['param_sorted'][0]['prediction_proba']\n",
    "xgb_y_test = xgb_results['param_sorted'][0]['y_test']"
   ]
  },
  {
   "cell_type": "code",
   "execution_count": 30,
   "id": "behind-billy",
   "metadata": {},
   "outputs": [],
   "source": [
    "svm_score = y_score_arr\n",
    "svm_y_test = y_test_arr"
   ]
  },
  {
   "cell_type": "code",
   "execution_count": 58,
   "id": "acting-gathering",
   "metadata": {},
   "outputs": [],
   "source": [
    "test = pd.DataFrame()\n",
    "test['xgb'] = xgb_pred_prob\n",
    "test['svm'] = svm_score\n",
    "test['true'] = svm_y_test"
   ]
  },
  {
   "cell_type": "code",
   "execution_count": 59,
   "id": "proper-creation",
   "metadata": {},
   "outputs": [
    {
     "data": {
      "text/html": [
       "<div>\n",
       "<style scoped>\n",
       "    .dataframe tbody tr th:only-of-type {\n",
       "        vertical-align: middle;\n",
       "    }\n",
       "\n",
       "    .dataframe tbody tr th {\n",
       "        vertical-align: top;\n",
       "    }\n",
       "\n",
       "    .dataframe thead th {\n",
       "        text-align: right;\n",
       "    }\n",
       "</style>\n",
       "<table border=\"1\" class=\"dataframe\">\n",
       "  <thead>\n",
       "    <tr style=\"text-align: right;\">\n",
       "      <th></th>\n",
       "      <th>xgb</th>\n",
       "      <th>svm</th>\n",
       "      <th>true</th>\n",
       "    </tr>\n",
       "  </thead>\n",
       "  <tbody>\n",
       "    <tr>\n",
       "      <th>0</th>\n",
       "      <td>0.261795</td>\n",
       "      <td>-1.064547</td>\n",
       "      <td>0</td>\n",
       "    </tr>\n",
       "    <tr>\n",
       "      <th>1</th>\n",
       "      <td>0.005094</td>\n",
       "      <td>-1.087912</td>\n",
       "      <td>0</td>\n",
       "    </tr>\n",
       "    <tr>\n",
       "      <th>2</th>\n",
       "      <td>0.020211</td>\n",
       "      <td>-1.012101</td>\n",
       "      <td>0</td>\n",
       "    </tr>\n",
       "    <tr>\n",
       "      <th>3</th>\n",
       "      <td>0.041748</td>\n",
       "      <td>-1.364575</td>\n",
       "      <td>0</td>\n",
       "    </tr>\n",
       "    <tr>\n",
       "      <th>4</th>\n",
       "      <td>0.370545</td>\n",
       "      <td>-1.164196</td>\n",
       "      <td>0</td>\n",
       "    </tr>\n",
       "    <tr>\n",
       "      <th>5</th>\n",
       "      <td>0.036706</td>\n",
       "      <td>-1.089513</td>\n",
       "      <td>0</td>\n",
       "    </tr>\n",
       "    <tr>\n",
       "      <th>6</th>\n",
       "      <td>0.012293</td>\n",
       "      <td>-1.012878</td>\n",
       "      <td>0</td>\n",
       "    </tr>\n",
       "    <tr>\n",
       "      <th>7</th>\n",
       "      <td>0.106968</td>\n",
       "      <td>-1.180552</td>\n",
       "      <td>0</td>\n",
       "    </tr>\n",
       "    <tr>\n",
       "      <th>8</th>\n",
       "      <td>0.019604</td>\n",
       "      <td>-1.091651</td>\n",
       "      <td>0</td>\n",
       "    </tr>\n",
       "    <tr>\n",
       "      <th>9</th>\n",
       "      <td>0.124471</td>\n",
       "      <td>-0.867862</td>\n",
       "      <td>0</td>\n",
       "    </tr>\n",
       "    <tr>\n",
       "      <th>10</th>\n",
       "      <td>0.036759</td>\n",
       "      <td>-1.177658</td>\n",
       "      <td>0</td>\n",
       "    </tr>\n",
       "    <tr>\n",
       "      <th>11</th>\n",
       "      <td>0.002633</td>\n",
       "      <td>-0.726644</td>\n",
       "      <td>0</td>\n",
       "    </tr>\n",
       "    <tr>\n",
       "      <th>12</th>\n",
       "      <td>0.135638</td>\n",
       "      <td>-0.939279</td>\n",
       "      <td>0</td>\n",
       "    </tr>\n",
       "    <tr>\n",
       "      <th>13</th>\n",
       "      <td>0.032646</td>\n",
       "      <td>-0.381923</td>\n",
       "      <td>0</td>\n",
       "    </tr>\n",
       "    <tr>\n",
       "      <th>14</th>\n",
       "      <td>0.012327</td>\n",
       "      <td>-0.452742</td>\n",
       "      <td>0</td>\n",
       "    </tr>\n",
       "    <tr>\n",
       "      <th>15</th>\n",
       "      <td>0.378339</td>\n",
       "      <td>-1.046092</td>\n",
       "      <td>0</td>\n",
       "    </tr>\n",
       "    <tr>\n",
       "      <th>16</th>\n",
       "      <td>0.190223</td>\n",
       "      <td>-1.049951</td>\n",
       "      <td>0</td>\n",
       "    </tr>\n",
       "    <tr>\n",
       "      <th>17</th>\n",
       "      <td>0.008769</td>\n",
       "      <td>-0.954367</td>\n",
       "      <td>0</td>\n",
       "    </tr>\n",
       "    <tr>\n",
       "      <th>18</th>\n",
       "      <td>0.009796</td>\n",
       "      <td>-1.106395</td>\n",
       "      <td>0</td>\n",
       "    </tr>\n",
       "    <tr>\n",
       "      <th>19</th>\n",
       "      <td>0.447198</td>\n",
       "      <td>0.355691</td>\n",
       "      <td>0</td>\n",
       "    </tr>\n",
       "    <tr>\n",
       "      <th>20</th>\n",
       "      <td>0.484246</td>\n",
       "      <td>-0.203358</td>\n",
       "      <td>0</td>\n",
       "    </tr>\n",
       "    <tr>\n",
       "      <th>21</th>\n",
       "      <td>0.683678</td>\n",
       "      <td>0.449474</td>\n",
       "      <td>0</td>\n",
       "    </tr>\n",
       "    <tr>\n",
       "      <th>22</th>\n",
       "      <td>0.013767</td>\n",
       "      <td>-1.353401</td>\n",
       "      <td>0</td>\n",
       "    </tr>\n",
       "    <tr>\n",
       "      <th>23</th>\n",
       "      <td>0.054228</td>\n",
       "      <td>-0.617794</td>\n",
       "      <td>0</td>\n",
       "    </tr>\n",
       "    <tr>\n",
       "      <th>24</th>\n",
       "      <td>0.093092</td>\n",
       "      <td>-1.009059</td>\n",
       "      <td>0</td>\n",
       "    </tr>\n",
       "    <tr>\n",
       "      <th>25</th>\n",
       "      <td>0.189637</td>\n",
       "      <td>-0.489616</td>\n",
       "      <td>0</td>\n",
       "    </tr>\n",
       "    <tr>\n",
       "      <th>26</th>\n",
       "      <td>0.344621</td>\n",
       "      <td>-0.349572</td>\n",
       "      <td>0</td>\n",
       "    </tr>\n",
       "    <tr>\n",
       "      <th>27</th>\n",
       "      <td>0.155532</td>\n",
       "      <td>0.551689</td>\n",
       "      <td>0</td>\n",
       "    </tr>\n",
       "    <tr>\n",
       "      <th>28</th>\n",
       "      <td>0.569490</td>\n",
       "      <td>1.142075</td>\n",
       "      <td>0</td>\n",
       "    </tr>\n",
       "    <tr>\n",
       "      <th>29</th>\n",
       "      <td>0.817884</td>\n",
       "      <td>0.801603</td>\n",
       "      <td>1</td>\n",
       "    </tr>\n",
       "    <tr>\n",
       "      <th>30</th>\n",
       "      <td>0.051800</td>\n",
       "      <td>0.542433</td>\n",
       "      <td>1</td>\n",
       "    </tr>\n",
       "    <tr>\n",
       "      <th>31</th>\n",
       "      <td>1.000000</td>\n",
       "      <td>0.155938</td>\n",
       "      <td>1</td>\n",
       "    </tr>\n",
       "    <tr>\n",
       "      <th>32</th>\n",
       "      <td>0.260361</td>\n",
       "      <td>0.660814</td>\n",
       "      <td>1</td>\n",
       "    </tr>\n",
       "    <tr>\n",
       "      <th>33</th>\n",
       "      <td>0.910145</td>\n",
       "      <td>1.110801</td>\n",
       "      <td>1</td>\n",
       "    </tr>\n",
       "    <tr>\n",
       "      <th>34</th>\n",
       "      <td>0.837177</td>\n",
       "      <td>-0.294204</td>\n",
       "      <td>1</td>\n",
       "    </tr>\n",
       "    <tr>\n",
       "      <th>35</th>\n",
       "      <td>0.645711</td>\n",
       "      <td>0.115600</td>\n",
       "      <td>1</td>\n",
       "    </tr>\n",
       "    <tr>\n",
       "      <th>36</th>\n",
       "      <td>0.879919</td>\n",
       "      <td>0.324320</td>\n",
       "      <td>1</td>\n",
       "    </tr>\n",
       "    <tr>\n",
       "      <th>37</th>\n",
       "      <td>0.591604</td>\n",
       "      <td>-0.020393</td>\n",
       "      <td>1</td>\n",
       "    </tr>\n",
       "    <tr>\n",
       "      <th>38</th>\n",
       "      <td>0.787280</td>\n",
       "      <td>0.411261</td>\n",
       "      <td>1</td>\n",
       "    </tr>\n",
       "    <tr>\n",
       "      <th>39</th>\n",
       "      <td>0.815121</td>\n",
       "      <td>0.673037</td>\n",
       "      <td>1</td>\n",
       "    </tr>\n",
       "    <tr>\n",
       "      <th>40</th>\n",
       "      <td>0.375193</td>\n",
       "      <td>0.527589</td>\n",
       "      <td>1</td>\n",
       "    </tr>\n",
       "    <tr>\n",
       "      <th>41</th>\n",
       "      <td>0.437315</td>\n",
       "      <td>0.693268</td>\n",
       "      <td>1</td>\n",
       "    </tr>\n",
       "    <tr>\n",
       "      <th>42</th>\n",
       "      <td>0.947651</td>\n",
       "      <td>1.010740</td>\n",
       "      <td>1</td>\n",
       "    </tr>\n",
       "  </tbody>\n",
       "</table>\n",
       "</div>"
      ],
      "text/plain": [
       "         xgb       svm  true\n",
       "0   0.261795 -1.064547     0\n",
       "1   0.005094 -1.087912     0\n",
       "2   0.020211 -1.012101     0\n",
       "3   0.041748 -1.364575     0\n",
       "4   0.370545 -1.164196     0\n",
       "5   0.036706 -1.089513     0\n",
       "6   0.012293 -1.012878     0\n",
       "7   0.106968 -1.180552     0\n",
       "8   0.019604 -1.091651     0\n",
       "9   0.124471 -0.867862     0\n",
       "10  0.036759 -1.177658     0\n",
       "11  0.002633 -0.726644     0\n",
       "12  0.135638 -0.939279     0\n",
       "13  0.032646 -0.381923     0\n",
       "14  0.012327 -0.452742     0\n",
       "15  0.378339 -1.046092     0\n",
       "16  0.190223 -1.049951     0\n",
       "17  0.008769 -0.954367     0\n",
       "18  0.009796 -1.106395     0\n",
       "19  0.447198  0.355691     0\n",
       "20  0.484246 -0.203358     0\n",
       "21  0.683678  0.449474     0\n",
       "22  0.013767 -1.353401     0\n",
       "23  0.054228 -0.617794     0\n",
       "24  0.093092 -1.009059     0\n",
       "25  0.189637 -0.489616     0\n",
       "26  0.344621 -0.349572     0\n",
       "27  0.155532  0.551689     0\n",
       "28  0.569490  1.142075     0\n",
       "29  0.817884  0.801603     1\n",
       "30  0.051800  0.542433     1\n",
       "31  1.000000  0.155938     1\n",
       "32  0.260361  0.660814     1\n",
       "33  0.910145  1.110801     1\n",
       "34  0.837177 -0.294204     1\n",
       "35  0.645711  0.115600     1\n",
       "36  0.879919  0.324320     1\n",
       "37  0.591604 -0.020393     1\n",
       "38  0.787280  0.411261     1\n",
       "39  0.815121  0.673037     1\n",
       "40  0.375193  0.527589     1\n",
       "41  0.437315  0.693268     1\n",
       "42  0.947651  1.010740     1"
      ]
     },
     "execution_count": 59,
     "metadata": {},
     "output_type": "execute_result"
    }
   ],
   "source": [
    "test"
   ]
  },
  {
   "cell_type": "code",
   "execution_count": null,
   "id": "bigger-discipline",
   "metadata": {},
   "outputs": [],
   "source": []
  },
  {
   "cell_type": "code",
   "execution_count": 51,
   "id": "prescribed-reliance",
   "metadata": {},
   "outputs": [],
   "source": [
    "def set_tick_fontsize(ax, fs):\n",
    "    for tick in ax.xaxis.get_major_ticks():\n",
    "        tick.label.set_fontsize(fs)\n",
    "    for tick in ax.yaxis.get_major_ticks():\n",
    "        tick.label.set_fontsize(fs)"
   ]
  },
  {
   "cell_type": "code",
   "execution_count": 53,
   "id": "worthy-customer",
   "metadata": {},
   "outputs": [
    {
     "data": {
      "image/png": "[encoded data removed]",
      "text/plain": [
       "<Figure size 720x576 with 1 Axes>"
      ]
     },
     "metadata": {
      "needs_background": "light"
     },
     "output_type": "display_data"
    }
   ],
   "source": [
    "LABEL_FONT_SIZE = 16\n",
    "TITLE_FONT_SIZE = 18\n",
    "LEGEND_FONT_SIZE = 16\n",
    "TICK_FONT_SIZE = 14\n",
    "MULTI_FIG_SIZE = (16, 14)\n",
    "SINGLE_FIG_SIZE = (10,8)\n",
    "MARKER_SIZE = 10\n",
    "\n",
    "fig, ax = plt.subplots(1, 1, figsize=SINGLE_FIG_SIZE)\n",
    "lw = 2\n",
    "\n",
    "fpr_xgb, tpr_xgb, thresholds_xgb = roc_curve(xgb_y_test, xgb_pred_prob)\n",
    "roc_xgb = roc_auc_score(xgb_y_test, xgb_pred_prob)\n",
    "ax.plot(fpr_xgb, tpr_xgb, lw = lw, label=f'XGBoost AUC = {round(roc_xgb,4)}')\n",
    "\n",
    "fpr_svm, tpr_svm, thresholds_svm = roc_curve(svm_y_test, svm_score)\n",
    "roc_svm = roc_auc_score(svm_y_test, svm_score)\n",
    "ax.plot(fpr_svm, tpr_svm, lw = lw, label=f'SVM AUC = {round(roc_svm,4)}')\n",
    "\n",
    "\n",
    "# ax.set_xlim(0,1)\n",
    "# ax.set_ylim(0,)\n",
    "\n",
    "ax.set_xlabel('FPR', fontsize=LABEL_FONT_SIZE)\n",
    "ax.set_ylabel('TPR', fontsize=LABEL_FONT_SIZE)\n",
    "set_tick_fontsize(ax, TICK_FONT_SIZE)\n",
    "ax.set_title('ROC Curves', fontsize=TITLE_FONT_SIZE)\n",
    "ax.legend(loc=\"lower right\", fontsize=LEGEND_FONT_SIZE)\n",
    "ax.grid();\n",
    "\n"
   ]
  },
  {
   "cell_type": "code",
   "execution_count": null,
   "id": "naked-mining",
   "metadata": {},
   "outputs": [],
   "source": []
  },
  {
   "cell_type": "code",
   "execution_count": 54,
   "id": "conditional-mission",
   "metadata": {},
   "outputs": [
    {
     "data": {
      "image/png": "[encoded data removed]",
      "text/plain": [
       "<Figure size 720x576 with 1 Axes>"
      ]
     },
     "metadata": {
      "needs_background": "light"
     },
     "output_type": "display_data"
    }
   ],
   "source": [
    "LABEL_FONT_SIZE = 16\n",
    "TITLE_FONT_SIZE = 18\n",
    "LEGEND_FONT_SIZE = 16\n",
    "TICK_FONT_SIZE = 14\n",
    "MULTI_FIG_SIZE = (16, 14)\n",
    "SINGLE_FIG_SIZE = (10,8)\n",
    "MARKER_SIZE = 10\n",
    "\n",
    "fig, ax = plt.subplots(1, 1, figsize=SINGLE_FIG_SIZE)\n",
    "lw = 2\n",
    "\n",
    "prec_xgb, rec_xgb, thresholds_xgb = precision_recall_curve(xgb_y_test, xgb_pred_prob)\n",
    "apr_xgb = average_precision_score(xgb_y_test, xgb_pred_prob)\n",
    "ax.plot(rec_xgb, prec_xgb, lw = lw, label=f'XGBoost AUC = {round(apr_xgb,4)}')\n",
    "\n",
    "prec_svm, rec_svm, thresholds_svm = precision_recall_curve(svm_y_test, svm_score)\n",
    "apr_svm = average_precision_score(svm_y_test, svm_score)\n",
    "ax.plot(rec_svm, prec_svm, lw = lw, label=f'SVM AUC = {round(apr_svm,4)}')\n",
    "\n",
    "\n",
    "# ax.set_xlim(0,1)\n",
    "# ax.set_ylim(0,)\n",
    "\n",
    "ax.set_xlabel('Recall', fontsize=LABEL_FONT_SIZE)\n",
    "ax.set_ylabel('Precision', fontsize=LABEL_FONT_SIZE)\n",
    "set_tick_fontsize(ax, TICK_FONT_SIZE)\n",
    "ax.set_title('PR Curves', fontsize=TITLE_FONT_SIZE)\n",
    "ax.legend(loc=\"lower right\", fontsize=LEGEND_FONT_SIZE)\n",
    "ax.grid();\n",
    "\n"
   ]
  },
  {
   "cell_type": "code",
   "execution_count": 55,
   "id": "neural-disco",
   "metadata": {},
   "outputs": [
    {
     "data": {
      "text/plain": [
       "array([0.73684211, 0.72222222, 0.76470588, 0.75      , 0.73333333,\n",
       "       0.71428571, 0.69230769, 0.75      , 0.72727273, 0.8       ,\n",
       "       0.77777778, 0.75      , 0.85714286, 0.83333333, 0.8       ,\n",
       "       0.75      , 0.66666667, 0.5       , 0.        , 1.        ])"
      ]
     },
     "execution_count": 55,
     "metadata": {},
     "output_type": "execute_result"
    }
   ],
   "source": [
    "prec_svm"
   ]
  },
  {
   "cell_type": "code",
   "execution_count": 56,
   "id": "drawn-winning",
   "metadata": {},
   "outputs": [
    {
     "data": {
      "text/plain": [
       "array([1.        , 0.92857143, 0.92857143, 0.85714286, 0.78571429,\n",
       "       0.71428571, 0.64285714, 0.64285714, 0.57142857, 0.57142857,\n",
       "       0.5       , 0.42857143, 0.42857143, 0.35714286, 0.28571429,\n",
       "       0.21428571, 0.14285714, 0.07142857, 0.        , 0.        ])"
      ]
     },
     "execution_count": 56,
     "metadata": {},
     "output_type": "execute_result"
    }
   ],
   "source": [
    "rec_svm"
   ]
  },
  {
   "cell_type": "code",
   "execution_count": 57,
   "id": "damaged-charlotte",
   "metadata": {},
   "outputs": [
    {
     "data": {
      "text/plain": [
       "array([-0.29420402, -0.20335776, -0.02039303,  0.11559973,  0.15593763,\n",
       "        0.32431974,  0.35569103,  0.41126071,  0.44947449,  0.52758855,\n",
       "        0.5424331 ,  0.55168925,  0.66081418,  0.67303722,  0.69326761,\n",
       "        0.80160298,  1.01074036,  1.11080078,  1.14207473])"
      ]
     },
     "execution_count": 57,
     "metadata": {},
     "output_type": "execute_result"
    }
   ],
   "source": [
    "thresholds_svm"
   ]
  },
  {
   "cell_type": "code",
   "execution_count": null,
   "id": "olympic-forty",
   "metadata": {},
   "outputs": [],
   "source": []
  }
 ],
 "metadata": {
  "kernelspec": {
   "display_name": "Python 3",
   "language": "python",
   "name": "python3"
  },
  "language_info": {
   "codemirror_mode": {
    "name": "ipython",
    "version": 3
   },
   "file_extension": ".py",
   "mimetype": "text/x-python",
   "name": "python",
   "nbconvert_exporter": "python",
   "pygments_lexer": "ipython3",
   "version": "3.6.10"
  },
  "toc-autonumbering": true
 },
 "nbformat": 4,
 "nbformat_minor": 5
}
