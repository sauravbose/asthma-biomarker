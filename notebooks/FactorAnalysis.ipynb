{
 "cells": [
  {
   "cell_type": "markdown",
   "metadata": {},
   "source": [
    "# Load Dependencies and Raw Data"
   ]
  },
  {
   "cell_type": "code",
   "execution_count": 1,
   "metadata": {},
   "outputs": [],
   "source": [
    "import pandas as pd\n",
    "import numpy as np\n",
    "import dill, pickle\n",
    "import copy\n",
    "\n",
    "from collections import Counter\n",
    "import itertools\n",
    "from scipy import stats\n",
    "\n",
    "import matplotlib.pyplot as plt\n",
    "\n",
    "from sklearn.cluster import KMeans\n",
    "from sklearn.cluster import AgglomerativeClustering\n",
    "from sklearn.decomposition import FactorAnalysis\n",
    "\n",
    "from skrebate import ReliefF, MultiSURF, MultiSURFstar\n",
    "from sklearn.feature_selection import f_classif\n",
    "from sklearn.decomposition import PCA\n",
    "from sklearn.manifold import TSNE\n",
    "\n",
    "from sklearn import metrics\n",
    "from sklearn.metrics import adjusted_rand_score, rand_score\n",
    "from sklearn.metrics.cluster import pair_confusion_matrix\n",
    "\n",
    "from sklearn.preprocessing import StandardScaler, MinMaxScaler, RobustScaler"
   ]
  },
  {
   "cell_type": "code",
   "execution_count": 2,
   "metadata": {},
   "outputs": [],
   "source": [
    "data = pd.read_excel('../data/GC-MS_data.xlsx')"
   ]
  },
  {
   "cell_type": "code",
   "execution_count": 3,
   "metadata": {},
   "outputs": [],
   "source": [
    "# counts"
   ]
  },
  {
   "cell_type": "code",
   "execution_count": 4,
   "metadata": {},
   "outputs": [],
   "source": [
    "ID_num = np.where(data.ID == 'Healthy', 0, 1)"
   ]
  },
  {
   "cell_type": "code",
   "execution_count": 5,
   "metadata": {},
   "outputs": [],
   "source": [
    "data.insert(1, 'ID_num', ID_num)"
   ]
  },
  {
   "cell_type": "markdown",
   "metadata": {},
   "source": [
    "# User Defined Functions"
   ]
  },
  {
   "cell_type": "code",
   "execution_count": 6,
   "metadata": {},
   "outputs": [],
   "source": [
    "def do_factor_analysis(dataset):\n",
    "    fa = FactorAnalysis().fit(dataset)\n",
    "    return fa.mean_, fa.get_covariance()"
   ]
  },
  {
   "cell_type": "code",
   "execution_count": 7,
   "metadata": {},
   "outputs": [],
   "source": [
    "def bhatt_dist(m1,cov1,m2,cov2):\n",
    "    cov = (1/2) * (cov1 + cov2)\n",
    "    \n",
    "    Term1 = (1/8) * (m1 - m2).T @ np.linalg.inv(cov) @ (m1 - m2)\n",
    "    Term2 = (1 / 2) * np.log(np.linalg.det(cov) / np.sqrt(np.linalg.det(cov1) * np.linalg.det(cov2)))\n",
    "    \n",
    "    return Term1+Term2, Term1, Term2\n",
    "    "
   ]
  },
  {
   "cell_type": "markdown",
   "metadata": {},
   "source": [
    "# Full Dataset"
   ]
  },
  {
   "cell_type": "markdown",
   "metadata": {},
   "source": [
    "We need a metric that is better than randIndex. randIndex is label agnostic. in otherwords, if 2 instances for the negative class are clustered together it is a positive outcome for randIndex even if they are clustered in the same cluster as the positive instances."
   ]
  },
  {
   "cell_type": "markdown",
   "metadata": {},
   "source": [
    "Need to try out log transorfm of the data"
   ]
  },
  {
   "cell_type": "code",
   "execution_count": 8,
   "metadata": {},
   "outputs": [
    {
     "data": {
      "text/html": [
       "<div>\n",
       "<style scoped>\n",
       "    .dataframe tbody tr th:only-of-type {\n",
       "        vertical-align: middle;\n",
       "    }\n",
       "\n",
       "    .dataframe tbody tr th {\n",
       "        vertical-align: top;\n",
       "    }\n",
       "\n",
       "    .dataframe thead th {\n",
       "        text-align: right;\n",
       "    }\n",
       "</style>\n",
       "<table border=\"1\" class=\"dataframe\">\n",
       "  <thead>\n",
       "    <tr style=\"text-align: right;\">\n",
       "      <th></th>\n",
       "      <th>ID</th>\n",
       "      <th>ID_num</th>\n",
       "      <th>M151T1</th>\n",
       "      <th>M83T1</th>\n",
       "      <th>M101T1</th>\n",
       "      <th>M46T1</th>\n",
       "      <th>M49T1</th>\n",
       "      <th>M66T1</th>\n",
       "      <th>M62T1</th>\n",
       "      <th>M80T1</th>\n",
       "      <th>...</th>\n",
       "      <th>M110T26_1</th>\n",
       "      <th>M121T26_1</th>\n",
       "      <th>M175T26_1</th>\n",
       "      <th>M124T26_1</th>\n",
       "      <th>M138T26_2</th>\n",
       "      <th>M85T26_2</th>\n",
       "      <th>M174T26</th>\n",
       "      <th>M123T26_1</th>\n",
       "      <th>M91T26</th>\n",
       "      <th>M94T26</th>\n",
       "    </tr>\n",
       "  </thead>\n",
       "  <tbody>\n",
       "    <tr>\n",
       "      <th>0</th>\n",
       "      <td>Healthy</td>\n",
       "      <td>0</td>\n",
       "      <td>16.048388</td>\n",
       "      <td>6064.292377</td>\n",
       "      <td>781.993514</td>\n",
       "      <td>802.020931</td>\n",
       "      <td>4694.204132</td>\n",
       "      <td>7.292742e+04</td>\n",
       "      <td>29491.232768</td>\n",
       "      <td>16.024791</td>\n",
       "      <td>...</td>\n",
       "      <td>7867.025232</td>\n",
       "      <td>8965.565729</td>\n",
       "      <td>3012.051770</td>\n",
       "      <td>4658.714325</td>\n",
       "      <td>2340.026084</td>\n",
       "      <td>12912.976187</td>\n",
       "      <td>1397.742432</td>\n",
       "      <td>16170.724464</td>\n",
       "      <td>10359.088145</td>\n",
       "      <td>4524.513159</td>\n",
       "    </tr>\n",
       "    <tr>\n",
       "      <th>1</th>\n",
       "      <td>Healthy</td>\n",
       "      <td>0</td>\n",
       "      <td>2966.261917</td>\n",
       "      <td>134774.774889</td>\n",
       "      <td>62570.597315</td>\n",
       "      <td>18605.033364</td>\n",
       "      <td>23763.284044</td>\n",
       "      <td>6.268676e+06</td>\n",
       "      <td>392830.377721</td>\n",
       "      <td>5189.617648</td>\n",
       "      <td>...</td>\n",
       "      <td>278936.880991</td>\n",
       "      <td>323372.411031</td>\n",
       "      <td>79971.903683</td>\n",
       "      <td>215630.572047</td>\n",
       "      <td>79703.417540</td>\n",
       "      <td>524443.694141</td>\n",
       "      <td>58370.370030</td>\n",
       "      <td>714891.705277</td>\n",
       "      <td>330847.552709</td>\n",
       "      <td>229032.808630</td>\n",
       "    </tr>\n",
       "    <tr>\n",
       "      <th>2</th>\n",
       "      <td>Healthy</td>\n",
       "      <td>0</td>\n",
       "      <td>8377.442132</td>\n",
       "      <td>54888.286191</td>\n",
       "      <td>7574.412552</td>\n",
       "      <td>24452.053496</td>\n",
       "      <td>8865.881271</td>\n",
       "      <td>8.122816e+05</td>\n",
       "      <td>470305.922774</td>\n",
       "      <td>2883.659359</td>\n",
       "      <td>...</td>\n",
       "      <td>330297.442948</td>\n",
       "      <td>400547.227331</td>\n",
       "      <td>89001.852491</td>\n",
       "      <td>237332.546382</td>\n",
       "      <td>92068.988978</td>\n",
       "      <td>281554.565002</td>\n",
       "      <td>73030.972156</td>\n",
       "      <td>942769.300372</td>\n",
       "      <td>653550.454878</td>\n",
       "      <td>189904.532666</td>\n",
       "    </tr>\n",
       "    <tr>\n",
       "      <th>3</th>\n",
       "      <td>Healthy</td>\n",
       "      <td>0</td>\n",
       "      <td>37.609095</td>\n",
       "      <td>10440.984838</td>\n",
       "      <td>26.750624</td>\n",
       "      <td>88.923190</td>\n",
       "      <td>1827.264205</td>\n",
       "      <td>4.491165e+04</td>\n",
       "      <td>8166.159143</td>\n",
       "      <td>1374.437507</td>\n",
       "      <td>...</td>\n",
       "      <td>1090.182759</td>\n",
       "      <td>998.434986</td>\n",
       "      <td>220.276019</td>\n",
       "      <td>648.220851</td>\n",
       "      <td>375.745446</td>\n",
       "      <td>1799.311194</td>\n",
       "      <td>106.666198</td>\n",
       "      <td>1713.346412</td>\n",
       "      <td>2279.341711</td>\n",
       "      <td>655.383157</td>\n",
       "    </tr>\n",
       "    <tr>\n",
       "      <th>4</th>\n",
       "      <td>Healthy</td>\n",
       "      <td>0</td>\n",
       "      <td>115.438628</td>\n",
       "      <td>7287.725513</td>\n",
       "      <td>112.578791</td>\n",
       "      <td>28.656514</td>\n",
       "      <td>5843.718655</td>\n",
       "      <td>1.573132e+05</td>\n",
       "      <td>21056.733832</td>\n",
       "      <td>3441.212011</td>\n",
       "      <td>...</td>\n",
       "      <td>9453.592618</td>\n",
       "      <td>17333.718556</td>\n",
       "      <td>1887.790859</td>\n",
       "      <td>8186.847903</td>\n",
       "      <td>3752.941527</td>\n",
       "      <td>10702.205663</td>\n",
       "      <td>2548.940100</td>\n",
       "      <td>33661.377548</td>\n",
       "      <td>16464.790716</td>\n",
       "      <td>7288.223731</td>\n",
       "    </tr>\n",
       "  </tbody>\n",
       "</table>\n",
       "<p>5 rows × 2736 columns</p>\n",
       "</div>"
      ],
      "text/plain": [
       "        ID  ID_num       M151T1          M83T1        M101T1         M46T1  \\\n",
       "0  Healthy       0    16.048388    6064.292377    781.993514    802.020931   \n",
       "1  Healthy       0  2966.261917  134774.774889  62570.597315  18605.033364   \n",
       "2  Healthy       0  8377.442132   54888.286191   7574.412552  24452.053496   \n",
       "3  Healthy       0    37.609095   10440.984838     26.750624     88.923190   \n",
       "4  Healthy       0   115.438628    7287.725513    112.578791     28.656514   \n",
       "\n",
       "          M49T1         M66T1          M62T1        M80T1  ...      M110T26_1  \\\n",
       "0   4694.204132  7.292742e+04   29491.232768    16.024791  ...    7867.025232   \n",
       "1  23763.284044  6.268676e+06  392830.377721  5189.617648  ...  278936.880991   \n",
       "2   8865.881271  8.122816e+05  470305.922774  2883.659359  ...  330297.442948   \n",
       "3   1827.264205  4.491165e+04    8166.159143  1374.437507  ...    1090.182759   \n",
       "4   5843.718655  1.573132e+05   21056.733832  3441.212011  ...    9453.592618   \n",
       "\n",
       "       M121T26_1     M175T26_1      M124T26_1     M138T26_2       M85T26_2  \\\n",
       "0    8965.565729   3012.051770    4658.714325   2340.026084   12912.976187   \n",
       "1  323372.411031  79971.903683  215630.572047  79703.417540  524443.694141   \n",
       "2  400547.227331  89001.852491  237332.546382  92068.988978  281554.565002   \n",
       "3     998.434986    220.276019     648.220851    375.745446    1799.311194   \n",
       "4   17333.718556   1887.790859    8186.847903   3752.941527   10702.205663   \n",
       "\n",
       "        M174T26      M123T26_1         M91T26         M94T26  \n",
       "0   1397.742432   16170.724464   10359.088145    4524.513159  \n",
       "1  58370.370030  714891.705277  330847.552709  229032.808630  \n",
       "2  73030.972156  942769.300372  653550.454878  189904.532666  \n",
       "3    106.666198    1713.346412    2279.341711     655.383157  \n",
       "4   2548.940100   33661.377548   16464.790716    7288.223731  \n",
       "\n",
       "[5 rows x 2736 columns]"
      ]
     },
     "execution_count": 8,
     "metadata": {},
     "output_type": "execute_result"
    }
   ],
   "source": [
    "data.head()"
   ]
  },
  {
   "cell_type": "code",
   "execution_count": 9,
   "metadata": {},
   "outputs": [
    {
     "data": {
      "text/plain": [
       "Counter({'Healthy': 29, 'Asthmatic': 14})"
      ]
     },
     "execution_count": 9,
     "metadata": {},
     "output_type": "execute_result"
    }
   ],
   "source": [
    "Counter(data.ID)"
   ]
  },
  {
   "cell_type": "code",
   "execution_count": 10,
   "metadata": {},
   "outputs": [
    {
     "data": {
      "text/plain": [
       "(43, 2736)"
      ]
     },
     "execution_count": 10,
     "metadata": {},
     "output_type": "execute_result"
    }
   ],
   "source": [
    "data.shape"
   ]
  },
  {
   "cell_type": "code",
   "execution_count": null,
   "metadata": {},
   "outputs": [],
   "source": []
  },
  {
   "cell_type": "markdown",
   "metadata": {},
   "source": [
    "# Scale the data\n"
   ]
  },
  {
   "cell_type": "code",
   "execution_count": 11,
   "metadata": {},
   "outputs": [],
   "source": [
    "X_raw_all = data.values[:,2:]\n",
    "X_scaled_all = StandardScaler().fit_transform(X_raw_all)"
   ]
  },
  {
   "cell_type": "code",
   "execution_count": 12,
   "metadata": {},
   "outputs": [],
   "source": [
    "data_scaled_all = pd.DataFrame(X_scaled_all, columns = data.columns[2:])"
   ]
  },
  {
   "cell_type": "code",
   "execution_count": 13,
   "metadata": {},
   "outputs": [],
   "source": [
    "data_scaled_all.insert(0, 'ID', data.ID.values)\n",
    "data_scaled_all.insert(1, 'ID_num', data.ID_num.values)"
   ]
  },
  {
   "cell_type": "code",
   "execution_count": 14,
   "metadata": {},
   "outputs": [
    {
     "data": {
      "text/html": [
       "<div>\n",
       "<style scoped>\n",
       "    .dataframe tbody tr th:only-of-type {\n",
       "        vertical-align: middle;\n",
       "    }\n",
       "\n",
       "    .dataframe tbody tr th {\n",
       "        vertical-align: top;\n",
       "    }\n",
       "\n",
       "    .dataframe thead th {\n",
       "        text-align: right;\n",
       "    }\n",
       "</style>\n",
       "<table border=\"1\" class=\"dataframe\">\n",
       "  <thead>\n",
       "    <tr style=\"text-align: right;\">\n",
       "      <th></th>\n",
       "      <th>ID</th>\n",
       "      <th>ID_num</th>\n",
       "      <th>M151T1</th>\n",
       "      <th>M83T1</th>\n",
       "      <th>M101T1</th>\n",
       "      <th>M46T1</th>\n",
       "      <th>M49T1</th>\n",
       "      <th>M66T1</th>\n",
       "      <th>M62T1</th>\n",
       "      <th>M80T1</th>\n",
       "      <th>...</th>\n",
       "      <th>M110T26_1</th>\n",
       "      <th>M121T26_1</th>\n",
       "      <th>M175T26_1</th>\n",
       "      <th>M124T26_1</th>\n",
       "      <th>M138T26_2</th>\n",
       "      <th>M85T26_2</th>\n",
       "      <th>M174T26</th>\n",
       "      <th>M123T26_1</th>\n",
       "      <th>M91T26</th>\n",
       "      <th>M94T26</th>\n",
       "    </tr>\n",
       "  </thead>\n",
       "  <tbody>\n",
       "    <tr>\n",
       "      <th>0</th>\n",
       "      <td>Healthy</td>\n",
       "      <td>0</td>\n",
       "      <td>-0.268167</td>\n",
       "      <td>-0.173282</td>\n",
       "      <td>-0.468532</td>\n",
       "      <td>-0.689375</td>\n",
       "      <td>-0.545787</td>\n",
       "      <td>-0.619796</td>\n",
       "      <td>-0.409468</td>\n",
       "      <td>-0.387656</td>\n",
       "      <td>...</td>\n",
       "      <td>-0.564269</td>\n",
       "      <td>-0.599296</td>\n",
       "      <td>-0.417554</td>\n",
       "      <td>-0.599171</td>\n",
       "      <td>-0.582968</td>\n",
       "      <td>-0.536859</td>\n",
       "      <td>-0.421735</td>\n",
       "      <td>-0.635161</td>\n",
       "      <td>-0.577705</td>\n",
       "      <td>-0.546579</td>\n",
       "    </tr>\n",
       "    <tr>\n",
       "      <th>1</th>\n",
       "      <td>Healthy</td>\n",
       "      <td>0</td>\n",
       "      <td>-0.263205</td>\n",
       "      <td>-0.105216</td>\n",
       "      <td>0.307663</td>\n",
       "      <td>0.251702</td>\n",
       "      <td>-0.410207</td>\n",
       "      <td>0.588939</td>\n",
       "      <td>-0.072891</td>\n",
       "      <td>-0.365801</td>\n",
       "      <td>...</td>\n",
       "      <td>1.270077</td>\n",
       "      <td>1.268182</td>\n",
       "      <td>1.298543</td>\n",
       "      <td>1.453292</td>\n",
       "      <td>1.318163</td>\n",
       "      <td>2.372777</td>\n",
       "      <td>1.157498</td>\n",
       "      <td>1.002377</td>\n",
       "      <td>0.508829</td>\n",
       "      <td>1.744742</td>\n",
       "    </tr>\n",
       "    <tr>\n",
       "      <th>2</th>\n",
       "      <td>Healthy</td>\n",
       "      <td>0</td>\n",
       "      <td>-0.254105</td>\n",
       "      <td>-0.147462</td>\n",
       "      <td>-0.383205</td>\n",
       "      <td>0.560778</td>\n",
       "      <td>-0.516126</td>\n",
       "      <td>-0.475555</td>\n",
       "      <td>-0.001122</td>\n",
       "      <td>-0.375542</td>\n",
       "      <td>...</td>\n",
       "      <td>1.617637</td>\n",
       "      <td>1.726576</td>\n",
       "      <td>1.499898</td>\n",
       "      <td>1.664422</td>\n",
       "      <td>1.622035</td>\n",
       "      <td>0.991200</td>\n",
       "      <td>1.563878</td>\n",
       "      <td>1.536436</td>\n",
       "      <td>1.602870</td>\n",
       "      <td>1.345401</td>\n",
       "    </tr>\n",
       "    <tr>\n",
       "      <th>3</th>\n",
       "      <td>Healthy</td>\n",
       "      <td>0</td>\n",
       "      <td>-0.268131</td>\n",
       "      <td>-0.170967</td>\n",
       "      <td>-0.478020</td>\n",
       "      <td>-0.727070</td>\n",
       "      <td>-0.566170</td>\n",
       "      <td>-0.625262</td>\n",
       "      <td>-0.429223</td>\n",
       "      <td>-0.381917</td>\n",
       "      <td>...</td>\n",
       "      <td>-0.610128</td>\n",
       "      <td>-0.646618</td>\n",
       "      <td>-0.479807</td>\n",
       "      <td>-0.638188</td>\n",
       "      <td>-0.631238</td>\n",
       "      <td>-0.600075</td>\n",
       "      <td>-0.457523</td>\n",
       "      <td>-0.669043</td>\n",
       "      <td>-0.605098</td>\n",
       "      <td>-0.586067</td>\n",
       "    </tr>\n",
       "    <tr>\n",
       "      <th>4</th>\n",
       "      <td>Healthy</td>\n",
       "      <td>0</td>\n",
       "      <td>-0.268000</td>\n",
       "      <td>-0.172635</td>\n",
       "      <td>-0.476942</td>\n",
       "      <td>-0.730256</td>\n",
       "      <td>-0.537614</td>\n",
       "      <td>-0.603333</td>\n",
       "      <td>-0.417282</td>\n",
       "      <td>-0.373187</td>\n",
       "      <td>...</td>\n",
       "      <td>-0.553533</td>\n",
       "      <td>-0.549592</td>\n",
       "      <td>-0.442624</td>\n",
       "      <td>-0.564847</td>\n",
       "      <td>-0.548247</td>\n",
       "      <td>-0.549434</td>\n",
       "      <td>-0.389825</td>\n",
       "      <td>-0.594169</td>\n",
       "      <td>-0.557005</td>\n",
       "      <td>-0.518373</td>\n",
       "    </tr>\n",
       "  </tbody>\n",
       "</table>\n",
       "<p>5 rows × 2736 columns</p>\n",
       "</div>"
      ],
      "text/plain": [
       "        ID  ID_num    M151T1     M83T1    M101T1     M46T1     M49T1  \\\n",
       "0  Healthy       0 -0.268167 -0.173282 -0.468532 -0.689375 -0.545787   \n",
       "1  Healthy       0 -0.263205 -0.105216  0.307663  0.251702 -0.410207   \n",
       "2  Healthy       0 -0.254105 -0.147462 -0.383205  0.560778 -0.516126   \n",
       "3  Healthy       0 -0.268131 -0.170967 -0.478020 -0.727070 -0.566170   \n",
       "4  Healthy       0 -0.268000 -0.172635 -0.476942 -0.730256 -0.537614   \n",
       "\n",
       "      M66T1     M62T1     M80T1  ...  M110T26_1  M121T26_1  M175T26_1  \\\n",
       "0 -0.619796 -0.409468 -0.387656  ...  -0.564269  -0.599296  -0.417554   \n",
       "1  0.588939 -0.072891 -0.365801  ...   1.270077   1.268182   1.298543   \n",
       "2 -0.475555 -0.001122 -0.375542  ...   1.617637   1.726576   1.499898   \n",
       "3 -0.625262 -0.429223 -0.381917  ...  -0.610128  -0.646618  -0.479807   \n",
       "4 -0.603333 -0.417282 -0.373187  ...  -0.553533  -0.549592  -0.442624   \n",
       "\n",
       "   M124T26_1  M138T26_2  M85T26_2   M174T26  M123T26_1    M91T26    M94T26  \n",
       "0  -0.599171  -0.582968 -0.536859 -0.421735  -0.635161 -0.577705 -0.546579  \n",
       "1   1.453292   1.318163  2.372777  1.157498   1.002377  0.508829  1.744742  \n",
       "2   1.664422   1.622035  0.991200  1.563878   1.536436  1.602870  1.345401  \n",
       "3  -0.638188  -0.631238 -0.600075 -0.457523  -0.669043 -0.605098 -0.586067  \n",
       "4  -0.564847  -0.548247 -0.549434 -0.389825  -0.594169 -0.557005 -0.518373  \n",
       "\n",
       "[5 rows x 2736 columns]"
      ]
     },
     "execution_count": 14,
     "metadata": {},
     "output_type": "execute_result"
    }
   ],
   "source": [
    "data_scaled_all.head()"
   ]
  },
  {
   "cell_type": "code",
   "execution_count": 15,
   "metadata": {},
   "outputs": [],
   "source": [
    "data_healthy_all_df = data_scaled_all.loc[data_scaled_all.ID == 'Healthy']\n",
    "data_asthma_all_df = data_scaled_all.loc[data_scaled_all.ID == 'Asthmatic']"
   ]
  },
  {
   "cell_type": "code",
   "execution_count": 16,
   "metadata": {},
   "outputs": [],
   "source": [
    "data_healthy_all = data_healthy_all_df.values[:,2:]\n",
    "data_asthma_all = data_asthma_all_df.values[:, 2:]"
   ]
  },
  {
   "cell_type": "code",
   "execution_count": 17,
   "metadata": {},
   "outputs": [],
   "source": [
    "healthy_mean, healthy_cov = do_factor_analysis(data_healthy_all)"
   ]
  },
  {
   "cell_type": "code",
   "execution_count": 18,
   "metadata": {},
   "outputs": [],
   "source": [
    "asthma_mean, asthma_cov = do_factor_analysis(data_asthma_all)"
   ]
  },
  {
   "cell_type": "code",
   "execution_count": 19,
   "metadata": {},
   "outputs": [
    {
     "name": "stderr",
     "output_type": "stream",
     "text": [
      "/Users/boses1/anaconda3/lib/python3.6/site-packages/ipykernel_launcher.py:5: RuntimeWarning: invalid value encountered in double_scalars\n",
      "  \"\"\"\n"
     ]
    },
    {
     "name": "stdout",
     "output_type": "stream",
     "text": [
      "nan\n",
      "0.0\n",
      "0.0\n"
     ]
    }
   ],
   "source": [
    "dist, t1, t2 = bhatt_dist(healthy_mean, healthy_cov, asthma_mean, asthma_cov)\n",
    "print(dist)\n",
    "print(np.linalg.det(healthy_cov))\n",
    "print(np.linalg.det(asthma_cov))"
   ]
  },
  {
   "cell_type": "code",
   "execution_count": null,
   "metadata": {},
   "outputs": [],
   "source": []
  },
  {
   "cell_type": "markdown",
   "metadata": {},
   "source": [
    "# Relief Methods"
   ]
  },
  {
   "cell_type": "code",
   "execution_count": 20,
   "metadata": {},
   "outputs": [],
   "source": [
    "data_scaled_df = data_scaled_all"
   ]
  },
  {
   "cell_type": "code",
   "execution_count": 21,
   "metadata": {},
   "outputs": [
    {
     "data": {
      "text/html": [
       "<div>\n",
       "<style scoped>\n",
       "    .dataframe tbody tr th:only-of-type {\n",
       "        vertical-align: middle;\n",
       "    }\n",
       "\n",
       "    .dataframe tbody tr th {\n",
       "        vertical-align: top;\n",
       "    }\n",
       "\n",
       "    .dataframe thead th {\n",
       "        text-align: right;\n",
       "    }\n",
       "</style>\n",
       "<table border=\"1\" class=\"dataframe\">\n",
       "  <thead>\n",
       "    <tr style=\"text-align: right;\">\n",
       "      <th></th>\n",
       "      <th>ID</th>\n",
       "      <th>ID_num</th>\n",
       "      <th>M151T1</th>\n",
       "      <th>M83T1</th>\n",
       "      <th>M101T1</th>\n",
       "      <th>M46T1</th>\n",
       "      <th>M49T1</th>\n",
       "      <th>M66T1</th>\n",
       "      <th>M62T1</th>\n",
       "      <th>M80T1</th>\n",
       "      <th>...</th>\n",
       "      <th>M110T26_1</th>\n",
       "      <th>M121T26_1</th>\n",
       "      <th>M175T26_1</th>\n",
       "      <th>M124T26_1</th>\n",
       "      <th>M138T26_2</th>\n",
       "      <th>M85T26_2</th>\n",
       "      <th>M174T26</th>\n",
       "      <th>M123T26_1</th>\n",
       "      <th>M91T26</th>\n",
       "      <th>M94T26</th>\n",
       "    </tr>\n",
       "  </thead>\n",
       "  <tbody>\n",
       "    <tr>\n",
       "      <th>0</th>\n",
       "      <td>Healthy</td>\n",
       "      <td>0</td>\n",
       "      <td>-0.268167</td>\n",
       "      <td>-0.173282</td>\n",
       "      <td>-0.468532</td>\n",
       "      <td>-0.689375</td>\n",
       "      <td>-0.545787</td>\n",
       "      <td>-0.619796</td>\n",
       "      <td>-0.409468</td>\n",
       "      <td>-0.387656</td>\n",
       "      <td>...</td>\n",
       "      <td>-0.564269</td>\n",
       "      <td>-0.599296</td>\n",
       "      <td>-0.417554</td>\n",
       "      <td>-0.599171</td>\n",
       "      <td>-0.582968</td>\n",
       "      <td>-0.536859</td>\n",
       "      <td>-0.421735</td>\n",
       "      <td>-0.635161</td>\n",
       "      <td>-0.577705</td>\n",
       "      <td>-0.546579</td>\n",
       "    </tr>\n",
       "    <tr>\n",
       "      <th>1</th>\n",
       "      <td>Healthy</td>\n",
       "      <td>0</td>\n",
       "      <td>-0.263205</td>\n",
       "      <td>-0.105216</td>\n",
       "      <td>0.307663</td>\n",
       "      <td>0.251702</td>\n",
       "      <td>-0.410207</td>\n",
       "      <td>0.588939</td>\n",
       "      <td>-0.072891</td>\n",
       "      <td>-0.365801</td>\n",
       "      <td>...</td>\n",
       "      <td>1.270077</td>\n",
       "      <td>1.268182</td>\n",
       "      <td>1.298543</td>\n",
       "      <td>1.453292</td>\n",
       "      <td>1.318163</td>\n",
       "      <td>2.372777</td>\n",
       "      <td>1.157498</td>\n",
       "      <td>1.002377</td>\n",
       "      <td>0.508829</td>\n",
       "      <td>1.744742</td>\n",
       "    </tr>\n",
       "    <tr>\n",
       "      <th>2</th>\n",
       "      <td>Healthy</td>\n",
       "      <td>0</td>\n",
       "      <td>-0.254105</td>\n",
       "      <td>-0.147462</td>\n",
       "      <td>-0.383205</td>\n",
       "      <td>0.560778</td>\n",
       "      <td>-0.516126</td>\n",
       "      <td>-0.475555</td>\n",
       "      <td>-0.001122</td>\n",
       "      <td>-0.375542</td>\n",
       "      <td>...</td>\n",
       "      <td>1.617637</td>\n",
       "      <td>1.726576</td>\n",
       "      <td>1.499898</td>\n",
       "      <td>1.664422</td>\n",
       "      <td>1.622035</td>\n",
       "      <td>0.991200</td>\n",
       "      <td>1.563878</td>\n",
       "      <td>1.536436</td>\n",
       "      <td>1.602870</td>\n",
       "      <td>1.345401</td>\n",
       "    </tr>\n",
       "    <tr>\n",
       "      <th>3</th>\n",
       "      <td>Healthy</td>\n",
       "      <td>0</td>\n",
       "      <td>-0.268131</td>\n",
       "      <td>-0.170967</td>\n",
       "      <td>-0.478020</td>\n",
       "      <td>-0.727070</td>\n",
       "      <td>-0.566170</td>\n",
       "      <td>-0.625262</td>\n",
       "      <td>-0.429223</td>\n",
       "      <td>-0.381917</td>\n",
       "      <td>...</td>\n",
       "      <td>-0.610128</td>\n",
       "      <td>-0.646618</td>\n",
       "      <td>-0.479807</td>\n",
       "      <td>-0.638188</td>\n",
       "      <td>-0.631238</td>\n",
       "      <td>-0.600075</td>\n",
       "      <td>-0.457523</td>\n",
       "      <td>-0.669043</td>\n",
       "      <td>-0.605098</td>\n",
       "      <td>-0.586067</td>\n",
       "    </tr>\n",
       "    <tr>\n",
       "      <th>4</th>\n",
       "      <td>Healthy</td>\n",
       "      <td>0</td>\n",
       "      <td>-0.268000</td>\n",
       "      <td>-0.172635</td>\n",
       "      <td>-0.476942</td>\n",
       "      <td>-0.730256</td>\n",
       "      <td>-0.537614</td>\n",
       "      <td>-0.603333</td>\n",
       "      <td>-0.417282</td>\n",
       "      <td>-0.373187</td>\n",
       "      <td>...</td>\n",
       "      <td>-0.553533</td>\n",
       "      <td>-0.549592</td>\n",
       "      <td>-0.442624</td>\n",
       "      <td>-0.564847</td>\n",
       "      <td>-0.548247</td>\n",
       "      <td>-0.549434</td>\n",
       "      <td>-0.389825</td>\n",
       "      <td>-0.594169</td>\n",
       "      <td>-0.557005</td>\n",
       "      <td>-0.518373</td>\n",
       "    </tr>\n",
       "  </tbody>\n",
       "</table>\n",
       "<p>5 rows × 2736 columns</p>\n",
       "</div>"
      ],
      "text/plain": [
       "        ID  ID_num    M151T1     M83T1    M101T1     M46T1     M49T1  \\\n",
       "0  Healthy       0 -0.268167 -0.173282 -0.468532 -0.689375 -0.545787   \n",
       "1  Healthy       0 -0.263205 -0.105216  0.307663  0.251702 -0.410207   \n",
       "2  Healthy       0 -0.254105 -0.147462 -0.383205  0.560778 -0.516126   \n",
       "3  Healthy       0 -0.268131 -0.170967 -0.478020 -0.727070 -0.566170   \n",
       "4  Healthy       0 -0.268000 -0.172635 -0.476942 -0.730256 -0.537614   \n",
       "\n",
       "      M66T1     M62T1     M80T1  ...  M110T26_1  M121T26_1  M175T26_1  \\\n",
       "0 -0.619796 -0.409468 -0.387656  ...  -0.564269  -0.599296  -0.417554   \n",
       "1  0.588939 -0.072891 -0.365801  ...   1.270077   1.268182   1.298543   \n",
       "2 -0.475555 -0.001122 -0.375542  ...   1.617637   1.726576   1.499898   \n",
       "3 -0.625262 -0.429223 -0.381917  ...  -0.610128  -0.646618  -0.479807   \n",
       "4 -0.603333 -0.417282 -0.373187  ...  -0.553533  -0.549592  -0.442624   \n",
       "\n",
       "   M124T26_1  M138T26_2  M85T26_2   M174T26  M123T26_1    M91T26    M94T26  \n",
       "0  -0.599171  -0.582968 -0.536859 -0.421735  -0.635161 -0.577705 -0.546579  \n",
       "1   1.453292   1.318163  2.372777  1.157498   1.002377  0.508829  1.744742  \n",
       "2   1.664422   1.622035  0.991200  1.563878   1.536436  1.602870  1.345401  \n",
       "3  -0.638188  -0.631238 -0.600075 -0.457523  -0.669043 -0.605098 -0.586067  \n",
       "4  -0.564847  -0.548247 -0.549434 -0.389825  -0.594169 -0.557005 -0.518373  \n",
       "\n",
       "[5 rows x 2736 columns]"
      ]
     },
     "execution_count": 21,
     "metadata": {},
     "output_type": "execute_result"
    }
   ],
   "source": [
    "data_scaled_df.head()"
   ]
  },
  {
   "cell_type": "markdown",
   "metadata": {},
   "source": [
    "## Relief-F"
   ]
  },
  {
   "cell_type": "code",
   "execution_count": 22,
   "metadata": {},
   "outputs": [],
   "source": [
    "fs = ReliefF(discrete_threshold = 5, n_jobs=1)\n",
    "fs.fit(data_scaled_df.values[:,2:].astype(float), data_scaled_df.ID_num.values)\n",
    "\n",
    "feature_scores = fs.feature_importances_\n",
    "feature_ids = np.where(feature_scores>=0)[0]\n",
    "selected_features = np.array(data_scaled_df.columns[2:][feature_ids]) "
   ]
  },
  {
   "cell_type": "code",
   "execution_count": 23,
   "metadata": {},
   "outputs": [],
   "source": [
    "X_reliefF = data_scaled_df.values[:,2:][:,feature_ids]"
   ]
  },
  {
   "cell_type": "code",
   "execution_count": 24,
   "metadata": {},
   "outputs": [
    {
     "data": {
      "text/plain": [
       "(43, 262)"
      ]
     },
     "execution_count": 24,
     "metadata": {},
     "output_type": "execute_result"
    }
   ],
   "source": [
    "X_reliefF.shape"
   ]
  },
  {
   "cell_type": "code",
   "execution_count": 25,
   "metadata": {},
   "outputs": [],
   "source": [
    "X_reliefF_df = pd.DataFrame(X_reliefF, columns = selected_features)\n",
    "X_reliefF_df.insert(0, 'ID', data.ID.values)"
   ]
  },
  {
   "cell_type": "code",
   "execution_count": 26,
   "metadata": {},
   "outputs": [
    {
     "data": {
      "text/html": [
       "<div>\n",
       "<style scoped>\n",
       "    .dataframe tbody tr th:only-of-type {\n",
       "        vertical-align: middle;\n",
       "    }\n",
       "\n",
       "    .dataframe tbody tr th {\n",
       "        vertical-align: top;\n",
       "    }\n",
       "\n",
       "    .dataframe thead th {\n",
       "        text-align: right;\n",
       "    }\n",
       "</style>\n",
       "<table border=\"1\" class=\"dataframe\">\n",
       "  <thead>\n",
       "    <tr style=\"text-align: right;\">\n",
       "      <th></th>\n",
       "      <th>ID</th>\n",
       "      <th>M151T1</th>\n",
       "      <th>M83T1</th>\n",
       "      <th>M101T1</th>\n",
       "      <th>M46T1</th>\n",
       "      <th>M51T1</th>\n",
       "      <th>M50T1</th>\n",
       "      <th>M69T1</th>\n",
       "      <th>M41T2_1</th>\n",
       "      <th>M56T2_1</th>\n",
       "      <th>...</th>\n",
       "      <th>M179T17_1</th>\n",
       "      <th>M74T17_2</th>\n",
       "      <th>M45T17</th>\n",
       "      <th>M154T17_4</th>\n",
       "      <th>M141T19_1</th>\n",
       "      <th>M166T19</th>\n",
       "      <th>M103T19</th>\n",
       "      <th>M123T23_2</th>\n",
       "      <th>M160T24_1</th>\n",
       "      <th>M118T25_1</th>\n",
       "    </tr>\n",
       "  </thead>\n",
       "  <tbody>\n",
       "    <tr>\n",
       "      <th>0</th>\n",
       "      <td>Healthy</td>\n",
       "      <td>-0.268167</td>\n",
       "      <td>-0.173282</td>\n",
       "      <td>-0.468532</td>\n",
       "      <td>-0.689375</td>\n",
       "      <td>-0.397119</td>\n",
       "      <td>-0.504227</td>\n",
       "      <td>-0.259295</td>\n",
       "      <td>-0.515416</td>\n",
       "      <td>-0.806464</td>\n",
       "      <td>...</td>\n",
       "      <td>-0.684569</td>\n",
       "      <td>-0.678013</td>\n",
       "      <td>-0.65555</td>\n",
       "      <td>-0.617682</td>\n",
       "      <td>-0.653828</td>\n",
       "      <td>-0.724431</td>\n",
       "      <td>-0.63664</td>\n",
       "      <td>-0.769704</td>\n",
       "      <td>-0.641001</td>\n",
       "      <td>-0.777737</td>\n",
       "    </tr>\n",
       "    <tr>\n",
       "      <th>1</th>\n",
       "      <td>Healthy</td>\n",
       "      <td>-0.263205</td>\n",
       "      <td>-0.105216</td>\n",
       "      <td>0.307663</td>\n",
       "      <td>0.251702</td>\n",
       "      <td>-0.0326679</td>\n",
       "      <td>0.403328</td>\n",
       "      <td>0.19694</td>\n",
       "      <td>2.10068</td>\n",
       "      <td>0.829804</td>\n",
       "      <td>...</td>\n",
       "      <td>4.54669</td>\n",
       "      <td>4.13252</td>\n",
       "      <td>4.13552</td>\n",
       "      <td>5.08838</td>\n",
       "      <td>0.706481</td>\n",
       "      <td>-0.00984325</td>\n",
       "      <td>-0.535609</td>\n",
       "      <td>-0.0779283</td>\n",
       "      <td>0.488144</td>\n",
       "      <td>1.91587</td>\n",
       "    </tr>\n",
       "    <tr>\n",
       "      <th>2</th>\n",
       "      <td>Healthy</td>\n",
       "      <td>-0.254105</td>\n",
       "      <td>-0.147462</td>\n",
       "      <td>-0.383205</td>\n",
       "      <td>0.560778</td>\n",
       "      <td>0.117618</td>\n",
       "      <td>-0.138625</td>\n",
       "      <td>0.167859</td>\n",
       "      <td>1.00659</td>\n",
       "      <td>0.757935</td>\n",
       "      <td>...</td>\n",
       "      <td>1.47263</td>\n",
       "      <td>-0.631554</td>\n",
       "      <td>-0.678092</td>\n",
       "      <td>-0.557608</td>\n",
       "      <td>0.173148</td>\n",
       "      <td>0.175616</td>\n",
       "      <td>-0.275008</td>\n",
       "      <td>-0.0775667</td>\n",
       "      <td>0.268835</td>\n",
       "      <td>0.782965</td>\n",
       "    </tr>\n",
       "    <tr>\n",
       "      <th>3</th>\n",
       "      <td>Healthy</td>\n",
       "      <td>-0.268131</td>\n",
       "      <td>-0.170967</td>\n",
       "      <td>-0.47802</td>\n",
       "      <td>-0.72707</td>\n",
       "      <td>-0.393612</td>\n",
       "      <td>-0.555889</td>\n",
       "      <td>-0.266302</td>\n",
       "      <td>-0.52864</td>\n",
       "      <td>-0.842443</td>\n",
       "      <td>...</td>\n",
       "      <td>-0.596558</td>\n",
       "      <td>-0.70113</td>\n",
       "      <td>-0.707574</td>\n",
       "      <td>-0.620823</td>\n",
       "      <td>-0.6057</td>\n",
       "      <td>-0.854671</td>\n",
       "      <td>-0.661433</td>\n",
       "      <td>-0.830507</td>\n",
       "      <td>-0.811968</td>\n",
       "      <td>-0.801357</td>\n",
       "    </tr>\n",
       "    <tr>\n",
       "      <th>4</th>\n",
       "      <td>Healthy</td>\n",
       "      <td>-0.268</td>\n",
       "      <td>-0.172635</td>\n",
       "      <td>-0.476942</td>\n",
       "      <td>-0.730256</td>\n",
       "      <td>-0.384417</td>\n",
       "      <td>-0.485635</td>\n",
       "      <td>-0.266156</td>\n",
       "      <td>-0.461565</td>\n",
       "      <td>-0.811969</td>\n",
       "      <td>...</td>\n",
       "      <td>-0.49071</td>\n",
       "      <td>-0.554093</td>\n",
       "      <td>-0.596447</td>\n",
       "      <td>-0.620428</td>\n",
       "      <td>-0.595307</td>\n",
       "      <td>-0.802005</td>\n",
       "      <td>-0.656975</td>\n",
       "      <td>-0.806074</td>\n",
       "      <td>-0.699333</td>\n",
       "      <td>-0.768384</td>\n",
       "    </tr>\n",
       "  </tbody>\n",
       "</table>\n",
       "<p>5 rows × 263 columns</p>\n",
       "</div>"
      ],
      "text/plain": [
       "        ID    M151T1     M83T1    M101T1     M46T1      M51T1     M50T1  \\\n",
       "0  Healthy -0.268167 -0.173282 -0.468532 -0.689375  -0.397119 -0.504227   \n",
       "1  Healthy -0.263205 -0.105216  0.307663  0.251702 -0.0326679  0.403328   \n",
       "2  Healthy -0.254105 -0.147462 -0.383205  0.560778   0.117618 -0.138625   \n",
       "3  Healthy -0.268131 -0.170967  -0.47802  -0.72707  -0.393612 -0.555889   \n",
       "4  Healthy    -0.268 -0.172635 -0.476942 -0.730256  -0.384417 -0.485635   \n",
       "\n",
       "      M69T1   M41T2_1   M56T2_1  ... M179T17_1  M74T17_2    M45T17 M154T17_4  \\\n",
       "0 -0.259295 -0.515416 -0.806464  ... -0.684569 -0.678013  -0.65555 -0.617682   \n",
       "1   0.19694   2.10068  0.829804  ...   4.54669   4.13252   4.13552   5.08838   \n",
       "2  0.167859   1.00659  0.757935  ...   1.47263 -0.631554 -0.678092 -0.557608   \n",
       "3 -0.266302  -0.52864 -0.842443  ... -0.596558  -0.70113 -0.707574 -0.620823   \n",
       "4 -0.266156 -0.461565 -0.811969  ...  -0.49071 -0.554093 -0.596447 -0.620428   \n",
       "\n",
       "  M141T19_1     M166T19   M103T19  M123T23_2 M160T24_1 M118T25_1  \n",
       "0 -0.653828   -0.724431  -0.63664  -0.769704 -0.641001 -0.777737  \n",
       "1  0.706481 -0.00984325 -0.535609 -0.0779283  0.488144   1.91587  \n",
       "2  0.173148    0.175616 -0.275008 -0.0775667  0.268835  0.782965  \n",
       "3   -0.6057   -0.854671 -0.661433  -0.830507 -0.811968 -0.801357  \n",
       "4 -0.595307   -0.802005 -0.656975  -0.806074 -0.699333 -0.768384  \n",
       "\n",
       "[5 rows x 263 columns]"
      ]
     },
     "execution_count": 26,
     "metadata": {},
     "output_type": "execute_result"
    }
   ],
   "source": [
    "X_reliefF_df.head()"
   ]
  },
  {
   "cell_type": "code",
   "execution_count": 27,
   "metadata": {},
   "outputs": [],
   "source": [
    "data_healthy_df = X_reliefF_df.loc[X_reliefF_df.ID == 'Healthy']\n",
    "data_asthma_df = X_reliefF_df.loc[X_reliefF_df.ID == 'Asthmatic']"
   ]
  },
  {
   "cell_type": "code",
   "execution_count": 28,
   "metadata": {},
   "outputs": [],
   "source": [
    "data_healthy = data_healthy_df.values[:,1:]\n",
    "data_asthma = data_asthma_df.values[:, 1:]"
   ]
  },
  {
   "cell_type": "code",
   "execution_count": 29,
   "metadata": {},
   "outputs": [],
   "source": [
    "healthy_mean, healthy_cov = do_factor_analysis(data_healthy)"
   ]
  },
  {
   "cell_type": "code",
   "execution_count": 30,
   "metadata": {},
   "outputs": [],
   "source": [
    "asthma_mean, asthma_cov = do_factor_analysis(data_asthma)"
   ]
  },
  {
   "cell_type": "code",
   "execution_count": 31,
   "metadata": {},
   "outputs": [
    {
     "name": "stderr",
     "output_type": "stream",
     "text": [
      "/Users/boses1/anaconda3/lib/python3.6/site-packages/ipykernel_launcher.py:5: RuntimeWarning: invalid value encountered in double_scalars\n",
      "  \"\"\"\n"
     ]
    }
   ],
   "source": [
    "dist, t1, t2 = bhatt_dist(healthy_mean, healthy_cov, asthma_mean, asthma_cov)"
   ]
  },
  {
   "cell_type": "code",
   "execution_count": 32,
   "metadata": {},
   "outputs": [
    {
     "name": "stdout",
     "output_type": "stream",
     "text": [
      "nan\n",
      "0.0\n",
      "0.0\n"
     ]
    }
   ],
   "source": [
    "print(dist)\n",
    "print(np.linalg.det(healthy_cov))\n",
    "print(np.linalg.det(asthma_cov))"
   ]
  },
  {
   "cell_type": "code",
   "execution_count": null,
   "metadata": {},
   "outputs": [],
   "source": []
  },
  {
   "cell_type": "markdown",
   "metadata": {},
   "source": [
    "## MultiSURF"
   ]
  },
  {
   "cell_type": "code",
   "execution_count": 34,
   "metadata": {},
   "outputs": [],
   "source": [
    "fs = MultiSURF(discrete_threshold = 5, n_jobs=1)\n",
    "fs.fit(data_scaled_df.values[:,2:].astype(float), data_scaled_df.ID_num.values)\n",
    "\n",
    "feature_scores = fs.feature_importances_\n",
    "feature_ids = np.where(feature_scores>=0)[0]\n",
    "selected_features = np.array(data_scaled_df.columns[2:][feature_ids]) "
   ]
  },
  {
   "cell_type": "code",
   "execution_count": 35,
   "metadata": {},
   "outputs": [],
   "source": [
    "X_MultiSURF = data_scaled_df.values[:,2:][:,feature_ids]"
   ]
  },
  {
   "cell_type": "code",
   "execution_count": 36,
   "metadata": {},
   "outputs": [
    {
     "data": {
      "text/plain": [
       "(43, 896)"
      ]
     },
     "execution_count": 36,
     "metadata": {},
     "output_type": "execute_result"
    }
   ],
   "source": [
    "X_MultiSURF.shape"
   ]
  },
  {
   "cell_type": "code",
   "execution_count": null,
   "metadata": {},
   "outputs": [],
   "source": []
  },
  {
   "cell_type": "code",
   "execution_count": 37,
   "metadata": {},
   "outputs": [],
   "source": [
    "X_MultiSURF_df = pd.DataFrame(X_MultiSURF, columns = selected_features)\n",
    "X_MultiSURF_df.insert(0, 'ID', data.ID.values)"
   ]
  },
  {
   "cell_type": "code",
   "execution_count": 38,
   "metadata": {},
   "outputs": [
    {
     "data": {
      "text/html": [
       "<div>\n",
       "<style scoped>\n",
       "    .dataframe tbody tr th:only-of-type {\n",
       "        vertical-align: middle;\n",
       "    }\n",
       "\n",
       "    .dataframe tbody tr th {\n",
       "        vertical-align: top;\n",
       "    }\n",
       "\n",
       "    .dataframe thead th {\n",
       "        text-align: right;\n",
       "    }\n",
       "</style>\n",
       "<table border=\"1\" class=\"dataframe\">\n",
       "  <thead>\n",
       "    <tr style=\"text-align: right;\">\n",
       "      <th></th>\n",
       "      <th>ID</th>\n",
       "      <th>M151T1</th>\n",
       "      <th>M83T1</th>\n",
       "      <th>M101T1</th>\n",
       "      <th>M46T1</th>\n",
       "      <th>M49T1</th>\n",
       "      <th>M66T1</th>\n",
       "      <th>M62T1</th>\n",
       "      <th>M135T1</th>\n",
       "      <th>M103T1</th>\n",
       "      <th>...</th>\n",
       "      <th>M125T26_3</th>\n",
       "      <th>M110T26_1</th>\n",
       "      <th>M121T26_1</th>\n",
       "      <th>M175T26_1</th>\n",
       "      <th>M124T26_1</th>\n",
       "      <th>M138T26_2</th>\n",
       "      <th>M85T26_2</th>\n",
       "      <th>M123T26_1</th>\n",
       "      <th>M91T26</th>\n",
       "      <th>M94T26</th>\n",
       "    </tr>\n",
       "  </thead>\n",
       "  <tbody>\n",
       "    <tr>\n",
       "      <th>0</th>\n",
       "      <td>Healthy</td>\n",
       "      <td>-0.268167</td>\n",
       "      <td>-0.173282</td>\n",
       "      <td>-0.468532</td>\n",
       "      <td>-0.689375</td>\n",
       "      <td>-0.545787</td>\n",
       "      <td>-0.619796</td>\n",
       "      <td>-0.409468</td>\n",
       "      <td>-0.781463</td>\n",
       "      <td>-0.508837</td>\n",
       "      <td>...</td>\n",
       "      <td>-0.61655</td>\n",
       "      <td>-0.564269</td>\n",
       "      <td>-0.599296</td>\n",
       "      <td>-0.417554</td>\n",
       "      <td>-0.599171</td>\n",
       "      <td>-0.582968</td>\n",
       "      <td>-0.536859</td>\n",
       "      <td>-0.635161</td>\n",
       "      <td>-0.577705</td>\n",
       "      <td>-0.546579</td>\n",
       "    </tr>\n",
       "    <tr>\n",
       "      <th>1</th>\n",
       "      <td>Healthy</td>\n",
       "      <td>-0.263205</td>\n",
       "      <td>-0.105216</td>\n",
       "      <td>0.307663</td>\n",
       "      <td>0.251702</td>\n",
       "      <td>-0.410207</td>\n",
       "      <td>0.588939</td>\n",
       "      <td>-0.0728911</td>\n",
       "      <td>1.35577</td>\n",
       "      <td>3.17152</td>\n",
       "      <td>...</td>\n",
       "      <td>1.37484</td>\n",
       "      <td>1.27008</td>\n",
       "      <td>1.26818</td>\n",
       "      <td>1.29854</td>\n",
       "      <td>1.45329</td>\n",
       "      <td>1.31816</td>\n",
       "      <td>2.37278</td>\n",
       "      <td>1.00238</td>\n",
       "      <td>0.508829</td>\n",
       "      <td>1.74474</td>\n",
       "    </tr>\n",
       "    <tr>\n",
       "      <th>2</th>\n",
       "      <td>Healthy</td>\n",
       "      <td>-0.254105</td>\n",
       "      <td>-0.147462</td>\n",
       "      <td>-0.383205</td>\n",
       "      <td>0.560778</td>\n",
       "      <td>-0.516126</td>\n",
       "      <td>-0.475555</td>\n",
       "      <td>-0.00112197</td>\n",
       "      <td>1.5537</td>\n",
       "      <td>3.29832</td>\n",
       "      <td>...</td>\n",
       "      <td>1.63278</td>\n",
       "      <td>1.61764</td>\n",
       "      <td>1.72658</td>\n",
       "      <td>1.4999</td>\n",
       "      <td>1.66442</td>\n",
       "      <td>1.62203</td>\n",
       "      <td>0.9912</td>\n",
       "      <td>1.53644</td>\n",
       "      <td>1.60287</td>\n",
       "      <td>1.3454</td>\n",
       "    </tr>\n",
       "    <tr>\n",
       "      <th>3</th>\n",
       "      <td>Healthy</td>\n",
       "      <td>-0.268131</td>\n",
       "      <td>-0.170967</td>\n",
       "      <td>-0.47802</td>\n",
       "      <td>-0.72707</td>\n",
       "      <td>-0.56617</td>\n",
       "      <td>-0.625262</td>\n",
       "      <td>-0.429223</td>\n",
       "      <td>-0.738069</td>\n",
       "      <td>-0.540948</td>\n",
       "      <td>...</td>\n",
       "      <td>-0.645406</td>\n",
       "      <td>-0.610128</td>\n",
       "      <td>-0.646618</td>\n",
       "      <td>-0.479807</td>\n",
       "      <td>-0.638188</td>\n",
       "      <td>-0.631238</td>\n",
       "      <td>-0.600075</td>\n",
       "      <td>-0.669043</td>\n",
       "      <td>-0.605098</td>\n",
       "      <td>-0.586067</td>\n",
       "    </tr>\n",
       "    <tr>\n",
       "      <th>4</th>\n",
       "      <td>Healthy</td>\n",
       "      <td>-0.268</td>\n",
       "      <td>-0.172635</td>\n",
       "      <td>-0.476942</td>\n",
       "      <td>-0.730256</td>\n",
       "      <td>-0.537614</td>\n",
       "      <td>-0.603333</td>\n",
       "      <td>-0.417282</td>\n",
       "      <td>-0.792615</td>\n",
       "      <td>-0.470683</td>\n",
       "      <td>...</td>\n",
       "      <td>-0.538728</td>\n",
       "      <td>-0.553533</td>\n",
       "      <td>-0.549592</td>\n",
       "      <td>-0.442624</td>\n",
       "      <td>-0.564847</td>\n",
       "      <td>-0.548247</td>\n",
       "      <td>-0.549434</td>\n",
       "      <td>-0.594169</td>\n",
       "      <td>-0.557005</td>\n",
       "      <td>-0.518373</td>\n",
       "    </tr>\n",
       "  </tbody>\n",
       "</table>\n",
       "<p>5 rows × 897 columns</p>\n",
       "</div>"
      ],
      "text/plain": [
       "        ID    M151T1     M83T1    M101T1     M46T1     M49T1     M66T1  \\\n",
       "0  Healthy -0.268167 -0.173282 -0.468532 -0.689375 -0.545787 -0.619796   \n",
       "1  Healthy -0.263205 -0.105216  0.307663  0.251702 -0.410207  0.588939   \n",
       "2  Healthy -0.254105 -0.147462 -0.383205  0.560778 -0.516126 -0.475555   \n",
       "3  Healthy -0.268131 -0.170967  -0.47802  -0.72707  -0.56617 -0.625262   \n",
       "4  Healthy    -0.268 -0.172635 -0.476942 -0.730256 -0.537614 -0.603333   \n",
       "\n",
       "        M62T1    M135T1    M103T1  ... M125T26_3 M110T26_1 M121T26_1  \\\n",
       "0   -0.409468 -0.781463 -0.508837  ...  -0.61655 -0.564269 -0.599296   \n",
       "1  -0.0728911   1.35577   3.17152  ...   1.37484   1.27008   1.26818   \n",
       "2 -0.00112197    1.5537   3.29832  ...   1.63278   1.61764   1.72658   \n",
       "3   -0.429223 -0.738069 -0.540948  ... -0.645406 -0.610128 -0.646618   \n",
       "4   -0.417282 -0.792615 -0.470683  ... -0.538728 -0.553533 -0.549592   \n",
       "\n",
       "  M175T26_1 M124T26_1 M138T26_2  M85T26_2 M123T26_1    M91T26    M94T26  \n",
       "0 -0.417554 -0.599171 -0.582968 -0.536859 -0.635161 -0.577705 -0.546579  \n",
       "1   1.29854   1.45329   1.31816   2.37278   1.00238  0.508829   1.74474  \n",
       "2    1.4999   1.66442   1.62203    0.9912   1.53644   1.60287    1.3454  \n",
       "3 -0.479807 -0.638188 -0.631238 -0.600075 -0.669043 -0.605098 -0.586067  \n",
       "4 -0.442624 -0.564847 -0.548247 -0.549434 -0.594169 -0.557005 -0.518373  \n",
       "\n",
       "[5 rows x 897 columns]"
      ]
     },
     "execution_count": 38,
     "metadata": {},
     "output_type": "execute_result"
    }
   ],
   "source": [
    "X_MultiSURF_df.head()"
   ]
  },
  {
   "cell_type": "code",
   "execution_count": 39,
   "metadata": {},
   "outputs": [],
   "source": [
    "data_healthy_df = X_MultiSURF_df.loc[X_reliefF_df.ID == 'Healthy']\n",
    "data_asthma_df = X_MultiSURF_df.loc[X_reliefF_df.ID == 'Asthmatic']"
   ]
  },
  {
   "cell_type": "code",
   "execution_count": 40,
   "metadata": {},
   "outputs": [],
   "source": [
    "data_healthy = data_healthy_df.values[:,1:]\n",
    "data_asthma = data_asthma_df.values[:, 1:]"
   ]
  },
  {
   "cell_type": "code",
   "execution_count": 41,
   "metadata": {},
   "outputs": [],
   "source": [
    "healthy_mean, healthy_cov = do_factor_analysis(data_healthy)"
   ]
  },
  {
   "cell_type": "code",
   "execution_count": 42,
   "metadata": {},
   "outputs": [],
   "source": [
    "asthma_mean, asthma_cov = do_factor_analysis(data_asthma)"
   ]
  },
  {
   "cell_type": "code",
   "execution_count": 43,
   "metadata": {},
   "outputs": [
    {
     "name": "stderr",
     "output_type": "stream",
     "text": [
      "/Users/boses1/anaconda3/lib/python3.6/site-packages/ipykernel_launcher.py:5: RuntimeWarning: invalid value encountered in double_scalars\n",
      "  \"\"\"\n"
     ]
    }
   ],
   "source": [
    "dist, t1, t2 = bhatt_dist(healthy_mean, healthy_cov, asthma_mean, asthma_cov)"
   ]
  },
  {
   "cell_type": "code",
   "execution_count": 44,
   "metadata": {},
   "outputs": [
    {
     "name": "stdout",
     "output_type": "stream",
     "text": [
      "nan\n",
      "0.0\n",
      "0.0\n"
     ]
    }
   ],
   "source": [
    "print(dist)\n",
    "print(np.linalg.det(healthy_cov))\n",
    "print(np.linalg.det(asthma_cov))"
   ]
  },
  {
   "cell_type": "code",
   "execution_count": null,
   "metadata": {},
   "outputs": [],
   "source": []
  },
  {
   "cell_type": "markdown",
   "metadata": {},
   "source": [
    "## MultiSURFStar"
   ]
  },
  {
   "cell_type": "code",
   "execution_count": 45,
   "metadata": {},
   "outputs": [],
   "source": [
    "fs = MultiSURFstar(discrete_threshold = 5, n_jobs=1)\n",
    "fs.fit(data_scaled_df.values[:,2:].astype(float), data_scaled_df.ID_num.values)\n",
    "\n",
    "feature_scores = fs.feature_importances_\n",
    "feature_ids = np.where(feature_scores>=0)[0]\n",
    "selected_features = np.array(data_scaled_df.columns[2:][feature_ids]) "
   ]
  },
  {
   "cell_type": "code",
   "execution_count": 46,
   "metadata": {},
   "outputs": [],
   "source": [
    "X_MultiSURFStar = data_scaled_df.values[:,2:][:,feature_ids]"
   ]
  },
  {
   "cell_type": "code",
   "execution_count": 47,
   "metadata": {},
   "outputs": [
    {
     "data": {
      "text/plain": [
       "(43, 5)"
      ]
     },
     "execution_count": 47,
     "metadata": {},
     "output_type": "execute_result"
    }
   ],
   "source": [
    "X_MultiSURFStar.shape"
   ]
  },
  {
   "cell_type": "code",
   "execution_count": 48,
   "metadata": {},
   "outputs": [],
   "source": [
    "X_MultiSURFStar_df = pd.DataFrame(X_MultiSURFStar, columns = selected_features)\n",
    "X_MultiSURFStar_df.insert(0, 'ID', data.ID.values)"
   ]
  },
  {
   "cell_type": "code",
   "execution_count": 49,
   "metadata": {},
   "outputs": [
    {
     "data": {
      "text/html": [
       "<div>\n",
       "<style scoped>\n",
       "    .dataframe tbody tr th:only-of-type {\n",
       "        vertical-align: middle;\n",
       "    }\n",
       "\n",
       "    .dataframe tbody tr th {\n",
       "        vertical-align: top;\n",
       "    }\n",
       "\n",
       "    .dataframe thead th {\n",
       "        text-align: right;\n",
       "    }\n",
       "</style>\n",
       "<table border=\"1\" class=\"dataframe\">\n",
       "  <thead>\n",
       "    <tr style=\"text-align: right;\">\n",
       "      <th></th>\n",
       "      <th>ID</th>\n",
       "      <th>M98T3_1</th>\n",
       "      <th>M68T5</th>\n",
       "      <th>M70T6_1</th>\n",
       "      <th>M91T6</th>\n",
       "      <th>M109T12_2</th>\n",
       "    </tr>\n",
       "  </thead>\n",
       "  <tbody>\n",
       "    <tr>\n",
       "      <th>0</th>\n",
       "      <td>Healthy</td>\n",
       "      <td>-0.698793</td>\n",
       "      <td>-0.627699</td>\n",
       "      <td>-0.677485</td>\n",
       "      <td>-0.582871</td>\n",
       "      <td>-0.59916</td>\n",
       "    </tr>\n",
       "    <tr>\n",
       "      <th>1</th>\n",
       "      <td>Healthy</td>\n",
       "      <td>1.72997</td>\n",
       "      <td>2.95831</td>\n",
       "      <td>0.776644</td>\n",
       "      <td>2.08052</td>\n",
       "      <td>2.50791</td>\n",
       "    </tr>\n",
       "    <tr>\n",
       "      <th>2</th>\n",
       "      <td>Healthy</td>\n",
       "      <td>1.70043</td>\n",
       "      <td>1.88355</td>\n",
       "      <td>1.79879</td>\n",
       "      <td>1.91838</td>\n",
       "      <td>0.766022</td>\n",
       "    </tr>\n",
       "    <tr>\n",
       "      <th>3</th>\n",
       "      <td>Healthy</td>\n",
       "      <td>-0.413427</td>\n",
       "      <td>-0.586846</td>\n",
       "      <td>-0.989364</td>\n",
       "      <td>-0.662185</td>\n",
       "      <td>-0.811215</td>\n",
       "    </tr>\n",
       "    <tr>\n",
       "      <th>4</th>\n",
       "      <td>Healthy</td>\n",
       "      <td>-0.720106</td>\n",
       "      <td>-0.620321</td>\n",
       "      <td>-0.959529</td>\n",
       "      <td>-0.637464</td>\n",
       "      <td>-0.789324</td>\n",
       "    </tr>\n",
       "  </tbody>\n",
       "</table>\n",
       "</div>"
      ],
      "text/plain": [
       "        ID   M98T3_1     M68T5   M70T6_1     M91T6 M109T12_2\n",
       "0  Healthy -0.698793 -0.627699 -0.677485 -0.582871  -0.59916\n",
       "1  Healthy   1.72997   2.95831  0.776644   2.08052   2.50791\n",
       "2  Healthy   1.70043   1.88355   1.79879   1.91838  0.766022\n",
       "3  Healthy -0.413427 -0.586846 -0.989364 -0.662185 -0.811215\n",
       "4  Healthy -0.720106 -0.620321 -0.959529 -0.637464 -0.789324"
      ]
     },
     "execution_count": 49,
     "metadata": {},
     "output_type": "execute_result"
    }
   ],
   "source": [
    "X_MultiSURFStar_df.head()"
   ]
  },
  {
   "cell_type": "code",
   "execution_count": 50,
   "metadata": {},
   "outputs": [],
   "source": [
    "data_healthy_df = X_MultiSURFStar_df.loc[X_MultiSURFStar_df.ID == 'Healthy']\n",
    "data_asthma_df = X_MultiSURFStar_df.loc[X_MultiSURFStar_df.ID == 'Asthmatic']"
   ]
  },
  {
   "cell_type": "code",
   "execution_count": 51,
   "metadata": {},
   "outputs": [],
   "source": [
    "data_healthy = data_healthy_df.values[:,1:]\n",
    "data_asthma = data_asthma_df.values[:, 1:]"
   ]
  },
  {
   "cell_type": "code",
   "execution_count": 52,
   "metadata": {},
   "outputs": [],
   "source": [
    "healthy_mean, healthy_cov = do_factor_analysis(data_healthy)"
   ]
  },
  {
   "cell_type": "code",
   "execution_count": 53,
   "metadata": {},
   "outputs": [],
   "source": [
    "asthma_mean, asthma_cov = do_factor_analysis(data_asthma)"
   ]
  },
  {
   "cell_type": "code",
   "execution_count": 54,
   "metadata": {},
   "outputs": [],
   "source": [
    "dist, t1, t2 = bhatt_dist(healthy_mean, healthy_cov, asthma_mean, asthma_cov)"
   ]
  },
  {
   "cell_type": "code",
   "execution_count": 55,
   "metadata": {},
   "outputs": [
    {
     "name": "stdout",
     "output_type": "stream",
     "text": [
      "0.8781896505522983\n",
      "0.10470358387067949\n",
      "0.0049995991493347255\n"
     ]
    }
   ],
   "source": [
    "print(dist)\n",
    "print(np.linalg.det(healthy_cov))\n",
    "print(np.linalg.det(asthma_cov))"
   ]
  },
  {
   "cell_type": "code",
   "execution_count": null,
   "metadata": {},
   "outputs": [],
   "source": []
  },
  {
   "cell_type": "code",
   "execution_count": null,
   "metadata": {},
   "outputs": [],
   "source": []
  },
  {
   "cell_type": "markdown",
   "metadata": {},
   "source": [
    "# Univariate Statistical Feature Selection"
   ]
  },
  {
   "cell_type": "markdown",
   "metadata": {},
   "source": [
    "## Anova"
   ]
  },
  {
   "cell_type": "code",
   "execution_count": 56,
   "metadata": {},
   "outputs": [],
   "source": [
    "f,p = f_classif(data_scaled_df.values[:,2:].astype(float), data.ID_num.values)\n",
    "feature_ids = np.where(p<=0.05)[0]\n",
    "\n",
    "\n",
    "selected_features = np.array(data_scaled_df.columns[2:][feature_ids]) \n",
    "\n",
    "X_anova = data_scaled_df.values[:,2:][:,feature_ids]"
   ]
  },
  {
   "cell_type": "code",
   "execution_count": 57,
   "metadata": {},
   "outputs": [
    {
     "data": {
      "text/plain": [
       "(43, 34)"
      ]
     },
     "execution_count": 57,
     "metadata": {},
     "output_type": "execute_result"
    }
   ],
   "source": [
    "X_anova.shape"
   ]
  },
  {
   "cell_type": "code",
   "execution_count": null,
   "metadata": {},
   "outputs": [],
   "source": []
  },
  {
   "cell_type": "code",
   "execution_count": 58,
   "metadata": {},
   "outputs": [],
   "source": [
    "X_anova_df = pd.DataFrame(X_anova, columns = selected_features)\n",
    "X_anova_df.insert(0, 'ID', data.ID.values)"
   ]
  },
  {
   "cell_type": "code",
   "execution_count": 59,
   "metadata": {},
   "outputs": [
    {
     "data": {
      "text/html": [
       "<div>\n",
       "<style scoped>\n",
       "    .dataframe tbody tr th:only-of-type {\n",
       "        vertical-align: middle;\n",
       "    }\n",
       "\n",
       "    .dataframe tbody tr th {\n",
       "        vertical-align: top;\n",
       "    }\n",
       "\n",
       "    .dataframe thead th {\n",
       "        text-align: right;\n",
       "    }\n",
       "</style>\n",
       "<table border=\"1\" class=\"dataframe\">\n",
       "  <thead>\n",
       "    <tr style=\"text-align: right;\">\n",
       "      <th></th>\n",
       "      <th>ID</th>\n",
       "      <th>M151T1</th>\n",
       "      <th>M67T2_1</th>\n",
       "      <th>M90T2_2</th>\n",
       "      <th>M72T2_2</th>\n",
       "      <th>M82T2_2</th>\n",
       "      <th>M95T2</th>\n",
       "      <th>M91T2_1</th>\n",
       "      <th>M132T2_1</th>\n",
       "      <th>M97T3_1</th>\n",
       "      <th>...</th>\n",
       "      <th>M69T10_3</th>\n",
       "      <th>M94T11_1</th>\n",
       "      <th>M93T11_1</th>\n",
       "      <th>M39T11</th>\n",
       "      <th>M66T11_2</th>\n",
       "      <th>M62T11_1</th>\n",
       "      <th>M38T11</th>\n",
       "      <th>M40T11</th>\n",
       "      <th>M90T12</th>\n",
       "      <th>M110T12_2</th>\n",
       "    </tr>\n",
       "  </thead>\n",
       "  <tbody>\n",
       "    <tr>\n",
       "      <th>0</th>\n",
       "      <td>Healthy</td>\n",
       "      <td>-0.268167</td>\n",
       "      <td>-0.459512</td>\n",
       "      <td>-0.482348</td>\n",
       "      <td>-0.645626</td>\n",
       "      <td>-0.855105</td>\n",
       "      <td>-0.942973</td>\n",
       "      <td>-0.689529</td>\n",
       "      <td>-0.750814</td>\n",
       "      <td>-0.0778075</td>\n",
       "      <td>...</td>\n",
       "      <td>-0.6107</td>\n",
       "      <td>-0.584152</td>\n",
       "      <td>-0.462755</td>\n",
       "      <td>-0.493958</td>\n",
       "      <td>-0.520622</td>\n",
       "      <td>-0.632254</td>\n",
       "      <td>-0.563194</td>\n",
       "      <td>-0.505035</td>\n",
       "      <td>-0.381817</td>\n",
       "      <td>-0.756397</td>\n",
       "    </tr>\n",
       "    <tr>\n",
       "      <th>1</th>\n",
       "      <td>Healthy</td>\n",
       "      <td>-0.263205</td>\n",
       "      <td>0.597175</td>\n",
       "      <td>1.88202</td>\n",
       "      <td>-0.944398</td>\n",
       "      <td>2.18404</td>\n",
       "      <td>0.444226</td>\n",
       "      <td>1.51344</td>\n",
       "      <td>1.51043</td>\n",
       "      <td>0.299322</td>\n",
       "      <td>...</td>\n",
       "      <td>1.28865</td>\n",
       "      <td>-0.550068</td>\n",
       "      <td>-0.581811</td>\n",
       "      <td>-0.176697</td>\n",
       "      <td>-0.484444</td>\n",
       "      <td>0.580592</td>\n",
       "      <td>-0.387506</td>\n",
       "      <td>-0.241508</td>\n",
       "      <td>3.28594</td>\n",
       "      <td>2.78272</td>\n",
       "    </tr>\n",
       "    <tr>\n",
       "      <th>2</th>\n",
       "      <td>Healthy</td>\n",
       "      <td>-0.254105</td>\n",
       "      <td>2.10178</td>\n",
       "      <td>1.31152</td>\n",
       "      <td>-0.148172</td>\n",
       "      <td>2.09556</td>\n",
       "      <td>2.53259</td>\n",
       "      <td>2.04408</td>\n",
       "      <td>1.88436</td>\n",
       "      <td>0.191514</td>\n",
       "      <td>...</td>\n",
       "      <td>1.76041</td>\n",
       "      <td>-0.549622</td>\n",
       "      <td>-0.538452</td>\n",
       "      <td>-0.280781</td>\n",
       "      <td>-0.498571</td>\n",
       "      <td>-0.193781</td>\n",
       "      <td>-0.0809946</td>\n",
       "      <td>-0.0698067</td>\n",
       "      <td>0.947865</td>\n",
       "      <td>0.878527</td>\n",
       "    </tr>\n",
       "    <tr>\n",
       "      <th>3</th>\n",
       "      <td>Healthy</td>\n",
       "      <td>-0.268131</td>\n",
       "      <td>-0.468733</td>\n",
       "      <td>-0.572338</td>\n",
       "      <td>-1.25737</td>\n",
       "      <td>-0.917285</td>\n",
       "      <td>-1.02991</td>\n",
       "      <td>-0.750121</td>\n",
       "      <td>-0.773842</td>\n",
       "      <td>0.131019</td>\n",
       "      <td>...</td>\n",
       "      <td>-0.621618</td>\n",
       "      <td>-0.723417</td>\n",
       "      <td>-0.531289</td>\n",
       "      <td>-0.640424</td>\n",
       "      <td>-0.68664</td>\n",
       "      <td>-0.738926</td>\n",
       "      <td>-0.57296</td>\n",
       "      <td>-0.581728</td>\n",
       "      <td>-0.697853</td>\n",
       "      <td>-0.536689</td>\n",
       "    </tr>\n",
       "    <tr>\n",
       "      <th>4</th>\n",
       "      <td>Healthy</td>\n",
       "      <td>-0.268</td>\n",
       "      <td>-0.456096</td>\n",
       "      <td>-0.55483</td>\n",
       "      <td>-1.28042</td>\n",
       "      <td>-1.30846</td>\n",
       "      <td>-1.04277</td>\n",
       "      <td>-0.768133</td>\n",
       "      <td>-0.799584</td>\n",
       "      <td>0.137262</td>\n",
       "      <td>...</td>\n",
       "      <td>-0.629418</td>\n",
       "      <td>-0.759001</td>\n",
       "      <td>-0.606578</td>\n",
       "      <td>-0.669164</td>\n",
       "      <td>-0.717645</td>\n",
       "      <td>-0.778315</td>\n",
       "      <td>-0.618214</td>\n",
       "      <td>-0.61991</td>\n",
       "      <td>-0.586106</td>\n",
       "      <td>-0.775964</td>\n",
       "    </tr>\n",
       "  </tbody>\n",
       "</table>\n",
       "<p>5 rows × 35 columns</p>\n",
       "</div>"
      ],
      "text/plain": [
       "        ID    M151T1   M67T2_1   M90T2_2   M72T2_2   M82T2_2     M95T2  \\\n",
       "0  Healthy -0.268167 -0.459512 -0.482348 -0.645626 -0.855105 -0.942973   \n",
       "1  Healthy -0.263205  0.597175   1.88202 -0.944398   2.18404  0.444226   \n",
       "2  Healthy -0.254105   2.10178   1.31152 -0.148172   2.09556   2.53259   \n",
       "3  Healthy -0.268131 -0.468733 -0.572338  -1.25737 -0.917285  -1.02991   \n",
       "4  Healthy    -0.268 -0.456096  -0.55483  -1.28042  -1.30846  -1.04277   \n",
       "\n",
       "    M91T2_1  M132T2_1    M97T3_1  ...  M69T10_3  M94T11_1  M93T11_1    M39T11  \\\n",
       "0 -0.689529 -0.750814 -0.0778075  ...   -0.6107 -0.584152 -0.462755 -0.493958   \n",
       "1   1.51344   1.51043   0.299322  ...   1.28865 -0.550068 -0.581811 -0.176697   \n",
       "2   2.04408   1.88436   0.191514  ...   1.76041 -0.549622 -0.538452 -0.280781   \n",
       "3 -0.750121 -0.773842   0.131019  ... -0.621618 -0.723417 -0.531289 -0.640424   \n",
       "4 -0.768133 -0.799584   0.137262  ... -0.629418 -0.759001 -0.606578 -0.669164   \n",
       "\n",
       "   M66T11_2  M62T11_1     M38T11     M40T11    M90T12 M110T12_2  \n",
       "0 -0.520622 -0.632254  -0.563194  -0.505035 -0.381817 -0.756397  \n",
       "1 -0.484444  0.580592  -0.387506  -0.241508   3.28594   2.78272  \n",
       "2 -0.498571 -0.193781 -0.0809946 -0.0698067  0.947865  0.878527  \n",
       "3  -0.68664 -0.738926   -0.57296  -0.581728 -0.697853 -0.536689  \n",
       "4 -0.717645 -0.778315  -0.618214   -0.61991 -0.586106 -0.775964  \n",
       "\n",
       "[5 rows x 35 columns]"
      ]
     },
     "execution_count": 59,
     "metadata": {},
     "output_type": "execute_result"
    }
   ],
   "source": [
    "X_anova_df.head()"
   ]
  },
  {
   "cell_type": "code",
   "execution_count": 60,
   "metadata": {},
   "outputs": [],
   "source": [
    "data_healthy_df = X_anova_df.loc[X_anova_df.ID == 'Healthy']\n",
    "data_asthma_df = X_anova_df.loc[X_anova_df.ID == 'Asthmatic']"
   ]
  },
  {
   "cell_type": "code",
   "execution_count": 61,
   "metadata": {},
   "outputs": [],
   "source": [
    "data_healthy = data_healthy_df.values[:,1:]\n",
    "data_asthma = data_asthma_df.values[:, 1:]"
   ]
  },
  {
   "cell_type": "code",
   "execution_count": 62,
   "metadata": {},
   "outputs": [],
   "source": [
    "healthy_mean, healthy_cov = do_factor_analysis(data_healthy)"
   ]
  },
  {
   "cell_type": "code",
   "execution_count": 63,
   "metadata": {},
   "outputs": [],
   "source": [
    "asthma_mean, asthma_cov = do_factor_analysis(data_asthma)"
   ]
  },
  {
   "cell_type": "code",
   "execution_count": 64,
   "metadata": {},
   "outputs": [
    {
     "name": "stderr",
     "output_type": "stream",
     "text": [
      "/Users/boses1/anaconda3/lib/python3.6/site-packages/ipykernel_launcher.py:5: RuntimeWarning: divide by zero encountered in double_scalars\n",
      "  \"\"\"\n"
     ]
    }
   ],
   "source": [
    "dist, t1, t2 = bhatt_dist(healthy_mean, healthy_cov, asthma_mean, asthma_cov)"
   ]
  },
  {
   "cell_type": "code",
   "execution_count": 66,
   "metadata": {},
   "outputs": [
    {
     "name": "stdout",
     "output_type": "stream",
     "text": [
      "inf\n",
      "1.2922052962755676e-110\n",
      "2.6274739360408576e-256\n"
     ]
    }
   ],
   "source": [
    "print(dist)\n",
    "print(np.linalg.det(healthy_cov))\n",
    "print(np.linalg.det(asthma_cov))"
   ]
  },
  {
   "cell_type": "code",
   "execution_count": null,
   "metadata": {},
   "outputs": [],
   "source": []
  },
  {
   "cell_type": "markdown",
   "metadata": {},
   "source": [
    "# Combinations"
   ]
  },
  {
   "cell_type": "markdown",
   "metadata": {},
   "source": [
    "## Anova + Relief-F"
   ]
  },
  {
   "cell_type": "code",
   "execution_count": 67,
   "metadata": {},
   "outputs": [
    {
     "data": {
      "text/plain": [
       "(43, 34)"
      ]
     },
     "execution_count": 67,
     "metadata": {},
     "output_type": "execute_result"
    }
   ],
   "source": [
    "X_anova.shape"
   ]
  },
  {
   "cell_type": "code",
   "execution_count": 68,
   "metadata": {},
   "outputs": [],
   "source": [
    "fs = ReliefF(discrete_threshold = 5, n_jobs=1)\n",
    "fs.fit(X_anova.astype(float), data.ID_num.values)\n",
    "\n",
    "feature_scores = fs.feature_importances_\n",
    "feature_ids = np.where(feature_scores>=0)[0]\n",
    "selected_features = selected_features[feature_ids]"
   ]
  },
  {
   "cell_type": "code",
   "execution_count": 69,
   "metadata": {},
   "outputs": [],
   "source": [
    "X_ano_reliefF = X_anova[:,feature_ids]"
   ]
  },
  {
   "cell_type": "code",
   "execution_count": 70,
   "metadata": {},
   "outputs": [
    {
     "data": {
      "text/plain": [
       "(43, 26)"
      ]
     },
     "execution_count": 70,
     "metadata": {},
     "output_type": "execute_result"
    }
   ],
   "source": [
    "X_ano_reliefF.shape"
   ]
  },
  {
   "cell_type": "code",
   "execution_count": null,
   "metadata": {},
   "outputs": [],
   "source": []
  },
  {
   "cell_type": "code",
   "execution_count": 71,
   "metadata": {},
   "outputs": [],
   "source": [
    "X_anova_relief_df = pd.DataFrame(X_ano_reliefF, columns = selected_features)\n",
    "X_anova_relief_df.insert(0, 'ID', data.ID.values)"
   ]
  },
  {
   "cell_type": "code",
   "execution_count": 72,
   "metadata": {},
   "outputs": [
    {
     "data": {
      "text/html": [
       "<div>\n",
       "<style scoped>\n",
       "    .dataframe tbody tr th:only-of-type {\n",
       "        vertical-align: middle;\n",
       "    }\n",
       "\n",
       "    .dataframe tbody tr th {\n",
       "        vertical-align: top;\n",
       "    }\n",
       "\n",
       "    .dataframe thead th {\n",
       "        text-align: right;\n",
       "    }\n",
       "</style>\n",
       "<table border=\"1\" class=\"dataframe\">\n",
       "  <thead>\n",
       "    <tr style=\"text-align: right;\">\n",
       "      <th></th>\n",
       "      <th>ID</th>\n",
       "      <th>M151T1</th>\n",
       "      <th>M72T2_2</th>\n",
       "      <th>M82T2_2</th>\n",
       "      <th>M95T2</th>\n",
       "      <th>M91T2_1</th>\n",
       "      <th>M132T2_1</th>\n",
       "      <th>M97T3_1</th>\n",
       "      <th>M77T3_1</th>\n",
       "      <th>M84T4_1</th>\n",
       "      <th>...</th>\n",
       "      <th>M108T7</th>\n",
       "      <th>M94T11_1</th>\n",
       "      <th>M93T11_1</th>\n",
       "      <th>M39T11</th>\n",
       "      <th>M66T11_2</th>\n",
       "      <th>M62T11_1</th>\n",
       "      <th>M38T11</th>\n",
       "      <th>M40T11</th>\n",
       "      <th>M90T12</th>\n",
       "      <th>M110T12_2</th>\n",
       "    </tr>\n",
       "  </thead>\n",
       "  <tbody>\n",
       "    <tr>\n",
       "      <th>0</th>\n",
       "      <td>Healthy</td>\n",
       "      <td>-0.268167</td>\n",
       "      <td>-0.645626</td>\n",
       "      <td>-0.855105</td>\n",
       "      <td>-0.942973</td>\n",
       "      <td>-0.689529</td>\n",
       "      <td>-0.750814</td>\n",
       "      <td>-0.0778075</td>\n",
       "      <td>-0.655164</td>\n",
       "      <td>-0.874023</td>\n",
       "      <td>...</td>\n",
       "      <td>-0.541696</td>\n",
       "      <td>-0.584152</td>\n",
       "      <td>-0.462755</td>\n",
       "      <td>-0.493958</td>\n",
       "      <td>-0.520622</td>\n",
       "      <td>-0.632254</td>\n",
       "      <td>-0.563194</td>\n",
       "      <td>-0.505035</td>\n",
       "      <td>-0.381817</td>\n",
       "      <td>-0.756397</td>\n",
       "    </tr>\n",
       "    <tr>\n",
       "      <th>1</th>\n",
       "      <td>Healthy</td>\n",
       "      <td>-0.263205</td>\n",
       "      <td>-0.944398</td>\n",
       "      <td>2.18404</td>\n",
       "      <td>0.444226</td>\n",
       "      <td>1.51344</td>\n",
       "      <td>1.51043</td>\n",
       "      <td>0.299322</td>\n",
       "      <td>1.38727</td>\n",
       "      <td>0.839667</td>\n",
       "      <td>...</td>\n",
       "      <td>1.5753</td>\n",
       "      <td>-0.550068</td>\n",
       "      <td>-0.581811</td>\n",
       "      <td>-0.176697</td>\n",
       "      <td>-0.484444</td>\n",
       "      <td>0.580592</td>\n",
       "      <td>-0.387506</td>\n",
       "      <td>-0.241508</td>\n",
       "      <td>3.28594</td>\n",
       "      <td>2.78272</td>\n",
       "    </tr>\n",
       "    <tr>\n",
       "      <th>2</th>\n",
       "      <td>Healthy</td>\n",
       "      <td>-0.254105</td>\n",
       "      <td>-0.148172</td>\n",
       "      <td>2.09556</td>\n",
       "      <td>2.53259</td>\n",
       "      <td>2.04408</td>\n",
       "      <td>1.88436</td>\n",
       "      <td>0.191514</td>\n",
       "      <td>0.633136</td>\n",
       "      <td>1.78128</td>\n",
       "      <td>...</td>\n",
       "      <td>0.811305</td>\n",
       "      <td>-0.549622</td>\n",
       "      <td>-0.538452</td>\n",
       "      <td>-0.280781</td>\n",
       "      <td>-0.498571</td>\n",
       "      <td>-0.193781</td>\n",
       "      <td>-0.0809946</td>\n",
       "      <td>-0.0698067</td>\n",
       "      <td>0.947865</td>\n",
       "      <td>0.878527</td>\n",
       "    </tr>\n",
       "    <tr>\n",
       "      <th>3</th>\n",
       "      <td>Healthy</td>\n",
       "      <td>-0.268131</td>\n",
       "      <td>-1.25737</td>\n",
       "      <td>-0.917285</td>\n",
       "      <td>-1.02991</td>\n",
       "      <td>-0.750121</td>\n",
       "      <td>-0.773842</td>\n",
       "      <td>0.131019</td>\n",
       "      <td>-0.653796</td>\n",
       "      <td>-1.02205</td>\n",
       "      <td>...</td>\n",
       "      <td>-0.579382</td>\n",
       "      <td>-0.723417</td>\n",
       "      <td>-0.531289</td>\n",
       "      <td>-0.640424</td>\n",
       "      <td>-0.68664</td>\n",
       "      <td>-0.738926</td>\n",
       "      <td>-0.57296</td>\n",
       "      <td>-0.581728</td>\n",
       "      <td>-0.697853</td>\n",
       "      <td>-0.536689</td>\n",
       "    </tr>\n",
       "    <tr>\n",
       "      <th>4</th>\n",
       "      <td>Healthy</td>\n",
       "      <td>-0.268</td>\n",
       "      <td>-1.28042</td>\n",
       "      <td>-1.30846</td>\n",
       "      <td>-1.04277</td>\n",
       "      <td>-0.768133</td>\n",
       "      <td>-0.799584</td>\n",
       "      <td>0.137262</td>\n",
       "      <td>-0.570038</td>\n",
       "      <td>-1.03825</td>\n",
       "      <td>...</td>\n",
       "      <td>-0.556233</td>\n",
       "      <td>-0.759001</td>\n",
       "      <td>-0.606578</td>\n",
       "      <td>-0.669164</td>\n",
       "      <td>-0.717645</td>\n",
       "      <td>-0.778315</td>\n",
       "      <td>-0.618214</td>\n",
       "      <td>-0.61991</td>\n",
       "      <td>-0.586106</td>\n",
       "      <td>-0.775964</td>\n",
       "    </tr>\n",
       "  </tbody>\n",
       "</table>\n",
       "<p>5 rows × 27 columns</p>\n",
       "</div>"
      ],
      "text/plain": [
       "        ID    M151T1   M72T2_2   M82T2_2     M95T2   M91T2_1  M132T2_1  \\\n",
       "0  Healthy -0.268167 -0.645626 -0.855105 -0.942973 -0.689529 -0.750814   \n",
       "1  Healthy -0.263205 -0.944398   2.18404  0.444226   1.51344   1.51043   \n",
       "2  Healthy -0.254105 -0.148172   2.09556   2.53259   2.04408   1.88436   \n",
       "3  Healthy -0.268131  -1.25737 -0.917285  -1.02991 -0.750121 -0.773842   \n",
       "4  Healthy    -0.268  -1.28042  -1.30846  -1.04277 -0.768133 -0.799584   \n",
       "\n",
       "     M97T3_1   M77T3_1   M84T4_1  ...    M108T7  M94T11_1  M93T11_1    M39T11  \\\n",
       "0 -0.0778075 -0.655164 -0.874023  ... -0.541696 -0.584152 -0.462755 -0.493958   \n",
       "1   0.299322   1.38727  0.839667  ...    1.5753 -0.550068 -0.581811 -0.176697   \n",
       "2   0.191514  0.633136   1.78128  ...  0.811305 -0.549622 -0.538452 -0.280781   \n",
       "3   0.131019 -0.653796  -1.02205  ... -0.579382 -0.723417 -0.531289 -0.640424   \n",
       "4   0.137262 -0.570038  -1.03825  ... -0.556233 -0.759001 -0.606578 -0.669164   \n",
       "\n",
       "   M66T11_2  M62T11_1     M38T11     M40T11    M90T12 M110T12_2  \n",
       "0 -0.520622 -0.632254  -0.563194  -0.505035 -0.381817 -0.756397  \n",
       "1 -0.484444  0.580592  -0.387506  -0.241508   3.28594   2.78272  \n",
       "2 -0.498571 -0.193781 -0.0809946 -0.0698067  0.947865  0.878527  \n",
       "3  -0.68664 -0.738926   -0.57296  -0.581728 -0.697853 -0.536689  \n",
       "4 -0.717645 -0.778315  -0.618214   -0.61991 -0.586106 -0.775964  \n",
       "\n",
       "[5 rows x 27 columns]"
      ]
     },
     "execution_count": 72,
     "metadata": {},
     "output_type": "execute_result"
    }
   ],
   "source": [
    "X_anova_relief_df.head()"
   ]
  },
  {
   "cell_type": "code",
   "execution_count": 73,
   "metadata": {},
   "outputs": [],
   "source": [
    "data_healthy_df = X_anova_relief_df.loc[X_anova_relief_df.ID == 'Healthy']\n",
    "data_asthma_df = X_anova_relief_df.loc[X_anova_relief_df.ID == 'Asthmatic']"
   ]
  },
  {
   "cell_type": "code",
   "execution_count": 74,
   "metadata": {},
   "outputs": [],
   "source": [
    "data_healthy = data_healthy_df.values[:,1:]\n",
    "data_asthma = data_asthma_df.values[:, 1:]"
   ]
  },
  {
   "cell_type": "code",
   "execution_count": 75,
   "metadata": {},
   "outputs": [],
   "source": [
    "healthy_mean, healthy_cov = do_factor_analysis(data_healthy)"
   ]
  },
  {
   "cell_type": "code",
   "execution_count": 76,
   "metadata": {},
   "outputs": [],
   "source": [
    "asthma_mean, asthma_cov = do_factor_analysis(data_asthma)"
   ]
  },
  {
   "cell_type": "code",
   "execution_count": 77,
   "metadata": {},
   "outputs": [],
   "source": [
    "dist, t1, t2 = bhatt_dist(healthy_mean, healthy_cov, asthma_mean, asthma_cov)"
   ]
  },
  {
   "cell_type": "code",
   "execution_count": 78,
   "metadata": {},
   "outputs": [
    {
     "name": "stdout",
     "output_type": "stream",
     "text": [
      "87.19351047162358\n",
      "2.3008692548762507e-13\n",
      "6.307301839056216e-162\n"
     ]
    }
   ],
   "source": [
    "print(dist)\n",
    "print(np.linalg.det(healthy_cov))\n",
    "print(np.linalg.det(asthma_cov))"
   ]
  },
  {
   "cell_type": "code",
   "execution_count": null,
   "metadata": {},
   "outputs": [],
   "source": []
  },
  {
   "cell_type": "markdown",
   "metadata": {},
   "source": [
    "# Dataset with linearly correlated features removed"
   ]
  },
  {
   "cell_type": "code",
   "execution_count": 21,
   "metadata": {},
   "outputs": [],
   "source": [
    "with open('../data/independent_features.pik', \"rb\") as f:\n",
    "    independent_features = dill.load(f)"
   ]
  },
  {
   "cell_type": "code",
   "execution_count": 22,
   "metadata": {},
   "outputs": [],
   "source": [
    "X_no_corr_df = independent_features['X_no_corr_df']"
   ]
  },
  {
   "cell_type": "code",
   "execution_count": 23,
   "metadata": {},
   "outputs": [
    {
     "data": {
      "text/plain": [
       "(43, 681)"
      ]
     },
     "execution_count": 23,
     "metadata": {},
     "output_type": "execute_result"
    }
   ],
   "source": [
    "X_no_corr_df.shape"
   ]
  },
  {
   "cell_type": "code",
   "execution_count": 24,
   "metadata": {},
   "outputs": [
    {
     "data": {
      "text/html": [
       "<div>\n",
       "<style scoped>\n",
       "    .dataframe tbody tr th:only-of-type {\n",
       "        vertical-align: middle;\n",
       "    }\n",
       "\n",
       "    .dataframe tbody tr th {\n",
       "        vertical-align: top;\n",
       "    }\n",
       "\n",
       "    .dataframe thead th {\n",
       "        text-align: right;\n",
       "    }\n",
       "</style>\n",
       "<table border=\"1\" class=\"dataframe\">\n",
       "  <thead>\n",
       "    <tr style=\"text-align: right;\">\n",
       "      <th></th>\n",
       "      <th>M151T1</th>\n",
       "      <th>M83T1</th>\n",
       "      <th>M101T1</th>\n",
       "      <th>M46T1</th>\n",
       "      <th>M49T1</th>\n",
       "      <th>M66T1</th>\n",
       "      <th>M62T1</th>\n",
       "      <th>M80T1</th>\n",
       "      <th>M137T1</th>\n",
       "      <th>M135T1</th>\n",
       "      <th>...</th>\n",
       "      <th>M177T24</th>\n",
       "      <th>M179T24_1</th>\n",
       "      <th>M160T24_1</th>\n",
       "      <th>M118T25_1</th>\n",
       "      <th>M149T25_1</th>\n",
       "      <th>M133T25_1</th>\n",
       "      <th>M77T25_3</th>\n",
       "      <th>M107T25</th>\n",
       "      <th>M136T26_1</th>\n",
       "      <th>M135T26_1</th>\n",
       "    </tr>\n",
       "  </thead>\n",
       "  <tbody>\n",
       "    <tr>\n",
       "      <th>0</th>\n",
       "      <td>16.048388</td>\n",
       "      <td>6064.292377</td>\n",
       "      <td>781.993514</td>\n",
       "      <td>802.020931</td>\n",
       "      <td>4694.204132</td>\n",
       "      <td>7.292742e+04</td>\n",
       "      <td>29491.232768</td>\n",
       "      <td>16.024791</td>\n",
       "      <td>1710.311517</td>\n",
       "      <td>610.786947</td>\n",
       "      <td>...</td>\n",
       "      <td>8763.226090</td>\n",
       "      <td>1955.094864</td>\n",
       "      <td>45189.932530</td>\n",
       "      <td>1454.883633</td>\n",
       "      <td>8600.367206</td>\n",
       "      <td>2515.842097</td>\n",
       "      <td>5009.445544</td>\n",
       "      <td>14497.249904</td>\n",
       "      <td>945.040761</td>\n",
       "      <td>6862.351212</td>\n",
       "    </tr>\n",
       "    <tr>\n",
       "      <th>1</th>\n",
       "      <td>2966.261917</td>\n",
       "      <td>134774.774889</td>\n",
       "      <td>62570.597315</td>\n",
       "      <td>18605.033364</td>\n",
       "      <td>23763.284044</td>\n",
       "      <td>6.268676e+06</td>\n",
       "      <td>392830.377721</td>\n",
       "      <td>5189.617648</td>\n",
       "      <td>1061.179026</td>\n",
       "      <td>63189.361143</td>\n",
       "      <td>...</td>\n",
       "      <td>83990.884777</td>\n",
       "      <td>25405.911733</td>\n",
       "      <td>336358.777640</td>\n",
       "      <td>130370.652612</td>\n",
       "      <td>93902.604529</td>\n",
       "      <td>717966.648513</td>\n",
       "      <td>294883.093401</td>\n",
       "      <td>350356.949201</td>\n",
       "      <td>104412.535580</td>\n",
       "      <td>204595.793530</td>\n",
       "    </tr>\n",
       "    <tr>\n",
       "      <th>2</th>\n",
       "      <td>8377.442132</td>\n",
       "      <td>54888.286191</td>\n",
       "      <td>7574.412552</td>\n",
       "      <td>24452.053496</td>\n",
       "      <td>8865.881271</td>\n",
       "      <td>8.122816e+05</td>\n",
       "      <td>470305.922774</td>\n",
       "      <td>2883.659359</td>\n",
       "      <td>4927.060920</td>\n",
       "      <td>68984.802047</td>\n",
       "      <td>...</td>\n",
       "      <td>167842.847318</td>\n",
       "      <td>45217.682193</td>\n",
       "      <td>279806.422505</td>\n",
       "      <td>76149.863150</td>\n",
       "      <td>114093.631133</td>\n",
       "      <td>122272.569502</td>\n",
       "      <td>339934.153420</td>\n",
       "      <td>260890.313895</td>\n",
       "      <td>38464.014754</td>\n",
       "      <td>430983.528860</td>\n",
       "    </tr>\n",
       "    <tr>\n",
       "      <th>3</th>\n",
       "      <td>37.609095</td>\n",
       "      <td>10440.984838</td>\n",
       "      <td>26.750624</td>\n",
       "      <td>88.923190</td>\n",
       "      <td>1827.264205</td>\n",
       "      <td>4.491165e+04</td>\n",
       "      <td>8166.159143</td>\n",
       "      <td>1374.437507</td>\n",
       "      <td>732.478087</td>\n",
       "      <td>1881.366829</td>\n",
       "      <td>...</td>\n",
       "      <td>104.323716</td>\n",
       "      <td>68.874332</td>\n",
       "      <td>1103.340199</td>\n",
       "      <td>324.393379</td>\n",
       "      <td>193.587466</td>\n",
       "      <td>1167.192877</td>\n",
       "      <td>1612.488181</td>\n",
       "      <td>911.409782</td>\n",
       "      <td>438.807757</td>\n",
       "      <td>5493.967431</td>\n",
       "    </tr>\n",
       "    <tr>\n",
       "      <th>4</th>\n",
       "      <td>115.438628</td>\n",
       "      <td>7287.725513</td>\n",
       "      <td>112.578791</td>\n",
       "      <td>28.656514</td>\n",
       "      <td>5843.718655</td>\n",
       "      <td>1.573132e+05</td>\n",
       "      <td>21056.733832</td>\n",
       "      <td>3441.212011</td>\n",
       "      <td>170.831961</td>\n",
       "      <td>284.265511</td>\n",
       "      <td>...</td>\n",
       "      <td>8217.623859</td>\n",
       "      <td>1813.530773</td>\n",
       "      <td>30148.132215</td>\n",
       "      <td>1902.473403</td>\n",
       "      <td>6568.375110</td>\n",
       "      <td>4522.037574</td>\n",
       "      <td>8474.697967</td>\n",
       "      <td>12300.660757</td>\n",
       "      <td>2305.994805</td>\n",
       "      <td>15030.665476</td>\n",
       "    </tr>\n",
       "  </tbody>\n",
       "</table>\n",
       "<p>5 rows × 681 columns</p>\n",
       "</div>"
      ],
      "text/plain": [
       "        M151T1          M83T1        M101T1         M46T1         M49T1  \\\n",
       "0    16.048388    6064.292377    781.993514    802.020931   4694.204132   \n",
       "1  2966.261917  134774.774889  62570.597315  18605.033364  23763.284044   \n",
       "2  8377.442132   54888.286191   7574.412552  24452.053496   8865.881271   \n",
       "3    37.609095   10440.984838     26.750624     88.923190   1827.264205   \n",
       "4   115.438628    7287.725513    112.578791     28.656514   5843.718655   \n",
       "\n",
       "          M66T1          M62T1        M80T1       M137T1        M135T1  ...  \\\n",
       "0  7.292742e+04   29491.232768    16.024791  1710.311517    610.786947  ...   \n",
       "1  6.268676e+06  392830.377721  5189.617648  1061.179026  63189.361143  ...   \n",
       "2  8.122816e+05  470305.922774  2883.659359  4927.060920  68984.802047  ...   \n",
       "3  4.491165e+04    8166.159143  1374.437507   732.478087   1881.366829  ...   \n",
       "4  1.573132e+05   21056.733832  3441.212011   170.831961    284.265511  ...   \n",
       "\n",
       "         M177T24     M179T24_1      M160T24_1      M118T25_1      M149T25_1  \\\n",
       "0    8763.226090   1955.094864   45189.932530    1454.883633    8600.367206   \n",
       "1   83990.884777  25405.911733  336358.777640  130370.652612   93902.604529   \n",
       "2  167842.847318  45217.682193  279806.422505   76149.863150  114093.631133   \n",
       "3     104.323716     68.874332    1103.340199     324.393379     193.587466   \n",
       "4    8217.623859   1813.530773   30148.132215    1902.473403    6568.375110   \n",
       "\n",
       "       M133T25_1       M77T25_3        M107T25      M136T26_1      M135T26_1  \n",
       "0    2515.842097    5009.445544   14497.249904     945.040761    6862.351212  \n",
       "1  717966.648513  294883.093401  350356.949201  104412.535580  204595.793530  \n",
       "2  122272.569502  339934.153420  260890.313895   38464.014754  430983.528860  \n",
       "3    1167.192877    1612.488181     911.409782     438.807757    5493.967431  \n",
       "4    4522.037574    8474.697967   12300.660757    2305.994805   15030.665476  \n",
       "\n",
       "[5 rows x 681 columns]"
      ]
     },
     "execution_count": 24,
     "metadata": {},
     "output_type": "execute_result"
    }
   ],
   "source": [
    "X_no_corr_df.head()"
   ]
  },
  {
   "cell_type": "code",
   "execution_count": 25,
   "metadata": {},
   "outputs": [],
   "source": [
    "X_scaled = StandardScaler().fit_transform(X_no_corr_df.values)"
   ]
  },
  {
   "cell_type": "code",
   "execution_count": 26,
   "metadata": {},
   "outputs": [],
   "source": [
    "data_scaled_df = pd.DataFrame(X_scaled, columns = X_no_corr_df.columns)"
   ]
  },
  {
   "cell_type": "code",
   "execution_count": 27,
   "metadata": {},
   "outputs": [],
   "source": [
    "data_scaled_df.insert(0, 'ID', data.ID.values)\n",
    "data_scaled_df.insert(1, 'ID_num', data.ID_num.values)"
   ]
  },
  {
   "cell_type": "code",
   "execution_count": 28,
   "metadata": {},
   "outputs": [
    {
     "data": {
      "text/html": [
       "<div>\n",
       "<style scoped>\n",
       "    .dataframe tbody tr th:only-of-type {\n",
       "        vertical-align: middle;\n",
       "    }\n",
       "\n",
       "    .dataframe tbody tr th {\n",
       "        vertical-align: top;\n",
       "    }\n",
       "\n",
       "    .dataframe thead th {\n",
       "        text-align: right;\n",
       "    }\n",
       "</style>\n",
       "<table border=\"1\" class=\"dataframe\">\n",
       "  <thead>\n",
       "    <tr style=\"text-align: right;\">\n",
       "      <th></th>\n",
       "      <th>ID</th>\n",
       "      <th>ID_num</th>\n",
       "      <th>M151T1</th>\n",
       "      <th>M83T1</th>\n",
       "      <th>M101T1</th>\n",
       "      <th>M46T1</th>\n",
       "      <th>M49T1</th>\n",
       "      <th>M66T1</th>\n",
       "      <th>M62T1</th>\n",
       "      <th>M80T1</th>\n",
       "      <th>...</th>\n",
       "      <th>M177T24</th>\n",
       "      <th>M179T24_1</th>\n",
       "      <th>M160T24_1</th>\n",
       "      <th>M118T25_1</th>\n",
       "      <th>M149T25_1</th>\n",
       "      <th>M133T25_1</th>\n",
       "      <th>M77T25_3</th>\n",
       "      <th>M107T25</th>\n",
       "      <th>M136T26_1</th>\n",
       "      <th>M135T26_1</th>\n",
       "    </tr>\n",
       "  </thead>\n",
       "  <tbody>\n",
       "    <tr>\n",
       "      <th>0</th>\n",
       "      <td>Healthy</td>\n",
       "      <td>0</td>\n",
       "      <td>-0.268167</td>\n",
       "      <td>-0.173282</td>\n",
       "      <td>-0.468532</td>\n",
       "      <td>-0.689375</td>\n",
       "      <td>-0.545787</td>\n",
       "      <td>-0.619796</td>\n",
       "      <td>-0.409468</td>\n",
       "      <td>-0.387656</td>\n",
       "      <td>...</td>\n",
       "      <td>-0.593770</td>\n",
       "      <td>-0.637100</td>\n",
       "      <td>-0.641001</td>\n",
       "      <td>-0.777737</td>\n",
       "      <td>-0.563426</td>\n",
       "      <td>-0.509932</td>\n",
       "      <td>-0.449127</td>\n",
       "      <td>-0.562903</td>\n",
       "      <td>-0.617659</td>\n",
       "      <td>-0.597298</td>\n",
       "    </tr>\n",
       "    <tr>\n",
       "      <th>1</th>\n",
       "      <td>Healthy</td>\n",
       "      <td>0</td>\n",
       "      <td>-0.263205</td>\n",
       "      <td>-0.105216</td>\n",
       "      <td>0.307663</td>\n",
       "      <td>0.251702</td>\n",
       "      <td>-0.410207</td>\n",
       "      <td>0.588939</td>\n",
       "      <td>-0.072891</td>\n",
       "      <td>-0.365801</td>\n",
       "      <td>...</td>\n",
       "      <td>0.031987</td>\n",
       "      <td>0.383918</td>\n",
       "      <td>0.488144</td>\n",
       "      <td>1.915872</td>\n",
       "      <td>0.384146</td>\n",
       "      <td>4.395997</td>\n",
       "      <td>0.059717</td>\n",
       "      <td>1.989039</td>\n",
       "      <td>1.890985</td>\n",
       "      <td>0.252684</td>\n",
       "    </tr>\n",
       "    <tr>\n",
       "      <th>2</th>\n",
       "      <td>Healthy</td>\n",
       "      <td>0</td>\n",
       "      <td>-0.254105</td>\n",
       "      <td>-0.147462</td>\n",
       "      <td>-0.383205</td>\n",
       "      <td>0.560778</td>\n",
       "      <td>-0.516126</td>\n",
       "      <td>-0.475555</td>\n",
       "      <td>-0.001122</td>\n",
       "      <td>-0.375542</td>\n",
       "      <td>...</td>\n",
       "      <td>0.729482</td>\n",
       "      <td>1.246497</td>\n",
       "      <td>0.268835</td>\n",
       "      <td>0.782965</td>\n",
       "      <td>0.608436</td>\n",
       "      <td>0.311254</td>\n",
       "      <td>0.138799</td>\n",
       "      <td>1.309250</td>\n",
       "      <td>0.292015</td>\n",
       "      <td>1.225839</td>\n",
       "    </tr>\n",
       "    <tr>\n",
       "      <th>3</th>\n",
       "      <td>Healthy</td>\n",
       "      <td>0</td>\n",
       "      <td>-0.268131</td>\n",
       "      <td>-0.170967</td>\n",
       "      <td>-0.478020</td>\n",
       "      <td>-0.727070</td>\n",
       "      <td>-0.566170</td>\n",
       "      <td>-0.625262</td>\n",
       "      <td>-0.429223</td>\n",
       "      <td>-0.381917</td>\n",
       "      <td>...</td>\n",
       "      <td>-0.665796</td>\n",
       "      <td>-0.719223</td>\n",
       "      <td>-0.811968</td>\n",
       "      <td>-0.801357</td>\n",
       "      <td>-0.656812</td>\n",
       "      <td>-0.519180</td>\n",
       "      <td>-0.455090</td>\n",
       "      <td>-0.666131</td>\n",
       "      <td>-0.629933</td>\n",
       "      <td>-0.603180</td>\n",
       "    </tr>\n",
       "    <tr>\n",
       "      <th>4</th>\n",
       "      <td>Healthy</td>\n",
       "      <td>0</td>\n",
       "      <td>-0.268000</td>\n",
       "      <td>-0.172635</td>\n",
       "      <td>-0.476942</td>\n",
       "      <td>-0.730256</td>\n",
       "      <td>-0.537614</td>\n",
       "      <td>-0.603333</td>\n",
       "      <td>-0.417282</td>\n",
       "      <td>-0.373187</td>\n",
       "      <td>...</td>\n",
       "      <td>-0.598309</td>\n",
       "      <td>-0.643263</td>\n",
       "      <td>-0.699333</td>\n",
       "      <td>-0.768384</td>\n",
       "      <td>-0.585998</td>\n",
       "      <td>-0.496175</td>\n",
       "      <td>-0.443044</td>\n",
       "      <td>-0.579593</td>\n",
       "      <td>-0.584662</td>\n",
       "      <td>-0.562185</td>\n",
       "    </tr>\n",
       "  </tbody>\n",
       "</table>\n",
       "<p>5 rows × 683 columns</p>\n",
       "</div>"
      ],
      "text/plain": [
       "        ID  ID_num    M151T1     M83T1    M101T1     M46T1     M49T1  \\\n",
       "0  Healthy       0 -0.268167 -0.173282 -0.468532 -0.689375 -0.545787   \n",
       "1  Healthy       0 -0.263205 -0.105216  0.307663  0.251702 -0.410207   \n",
       "2  Healthy       0 -0.254105 -0.147462 -0.383205  0.560778 -0.516126   \n",
       "3  Healthy       0 -0.268131 -0.170967 -0.478020 -0.727070 -0.566170   \n",
       "4  Healthy       0 -0.268000 -0.172635 -0.476942 -0.730256 -0.537614   \n",
       "\n",
       "      M66T1     M62T1     M80T1  ...   M177T24  M179T24_1  M160T24_1  \\\n",
       "0 -0.619796 -0.409468 -0.387656  ... -0.593770  -0.637100  -0.641001   \n",
       "1  0.588939 -0.072891 -0.365801  ...  0.031987   0.383918   0.488144   \n",
       "2 -0.475555 -0.001122 -0.375542  ...  0.729482   1.246497   0.268835   \n",
       "3 -0.625262 -0.429223 -0.381917  ... -0.665796  -0.719223  -0.811968   \n",
       "4 -0.603333 -0.417282 -0.373187  ... -0.598309  -0.643263  -0.699333   \n",
       "\n",
       "   M118T25_1  M149T25_1  M133T25_1  M77T25_3   M107T25  M136T26_1  M135T26_1  \n",
       "0  -0.777737  -0.563426  -0.509932 -0.449127 -0.562903  -0.617659  -0.597298  \n",
       "1   1.915872   0.384146   4.395997  0.059717  1.989039   1.890985   0.252684  \n",
       "2   0.782965   0.608436   0.311254  0.138799  1.309250   0.292015   1.225839  \n",
       "3  -0.801357  -0.656812  -0.519180 -0.455090 -0.666131  -0.629933  -0.603180  \n",
       "4  -0.768384  -0.585998  -0.496175 -0.443044 -0.579593  -0.584662  -0.562185  \n",
       "\n",
       "[5 rows x 683 columns]"
      ]
     },
     "execution_count": 28,
     "metadata": {},
     "output_type": "execute_result"
    }
   ],
   "source": [
    "data_scaled_df.head()"
   ]
  },
  {
   "cell_type": "code",
   "execution_count": 29,
   "metadata": {},
   "outputs": [],
   "source": [
    "data_healthy_df = data_scaled_df.loc[data_scaled_df.ID == 'Healthy']\n",
    "data_asthma_df = data_scaled_df.loc[data_scaled_df.ID == 'Asthmatic']"
   ]
  },
  {
   "cell_type": "code",
   "execution_count": 30,
   "metadata": {},
   "outputs": [],
   "source": [
    "data_healthy = data_healthy_df.values[:,2:]\n",
    "data_asthma = data_asthma_df.values[:, 2:]"
   ]
  },
  {
   "cell_type": "code",
   "execution_count": 31,
   "metadata": {},
   "outputs": [],
   "source": [
    "healthy_mean, healthy_cov = do_factor_analysis(data_healthy)"
   ]
  },
  {
   "cell_type": "code",
   "execution_count": 32,
   "metadata": {},
   "outputs": [],
   "source": [
    "asthma_mean, asthma_cov = do_factor_analysis(data_asthma)"
   ]
  },
  {
   "cell_type": "code",
   "execution_count": 34,
   "metadata": {},
   "outputs": [
    {
     "name": "stderr",
     "output_type": "stream",
     "text": [
      "/Users/boses1/anaconda3/lib/python3.6/site-packages/ipykernel_launcher.py:5: RuntimeWarning: invalid value encountered in double_scalars\n",
      "  \"\"\"\n"
     ]
    }
   ],
   "source": [
    "dist, t1, t2 = bhatt_dist(healthy_mean, healthy_cov, asthma_mean, asthma_cov)"
   ]
  },
  {
   "cell_type": "code",
   "execution_count": 35,
   "metadata": {},
   "outputs": [
    {
     "data": {
      "text/plain": [
       "nan"
      ]
     },
     "execution_count": 35,
     "metadata": {},
     "output_type": "execute_result"
    }
   ],
   "source": [
    "dist"
   ]
  },
  {
   "cell_type": "markdown",
   "metadata": {},
   "source": [
    "# Relief Methods"
   ]
  },
  {
   "cell_type": "code",
   "execution_count": 36,
   "metadata": {},
   "outputs": [
    {
     "data": {
      "text/html": [
       "<div>\n",
       "<style scoped>\n",
       "    .dataframe tbody tr th:only-of-type {\n",
       "        vertical-align: middle;\n",
       "    }\n",
       "\n",
       "    .dataframe tbody tr th {\n",
       "        vertical-align: top;\n",
       "    }\n",
       "\n",
       "    .dataframe thead th {\n",
       "        text-align: right;\n",
       "    }\n",
       "</style>\n",
       "<table border=\"1\" class=\"dataframe\">\n",
       "  <thead>\n",
       "    <tr style=\"text-align: right;\">\n",
       "      <th></th>\n",
       "      <th>ID</th>\n",
       "      <th>ID_num</th>\n",
       "      <th>M151T1</th>\n",
       "      <th>M83T1</th>\n",
       "      <th>M101T1</th>\n",
       "      <th>M46T1</th>\n",
       "      <th>M49T1</th>\n",
       "      <th>M66T1</th>\n",
       "      <th>M62T1</th>\n",
       "      <th>M80T1</th>\n",
       "      <th>...</th>\n",
       "      <th>M177T24</th>\n",
       "      <th>M179T24_1</th>\n",
       "      <th>M160T24_1</th>\n",
       "      <th>M118T25_1</th>\n",
       "      <th>M149T25_1</th>\n",
       "      <th>M133T25_1</th>\n",
       "      <th>M77T25_3</th>\n",
       "      <th>M107T25</th>\n",
       "      <th>M136T26_1</th>\n",
       "      <th>M135T26_1</th>\n",
       "    </tr>\n",
       "  </thead>\n",
       "  <tbody>\n",
       "    <tr>\n",
       "      <th>0</th>\n",
       "      <td>Healthy</td>\n",
       "      <td>0</td>\n",
       "      <td>-0.268167</td>\n",
       "      <td>-0.173282</td>\n",
       "      <td>-0.468532</td>\n",
       "      <td>-0.689375</td>\n",
       "      <td>-0.545787</td>\n",
       "      <td>-0.619796</td>\n",
       "      <td>-0.409468</td>\n",
       "      <td>-0.387656</td>\n",
       "      <td>...</td>\n",
       "      <td>-0.593770</td>\n",
       "      <td>-0.637100</td>\n",
       "      <td>-0.641001</td>\n",
       "      <td>-0.777737</td>\n",
       "      <td>-0.563426</td>\n",
       "      <td>-0.509932</td>\n",
       "      <td>-0.449127</td>\n",
       "      <td>-0.562903</td>\n",
       "      <td>-0.617659</td>\n",
       "      <td>-0.597298</td>\n",
       "    </tr>\n",
       "    <tr>\n",
       "      <th>1</th>\n",
       "      <td>Healthy</td>\n",
       "      <td>0</td>\n",
       "      <td>-0.263205</td>\n",
       "      <td>-0.105216</td>\n",
       "      <td>0.307663</td>\n",
       "      <td>0.251702</td>\n",
       "      <td>-0.410207</td>\n",
       "      <td>0.588939</td>\n",
       "      <td>-0.072891</td>\n",
       "      <td>-0.365801</td>\n",
       "      <td>...</td>\n",
       "      <td>0.031987</td>\n",
       "      <td>0.383918</td>\n",
       "      <td>0.488144</td>\n",
       "      <td>1.915872</td>\n",
       "      <td>0.384146</td>\n",
       "      <td>4.395997</td>\n",
       "      <td>0.059717</td>\n",
       "      <td>1.989039</td>\n",
       "      <td>1.890985</td>\n",
       "      <td>0.252684</td>\n",
       "    </tr>\n",
       "    <tr>\n",
       "      <th>2</th>\n",
       "      <td>Healthy</td>\n",
       "      <td>0</td>\n",
       "      <td>-0.254105</td>\n",
       "      <td>-0.147462</td>\n",
       "      <td>-0.383205</td>\n",
       "      <td>0.560778</td>\n",
       "      <td>-0.516126</td>\n",
       "      <td>-0.475555</td>\n",
       "      <td>-0.001122</td>\n",
       "      <td>-0.375542</td>\n",
       "      <td>...</td>\n",
       "      <td>0.729482</td>\n",
       "      <td>1.246497</td>\n",
       "      <td>0.268835</td>\n",
       "      <td>0.782965</td>\n",
       "      <td>0.608436</td>\n",
       "      <td>0.311254</td>\n",
       "      <td>0.138799</td>\n",
       "      <td>1.309250</td>\n",
       "      <td>0.292015</td>\n",
       "      <td>1.225839</td>\n",
       "    </tr>\n",
       "    <tr>\n",
       "      <th>3</th>\n",
       "      <td>Healthy</td>\n",
       "      <td>0</td>\n",
       "      <td>-0.268131</td>\n",
       "      <td>-0.170967</td>\n",
       "      <td>-0.478020</td>\n",
       "      <td>-0.727070</td>\n",
       "      <td>-0.566170</td>\n",
       "      <td>-0.625262</td>\n",
       "      <td>-0.429223</td>\n",
       "      <td>-0.381917</td>\n",
       "      <td>...</td>\n",
       "      <td>-0.665796</td>\n",
       "      <td>-0.719223</td>\n",
       "      <td>-0.811968</td>\n",
       "      <td>-0.801357</td>\n",
       "      <td>-0.656812</td>\n",
       "      <td>-0.519180</td>\n",
       "      <td>-0.455090</td>\n",
       "      <td>-0.666131</td>\n",
       "      <td>-0.629933</td>\n",
       "      <td>-0.603180</td>\n",
       "    </tr>\n",
       "    <tr>\n",
       "      <th>4</th>\n",
       "      <td>Healthy</td>\n",
       "      <td>0</td>\n",
       "      <td>-0.268000</td>\n",
       "      <td>-0.172635</td>\n",
       "      <td>-0.476942</td>\n",
       "      <td>-0.730256</td>\n",
       "      <td>-0.537614</td>\n",
       "      <td>-0.603333</td>\n",
       "      <td>-0.417282</td>\n",
       "      <td>-0.373187</td>\n",
       "      <td>...</td>\n",
       "      <td>-0.598309</td>\n",
       "      <td>-0.643263</td>\n",
       "      <td>-0.699333</td>\n",
       "      <td>-0.768384</td>\n",
       "      <td>-0.585998</td>\n",
       "      <td>-0.496175</td>\n",
       "      <td>-0.443044</td>\n",
       "      <td>-0.579593</td>\n",
       "      <td>-0.584662</td>\n",
       "      <td>-0.562185</td>\n",
       "    </tr>\n",
       "  </tbody>\n",
       "</table>\n",
       "<p>5 rows × 683 columns</p>\n",
       "</div>"
      ],
      "text/plain": [
       "        ID  ID_num    M151T1     M83T1    M101T1     M46T1     M49T1  \\\n",
       "0  Healthy       0 -0.268167 -0.173282 -0.468532 -0.689375 -0.545787   \n",
       "1  Healthy       0 -0.263205 -0.105216  0.307663  0.251702 -0.410207   \n",
       "2  Healthy       0 -0.254105 -0.147462 -0.383205  0.560778 -0.516126   \n",
       "3  Healthy       0 -0.268131 -0.170967 -0.478020 -0.727070 -0.566170   \n",
       "4  Healthy       0 -0.268000 -0.172635 -0.476942 -0.730256 -0.537614   \n",
       "\n",
       "      M66T1     M62T1     M80T1  ...   M177T24  M179T24_1  M160T24_1  \\\n",
       "0 -0.619796 -0.409468 -0.387656  ... -0.593770  -0.637100  -0.641001   \n",
       "1  0.588939 -0.072891 -0.365801  ...  0.031987   0.383918   0.488144   \n",
       "2 -0.475555 -0.001122 -0.375542  ...  0.729482   1.246497   0.268835   \n",
       "3 -0.625262 -0.429223 -0.381917  ... -0.665796  -0.719223  -0.811968   \n",
       "4 -0.603333 -0.417282 -0.373187  ... -0.598309  -0.643263  -0.699333   \n",
       "\n",
       "   M118T25_1  M149T25_1  M133T25_1  M77T25_3   M107T25  M136T26_1  M135T26_1  \n",
       "0  -0.777737  -0.563426  -0.509932 -0.449127 -0.562903  -0.617659  -0.597298  \n",
       "1   1.915872   0.384146   4.395997  0.059717  1.989039   1.890985   0.252684  \n",
       "2   0.782965   0.608436   0.311254  0.138799  1.309250   0.292015   1.225839  \n",
       "3  -0.801357  -0.656812  -0.519180 -0.455090 -0.666131  -0.629933  -0.603180  \n",
       "4  -0.768384  -0.585998  -0.496175 -0.443044 -0.579593  -0.584662  -0.562185  \n",
       "\n",
       "[5 rows x 683 columns]"
      ]
     },
     "execution_count": 36,
     "metadata": {},
     "output_type": "execute_result"
    }
   ],
   "source": [
    "data_scaled_df.head()"
   ]
  },
  {
   "cell_type": "markdown",
   "metadata": {},
   "source": [
    "## Relief-F"
   ]
  },
  {
   "cell_type": "code",
   "execution_count": 76,
   "metadata": {},
   "outputs": [],
   "source": [
    "fs = ReliefF(discrete_threshold = 5, n_jobs=1)\n",
    "fs.fit(data_scaled_df.values[:,2:].astype(float), data_scaled_df.ID_num.values)\n",
    "\n",
    "feature_scores = fs.feature_importances_\n",
    "feature_ids = np.where(feature_scores>=0)[0]\n",
    "selected_features = np.array(X_no_corr_df.columns[feature_ids]) "
   ]
  },
  {
   "cell_type": "code",
   "execution_count": 77,
   "metadata": {},
   "outputs": [],
   "source": [
    "X_reliefF = data_scaled_df.values[:,2:][:,feature_ids]"
   ]
  },
  {
   "cell_type": "code",
   "execution_count": 78,
   "metadata": {},
   "outputs": [
    {
     "data": {
      "text/plain": [
       "(43, 179)"
      ]
     },
     "execution_count": 78,
     "metadata": {},
     "output_type": "execute_result"
    }
   ],
   "source": [
    "X_reliefF.shape"
   ]
  },
  {
   "cell_type": "code",
   "execution_count": 79,
   "metadata": {},
   "outputs": [],
   "source": [
    "X_reliefF_df = pd.DataFrame(X_reliefF, columns = selected_features)\n",
    "X_reliefF_df.insert(0, 'ID', data.ID.values)"
   ]
  },
  {
   "cell_type": "code",
   "execution_count": 80,
   "metadata": {},
   "outputs": [
    {
     "data": {
      "text/html": [
       "<div>\n",
       "<style scoped>\n",
       "    .dataframe tbody tr th:only-of-type {\n",
       "        vertical-align: middle;\n",
       "    }\n",
       "\n",
       "    .dataframe tbody tr th {\n",
       "        vertical-align: top;\n",
       "    }\n",
       "\n",
       "    .dataframe thead th {\n",
       "        text-align: right;\n",
       "    }\n",
       "</style>\n",
       "<table border=\"1\" class=\"dataframe\">\n",
       "  <thead>\n",
       "    <tr style=\"text-align: right;\">\n",
       "      <th></th>\n",
       "      <th>ID</th>\n",
       "      <th>M151T1</th>\n",
       "      <th>M83T1</th>\n",
       "      <th>M101T1</th>\n",
       "      <th>M46T1</th>\n",
       "      <th>M51T1</th>\n",
       "      <th>M50T1</th>\n",
       "      <th>M69T1</th>\n",
       "      <th>M41T2_1</th>\n",
       "      <th>M56T2_1</th>\n",
       "      <th>...</th>\n",
       "      <th>M86T17_2</th>\n",
       "      <th>M99T17_2</th>\n",
       "      <th>M179T17_1</th>\n",
       "      <th>M154T17_4</th>\n",
       "      <th>M141T19_1</th>\n",
       "      <th>M166T19</th>\n",
       "      <th>M103T19</th>\n",
       "      <th>M123T23_2</th>\n",
       "      <th>M160T24_1</th>\n",
       "      <th>M118T25_1</th>\n",
       "    </tr>\n",
       "  </thead>\n",
       "  <tbody>\n",
       "    <tr>\n",
       "      <th>0</th>\n",
       "      <td>Healthy</td>\n",
       "      <td>-0.268167</td>\n",
       "      <td>-0.173282</td>\n",
       "      <td>-0.468532</td>\n",
       "      <td>-0.689375</td>\n",
       "      <td>-0.397119</td>\n",
       "      <td>-0.504227</td>\n",
       "      <td>-0.259295</td>\n",
       "      <td>-0.515416</td>\n",
       "      <td>-0.806464</td>\n",
       "      <td>...</td>\n",
       "      <td>-0.448508</td>\n",
       "      <td>-0.545108</td>\n",
       "      <td>-0.684569</td>\n",
       "      <td>-0.617682</td>\n",
       "      <td>-0.653828</td>\n",
       "      <td>-0.724431</td>\n",
       "      <td>-0.63664</td>\n",
       "      <td>-0.769704</td>\n",
       "      <td>-0.641001</td>\n",
       "      <td>-0.777737</td>\n",
       "    </tr>\n",
       "    <tr>\n",
       "      <th>1</th>\n",
       "      <td>Healthy</td>\n",
       "      <td>-0.263205</td>\n",
       "      <td>-0.105216</td>\n",
       "      <td>0.307663</td>\n",
       "      <td>0.251702</td>\n",
       "      <td>-0.0326679</td>\n",
       "      <td>0.403328</td>\n",
       "      <td>0.19694</td>\n",
       "      <td>2.10068</td>\n",
       "      <td>0.829804</td>\n",
       "      <td>...</td>\n",
       "      <td>2.20794</td>\n",
       "      <td>2.59511</td>\n",
       "      <td>4.54669</td>\n",
       "      <td>5.08838</td>\n",
       "      <td>0.706481</td>\n",
       "      <td>-0.00984325</td>\n",
       "      <td>-0.535609</td>\n",
       "      <td>-0.0779283</td>\n",
       "      <td>0.488144</td>\n",
       "      <td>1.91587</td>\n",
       "    </tr>\n",
       "    <tr>\n",
       "      <th>2</th>\n",
       "      <td>Healthy</td>\n",
       "      <td>-0.254105</td>\n",
       "      <td>-0.147462</td>\n",
       "      <td>-0.383205</td>\n",
       "      <td>0.560778</td>\n",
       "      <td>0.117618</td>\n",
       "      <td>-0.138625</td>\n",
       "      <td>0.167859</td>\n",
       "      <td>1.00659</td>\n",
       "      <td>0.757935</td>\n",
       "      <td>...</td>\n",
       "      <td>-0.507757</td>\n",
       "      <td>0.502449</td>\n",
       "      <td>1.47263</td>\n",
       "      <td>-0.557608</td>\n",
       "      <td>0.173148</td>\n",
       "      <td>0.175616</td>\n",
       "      <td>-0.275008</td>\n",
       "      <td>-0.0775667</td>\n",
       "      <td>0.268835</td>\n",
       "      <td>0.782965</td>\n",
       "    </tr>\n",
       "    <tr>\n",
       "      <th>3</th>\n",
       "      <td>Healthy</td>\n",
       "      <td>-0.268131</td>\n",
       "      <td>-0.170967</td>\n",
       "      <td>-0.47802</td>\n",
       "      <td>-0.72707</td>\n",
       "      <td>-0.393612</td>\n",
       "      <td>-0.555889</td>\n",
       "      <td>-0.266302</td>\n",
       "      <td>-0.52864</td>\n",
       "      <td>-0.842443</td>\n",
       "      <td>...</td>\n",
       "      <td>-0.682612</td>\n",
       "      <td>-0.695689</td>\n",
       "      <td>-0.596558</td>\n",
       "      <td>-0.620823</td>\n",
       "      <td>-0.6057</td>\n",
       "      <td>-0.854671</td>\n",
       "      <td>-0.661433</td>\n",
       "      <td>-0.830507</td>\n",
       "      <td>-0.811968</td>\n",
       "      <td>-0.801357</td>\n",
       "    </tr>\n",
       "    <tr>\n",
       "      <th>4</th>\n",
       "      <td>Healthy</td>\n",
       "      <td>-0.268</td>\n",
       "      <td>-0.172635</td>\n",
       "      <td>-0.476942</td>\n",
       "      <td>-0.730256</td>\n",
       "      <td>-0.384417</td>\n",
       "      <td>-0.485635</td>\n",
       "      <td>-0.266156</td>\n",
       "      <td>-0.461565</td>\n",
       "      <td>-0.811969</td>\n",
       "      <td>...</td>\n",
       "      <td>-0.674445</td>\n",
       "      <td>-0.725629</td>\n",
       "      <td>-0.49071</td>\n",
       "      <td>-0.620428</td>\n",
       "      <td>-0.595307</td>\n",
       "      <td>-0.802005</td>\n",
       "      <td>-0.656975</td>\n",
       "      <td>-0.806074</td>\n",
       "      <td>-0.699333</td>\n",
       "      <td>-0.768384</td>\n",
       "    </tr>\n",
       "  </tbody>\n",
       "</table>\n",
       "<p>5 rows × 180 columns</p>\n",
       "</div>"
      ],
      "text/plain": [
       "        ID    M151T1     M83T1    M101T1     M46T1      M51T1     M50T1  \\\n",
       "0  Healthy -0.268167 -0.173282 -0.468532 -0.689375  -0.397119 -0.504227   \n",
       "1  Healthy -0.263205 -0.105216  0.307663  0.251702 -0.0326679  0.403328   \n",
       "2  Healthy -0.254105 -0.147462 -0.383205  0.560778   0.117618 -0.138625   \n",
       "3  Healthy -0.268131 -0.170967  -0.47802  -0.72707  -0.393612 -0.555889   \n",
       "4  Healthy    -0.268 -0.172635 -0.476942 -0.730256  -0.384417 -0.485635   \n",
       "\n",
       "      M69T1   M41T2_1   M56T2_1  ...  M86T17_2  M99T17_2 M179T17_1 M154T17_4  \\\n",
       "0 -0.259295 -0.515416 -0.806464  ... -0.448508 -0.545108 -0.684569 -0.617682   \n",
       "1   0.19694   2.10068  0.829804  ...   2.20794   2.59511   4.54669   5.08838   \n",
       "2  0.167859   1.00659  0.757935  ... -0.507757  0.502449   1.47263 -0.557608   \n",
       "3 -0.266302  -0.52864 -0.842443  ... -0.682612 -0.695689 -0.596558 -0.620823   \n",
       "4 -0.266156 -0.461565 -0.811969  ... -0.674445 -0.725629  -0.49071 -0.620428   \n",
       "\n",
       "  M141T19_1     M166T19   M103T19  M123T23_2 M160T24_1 M118T25_1  \n",
       "0 -0.653828   -0.724431  -0.63664  -0.769704 -0.641001 -0.777737  \n",
       "1  0.706481 -0.00984325 -0.535609 -0.0779283  0.488144   1.91587  \n",
       "2  0.173148    0.175616 -0.275008 -0.0775667  0.268835  0.782965  \n",
       "3   -0.6057   -0.854671 -0.661433  -0.830507 -0.811968 -0.801357  \n",
       "4 -0.595307   -0.802005 -0.656975  -0.806074 -0.699333 -0.768384  \n",
       "\n",
       "[5 rows x 180 columns]"
      ]
     },
     "execution_count": 80,
     "metadata": {},
     "output_type": "execute_result"
    }
   ],
   "source": [
    "X_reliefF_df.head()"
   ]
  },
  {
   "cell_type": "code",
   "execution_count": 81,
   "metadata": {},
   "outputs": [],
   "source": [
    "data_healthy_df = X_reliefF_df.loc[X_reliefF_df.ID == 'Healthy']\n",
    "data_asthma_df = X_reliefF_df.loc[X_reliefF_df.ID == 'Asthmatic']"
   ]
  },
  {
   "cell_type": "code",
   "execution_count": 82,
   "metadata": {},
   "outputs": [],
   "source": [
    "data_healthy = data_healthy_df.values[:,1:]\n",
    "data_asthma = data_asthma_df.values[:, 1:]"
   ]
  },
  {
   "cell_type": "code",
   "execution_count": 83,
   "metadata": {},
   "outputs": [],
   "source": [
    "healthy_mean, healthy_cov = do_factor_analysis(data_healthy)"
   ]
  },
  {
   "cell_type": "code",
   "execution_count": 84,
   "metadata": {},
   "outputs": [],
   "source": [
    "asthma_mean, asthma_cov = do_factor_analysis(data_asthma)"
   ]
  },
  {
   "cell_type": "code",
   "execution_count": 85,
   "metadata": {},
   "outputs": [
    {
     "name": "stderr",
     "output_type": "stream",
     "text": [
      "/Users/boses1/anaconda3/lib/python3.6/site-packages/ipykernel_launcher.py:5: RuntimeWarning: invalid value encountered in double_scalars\n",
      "  \"\"\"\n"
     ]
    }
   ],
   "source": [
    "dist, t1, t2 = bhatt_dist(healthy_mean, healthy_cov, asthma_mean, asthma_cov)"
   ]
  },
  {
   "cell_type": "code",
   "execution_count": 86,
   "metadata": {},
   "outputs": [
    {
     "data": {
      "text/plain": [
       "0.0"
      ]
     },
     "execution_count": 86,
     "metadata": {},
     "output_type": "execute_result"
    }
   ],
   "source": [
    "np.linalg.det(healthy_cov)"
   ]
  },
  {
   "cell_type": "code",
   "execution_count": null,
   "metadata": {},
   "outputs": [],
   "source": []
  },
  {
   "cell_type": "code",
   "execution_count": null,
   "metadata": {},
   "outputs": [],
   "source": []
  },
  {
   "cell_type": "markdown",
   "metadata": {},
   "source": [
    "## MultiSURF"
   ]
  },
  {
   "cell_type": "code",
   "execution_count": 87,
   "metadata": {},
   "outputs": [],
   "source": [
    "fs = MultiSURF(discrete_threshold = 5, n_jobs=1)\n",
    "fs.fit(data_scaled_df.values[:,2:].astype(float), data_scaled_df.ID_num.values)\n",
    "\n",
    "feature_scores = fs.feature_importances_\n",
    "feature_ids = np.where(feature_scores>=0)[0]\n",
    "selected_features = np.array(X_no_corr_df.columns[feature_ids]) "
   ]
  },
  {
   "cell_type": "code",
   "execution_count": 88,
   "metadata": {},
   "outputs": [],
   "source": [
    "X_MultiSURF = data_scaled_df.values[:,2:][:,feature_ids]"
   ]
  },
  {
   "cell_type": "code",
   "execution_count": 89,
   "metadata": {},
   "outputs": [
    {
     "data": {
      "text/plain": [
       "(43, 439)"
      ]
     },
     "execution_count": 89,
     "metadata": {},
     "output_type": "execute_result"
    }
   ],
   "source": [
    "X_MultiSURF.shape"
   ]
  },
  {
   "cell_type": "code",
   "execution_count": null,
   "metadata": {},
   "outputs": [],
   "source": []
  },
  {
   "cell_type": "code",
   "execution_count": 90,
   "metadata": {},
   "outputs": [],
   "source": [
    "X_MultiSURF_df = pd.DataFrame(X_MultiSURF, columns = selected_features)\n",
    "X_MultiSURF_df.insert(0, 'ID', data.ID.values)"
   ]
  },
  {
   "cell_type": "code",
   "execution_count": 91,
   "metadata": {},
   "outputs": [
    {
     "data": {
      "text/html": [
       "<div>\n",
       "<style scoped>\n",
       "    .dataframe tbody tr th:only-of-type {\n",
       "        vertical-align: middle;\n",
       "    }\n",
       "\n",
       "    .dataframe tbody tr th {\n",
       "        vertical-align: top;\n",
       "    }\n",
       "\n",
       "    .dataframe thead th {\n",
       "        text-align: right;\n",
       "    }\n",
       "</style>\n",
       "<table border=\"1\" class=\"dataframe\">\n",
       "  <thead>\n",
       "    <tr style=\"text-align: right;\">\n",
       "      <th></th>\n",
       "      <th>ID</th>\n",
       "      <th>M151T1</th>\n",
       "      <th>M83T1</th>\n",
       "      <th>M101T1</th>\n",
       "      <th>M46T1</th>\n",
       "      <th>M49T1</th>\n",
       "      <th>M66T1</th>\n",
       "      <th>M137T1</th>\n",
       "      <th>M135T1</th>\n",
       "      <th>M113T1</th>\n",
       "      <th>...</th>\n",
       "      <th>M120T23_2</th>\n",
       "      <th>M173T24</th>\n",
       "      <th>M123T24</th>\n",
       "      <th>M179T24_1</th>\n",
       "      <th>M149T25_1</th>\n",
       "      <th>M133T25_1</th>\n",
       "      <th>M77T25_3</th>\n",
       "      <th>M107T25</th>\n",
       "      <th>M136T26_1</th>\n",
       "      <th>M135T26_1</th>\n",
       "    </tr>\n",
       "  </thead>\n",
       "  <tbody>\n",
       "    <tr>\n",
       "      <th>0</th>\n",
       "      <td>Healthy</td>\n",
       "      <td>-0.268167</td>\n",
       "      <td>-0.173282</td>\n",
       "      <td>-0.468532</td>\n",
       "      <td>-0.689375</td>\n",
       "      <td>-0.545787</td>\n",
       "      <td>-0.619796</td>\n",
       "      <td>-0.516503</td>\n",
       "      <td>-0.781463</td>\n",
       "      <td>-0.49384</td>\n",
       "      <td>...</td>\n",
       "      <td>-0.3054</td>\n",
       "      <td>-0.700914</td>\n",
       "      <td>-0.672729</td>\n",
       "      <td>-0.6371</td>\n",
       "      <td>-0.563426</td>\n",
       "      <td>-0.509932</td>\n",
       "      <td>-0.449127</td>\n",
       "      <td>-0.562903</td>\n",
       "      <td>-0.617659</td>\n",
       "      <td>-0.597298</td>\n",
       "    </tr>\n",
       "    <tr>\n",
       "      <th>1</th>\n",
       "      <td>Healthy</td>\n",
       "      <td>-0.263205</td>\n",
       "      <td>-0.105216</td>\n",
       "      <td>0.307663</td>\n",
       "      <td>0.251702</td>\n",
       "      <td>-0.410207</td>\n",
       "      <td>0.588939</td>\n",
       "      <td>-0.567528</td>\n",
       "      <td>1.35577</td>\n",
       "      <td>1.59713</td>\n",
       "      <td>...</td>\n",
       "      <td>1.30333</td>\n",
       "      <td>0.416515</td>\n",
       "      <td>2.34364</td>\n",
       "      <td>0.383918</td>\n",
       "      <td>0.384146</td>\n",
       "      <td>4.396</td>\n",
       "      <td>0.0597169</td>\n",
       "      <td>1.98904</td>\n",
       "      <td>1.89098</td>\n",
       "      <td>0.252684</td>\n",
       "    </tr>\n",
       "    <tr>\n",
       "      <th>2</th>\n",
       "      <td>Healthy</td>\n",
       "      <td>-0.254105</td>\n",
       "      <td>-0.147462</td>\n",
       "      <td>-0.383205</td>\n",
       "      <td>0.560778</td>\n",
       "      <td>-0.516126</td>\n",
       "      <td>-0.475555</td>\n",
       "      <td>-0.26365</td>\n",
       "      <td>1.5537</td>\n",
       "      <td>2.8474</td>\n",
       "      <td>...</td>\n",
       "      <td>0.263764</td>\n",
       "      <td>0.441958</td>\n",
       "      <td>0.858506</td>\n",
       "      <td>1.2465</td>\n",
       "      <td>0.608436</td>\n",
       "      <td>0.311254</td>\n",
       "      <td>0.138799</td>\n",
       "      <td>1.30925</td>\n",
       "      <td>0.292015</td>\n",
       "      <td>1.22584</td>\n",
       "    </tr>\n",
       "    <tr>\n",
       "      <th>3</th>\n",
       "      <td>Healthy</td>\n",
       "      <td>-0.268131</td>\n",
       "      <td>-0.170967</td>\n",
       "      <td>-0.47802</td>\n",
       "      <td>-0.72707</td>\n",
       "      <td>-0.56617</td>\n",
       "      <td>-0.625262</td>\n",
       "      <td>-0.593365</td>\n",
       "      <td>-0.738069</td>\n",
       "      <td>-0.545022</td>\n",
       "      <td>...</td>\n",
       "      <td>-0.42372</td>\n",
       "      <td>-0.733728</td>\n",
       "      <td>-0.786336</td>\n",
       "      <td>-0.719223</td>\n",
       "      <td>-0.656812</td>\n",
       "      <td>-0.51918</td>\n",
       "      <td>-0.45509</td>\n",
       "      <td>-0.666131</td>\n",
       "      <td>-0.629933</td>\n",
       "      <td>-0.60318</td>\n",
       "    </tr>\n",
       "    <tr>\n",
       "      <th>4</th>\n",
       "      <td>Healthy</td>\n",
       "      <td>-0.268</td>\n",
       "      <td>-0.172635</td>\n",
       "      <td>-0.476942</td>\n",
       "      <td>-0.730256</td>\n",
       "      <td>-0.537614</td>\n",
       "      <td>-0.603333</td>\n",
       "      <td>-0.637514</td>\n",
       "      <td>-0.792615</td>\n",
       "      <td>-0.445029</td>\n",
       "      <td>...</td>\n",
       "      <td>-0.341951</td>\n",
       "      <td>-0.706817</td>\n",
       "      <td>-0.698413</td>\n",
       "      <td>-0.643263</td>\n",
       "      <td>-0.585998</td>\n",
       "      <td>-0.496175</td>\n",
       "      <td>-0.443044</td>\n",
       "      <td>-0.579593</td>\n",
       "      <td>-0.584662</td>\n",
       "      <td>-0.562185</td>\n",
       "    </tr>\n",
       "  </tbody>\n",
       "</table>\n",
       "<p>5 rows × 440 columns</p>\n",
       "</div>"
      ],
      "text/plain": [
       "        ID    M151T1     M83T1    M101T1     M46T1     M49T1     M66T1  \\\n",
       "0  Healthy -0.268167 -0.173282 -0.468532 -0.689375 -0.545787 -0.619796   \n",
       "1  Healthy -0.263205 -0.105216  0.307663  0.251702 -0.410207  0.588939   \n",
       "2  Healthy -0.254105 -0.147462 -0.383205  0.560778 -0.516126 -0.475555   \n",
       "3  Healthy -0.268131 -0.170967  -0.47802  -0.72707  -0.56617 -0.625262   \n",
       "4  Healthy    -0.268 -0.172635 -0.476942 -0.730256 -0.537614 -0.603333   \n",
       "\n",
       "     M137T1    M135T1    M113T1  ... M120T23_2   M173T24   M123T24 M179T24_1  \\\n",
       "0 -0.516503 -0.781463  -0.49384  ...   -0.3054 -0.700914 -0.672729   -0.6371   \n",
       "1 -0.567528   1.35577   1.59713  ...   1.30333  0.416515   2.34364  0.383918   \n",
       "2  -0.26365    1.5537    2.8474  ...  0.263764  0.441958  0.858506    1.2465   \n",
       "3 -0.593365 -0.738069 -0.545022  ...  -0.42372 -0.733728 -0.786336 -0.719223   \n",
       "4 -0.637514 -0.792615 -0.445029  ... -0.341951 -0.706817 -0.698413 -0.643263   \n",
       "\n",
       "  M149T25_1 M133T25_1   M77T25_3   M107T25 M136T26_1 M135T26_1  \n",
       "0 -0.563426 -0.509932  -0.449127 -0.562903 -0.617659 -0.597298  \n",
       "1  0.384146     4.396  0.0597169   1.98904   1.89098  0.252684  \n",
       "2  0.608436  0.311254   0.138799   1.30925  0.292015   1.22584  \n",
       "3 -0.656812  -0.51918   -0.45509 -0.666131 -0.629933  -0.60318  \n",
       "4 -0.585998 -0.496175  -0.443044 -0.579593 -0.584662 -0.562185  \n",
       "\n",
       "[5 rows x 440 columns]"
      ]
     },
     "execution_count": 91,
     "metadata": {},
     "output_type": "execute_result"
    }
   ],
   "source": [
    "X_MultiSURF_df.head()"
   ]
  },
  {
   "cell_type": "code",
   "execution_count": 92,
   "metadata": {},
   "outputs": [],
   "source": [
    "data_healthy_df = X_MultiSURF_df.loc[X_reliefF_df.ID == 'Healthy']\n",
    "data_asthma_df = X_MultiSURF_df.loc[X_reliefF_df.ID == 'Asthmatic']"
   ]
  },
  {
   "cell_type": "code",
   "execution_count": 93,
   "metadata": {},
   "outputs": [],
   "source": [
    "data_healthy = data_healthy_df.values[:,1:]\n",
    "data_asthma = data_asthma_df.values[:, 1:]"
   ]
  },
  {
   "cell_type": "code",
   "execution_count": 94,
   "metadata": {},
   "outputs": [],
   "source": [
    "healthy_mean, healthy_cov = do_factor_analysis(data_healthy)"
   ]
  },
  {
   "cell_type": "code",
   "execution_count": 95,
   "metadata": {},
   "outputs": [],
   "source": [
    "asthma_mean, asthma_cov = do_factor_analysis(data_asthma)"
   ]
  },
  {
   "cell_type": "code",
   "execution_count": 96,
   "metadata": {},
   "outputs": [
    {
     "name": "stderr",
     "output_type": "stream",
     "text": [
      "/Users/boses1/anaconda3/lib/python3.6/site-packages/ipykernel_launcher.py:5: RuntimeWarning: invalid value encountered in double_scalars\n",
      "  \"\"\"\n"
     ]
    }
   ],
   "source": [
    "dist, t1, t2 = bhatt_dist(healthy_mean, healthy_cov, asthma_mean, asthma_cov)"
   ]
  },
  {
   "cell_type": "code",
   "execution_count": 97,
   "metadata": {},
   "outputs": [
    {
     "data": {
      "text/plain": [
       "nan"
      ]
     },
     "execution_count": 97,
     "metadata": {},
     "output_type": "execute_result"
    }
   ],
   "source": [
    "dist"
   ]
  },
  {
   "cell_type": "code",
   "execution_count": null,
   "metadata": {},
   "outputs": [],
   "source": []
  },
  {
   "cell_type": "markdown",
   "metadata": {},
   "source": [
    "## MultiSURFStar"
   ]
  },
  {
   "cell_type": "code",
   "execution_count": 98,
   "metadata": {},
   "outputs": [],
   "source": [
    "fs = MultiSURFstar(discrete_threshold = 5, n_jobs=1)\n",
    "fs.fit(data_scaled_df.values[:,2:].astype(float), data_scaled_df.ID_num.values)\n",
    "\n",
    "feature_scores = fs.feature_importances_\n",
    "feature_ids = np.where(feature_scores>=0)[0]\n",
    "selected_features = np.array(X_no_corr_df.columns[feature_ids]) "
   ]
  },
  {
   "cell_type": "code",
   "execution_count": 99,
   "metadata": {},
   "outputs": [],
   "source": [
    "X_MultiSURFStar = data_scaled_df.values[:,2:][:,feature_ids]"
   ]
  },
  {
   "cell_type": "code",
   "execution_count": 100,
   "metadata": {},
   "outputs": [
    {
     "data": {
      "text/plain": [
       "(43, 10)"
      ]
     },
     "execution_count": 100,
     "metadata": {},
     "output_type": "execute_result"
    }
   ],
   "source": [
    "X_MultiSURFStar.shape"
   ]
  },
  {
   "cell_type": "code",
   "execution_count": 101,
   "metadata": {},
   "outputs": [],
   "source": [
    "X_MultiSURFStar_df = pd.DataFrame(X_MultiSURFStar, columns = selected_features)\n",
    "X_MultiSURFStar_df.insert(0, 'ID', data.ID.values)"
   ]
  },
  {
   "cell_type": "code",
   "execution_count": 102,
   "metadata": {},
   "outputs": [
    {
     "data": {
      "text/html": [
       "<div>\n",
       "<style scoped>\n",
       "    .dataframe tbody tr th:only-of-type {\n",
       "        vertical-align: middle;\n",
       "    }\n",
       "\n",
       "    .dataframe tbody tr th {\n",
       "        vertical-align: top;\n",
       "    }\n",
       "\n",
       "    .dataframe thead th {\n",
       "        text-align: right;\n",
       "    }\n",
       "</style>\n",
       "<table border=\"1\" class=\"dataframe\">\n",
       "  <thead>\n",
       "    <tr style=\"text-align: right;\">\n",
       "      <th></th>\n",
       "      <th>ID</th>\n",
       "      <th>M98T3_1</th>\n",
       "      <th>M68T4</th>\n",
       "      <th>M84T5_4</th>\n",
       "      <th>M97T5_4</th>\n",
       "      <th>M68T5</th>\n",
       "      <th>M67T5_2</th>\n",
       "      <th>M70T6_1</th>\n",
       "      <th>M82T9_3</th>\n",
       "      <th>M82T9_1</th>\n",
       "      <th>M109T12_2</th>\n",
       "    </tr>\n",
       "  </thead>\n",
       "  <tbody>\n",
       "    <tr>\n",
       "      <th>0</th>\n",
       "      <td>Healthy</td>\n",
       "      <td>-0.698793</td>\n",
       "      <td>-0.398447</td>\n",
       "      <td>-0.830918</td>\n",
       "      <td>-0.802285</td>\n",
       "      <td>-0.627699</td>\n",
       "      <td>-0.76541</td>\n",
       "      <td>-0.677485</td>\n",
       "      <td>-0.82505</td>\n",
       "      <td>-0.9305</td>\n",
       "      <td>-0.59916</td>\n",
       "    </tr>\n",
       "    <tr>\n",
       "      <th>1</th>\n",
       "      <td>Healthy</td>\n",
       "      <td>1.72997</td>\n",
       "      <td>2.44104</td>\n",
       "      <td>2.13364</td>\n",
       "      <td>2.40625</td>\n",
       "      <td>2.95831</td>\n",
       "      <td>1.79988</td>\n",
       "      <td>0.776644</td>\n",
       "      <td>2.27876</td>\n",
       "      <td>0.792997</td>\n",
       "      <td>2.50791</td>\n",
       "    </tr>\n",
       "    <tr>\n",
       "      <th>2</th>\n",
       "      <td>Healthy</td>\n",
       "      <td>1.70043</td>\n",
       "      <td>1.60877</td>\n",
       "      <td>1.38046</td>\n",
       "      <td>2.33114</td>\n",
       "      <td>1.88355</td>\n",
       "      <td>1.80583</td>\n",
       "      <td>1.79879</td>\n",
       "      <td>0.417901</td>\n",
       "      <td>0.490392</td>\n",
       "      <td>0.766022</td>\n",
       "    </tr>\n",
       "    <tr>\n",
       "      <th>3</th>\n",
       "      <td>Healthy</td>\n",
       "      <td>-0.413427</td>\n",
       "      <td>-0.67994</td>\n",
       "      <td>-0.828038</td>\n",
       "      <td>-0.820327</td>\n",
       "      <td>-0.586846</td>\n",
       "      <td>-0.843057</td>\n",
       "      <td>-0.989364</td>\n",
       "      <td>-0.930405</td>\n",
       "      <td>-0.932132</td>\n",
       "      <td>-0.811215</td>\n",
       "    </tr>\n",
       "    <tr>\n",
       "      <th>4</th>\n",
       "      <td>Healthy</td>\n",
       "      <td>-0.720106</td>\n",
       "      <td>-0.631427</td>\n",
       "      <td>-0.842626</td>\n",
       "      <td>-0.777552</td>\n",
       "      <td>-0.620321</td>\n",
       "      <td>-1.01032</td>\n",
       "      <td>-0.959529</td>\n",
       "      <td>-0.896358</td>\n",
       "      <td>-1.02564</td>\n",
       "      <td>-0.789324</td>\n",
       "    </tr>\n",
       "  </tbody>\n",
       "</table>\n",
       "</div>"
      ],
      "text/plain": [
       "        ID   M98T3_1     M68T4   M84T5_4   M97T5_4     M68T5   M67T5_2  \\\n",
       "0  Healthy -0.698793 -0.398447 -0.830918 -0.802285 -0.627699  -0.76541   \n",
       "1  Healthy   1.72997   2.44104   2.13364   2.40625   2.95831   1.79988   \n",
       "2  Healthy   1.70043   1.60877   1.38046   2.33114   1.88355   1.80583   \n",
       "3  Healthy -0.413427  -0.67994 -0.828038 -0.820327 -0.586846 -0.843057   \n",
       "4  Healthy -0.720106 -0.631427 -0.842626 -0.777552 -0.620321  -1.01032   \n",
       "\n",
       "    M70T6_1   M82T9_3   M82T9_1 M109T12_2  \n",
       "0 -0.677485  -0.82505   -0.9305  -0.59916  \n",
       "1  0.776644   2.27876  0.792997   2.50791  \n",
       "2   1.79879  0.417901  0.490392  0.766022  \n",
       "3 -0.989364 -0.930405 -0.932132 -0.811215  \n",
       "4 -0.959529 -0.896358  -1.02564 -0.789324  "
      ]
     },
     "execution_count": 102,
     "metadata": {},
     "output_type": "execute_result"
    }
   ],
   "source": [
    "X_MultiSURFStar_df.head()"
   ]
  },
  {
   "cell_type": "code",
   "execution_count": 103,
   "metadata": {},
   "outputs": [],
   "source": [
    "data_healthy_df = X_MultiSURFStar_df.loc[X_MultiSURFStar_df.ID == 'Healthy']\n",
    "data_asthma_df = X_MultiSURFStar_df.loc[X_MultiSURFStar_df.ID == 'Asthmatic']"
   ]
  },
  {
   "cell_type": "code",
   "execution_count": 104,
   "metadata": {},
   "outputs": [],
   "source": [
    "data_healthy = data_healthy_df.values[:,1:]\n",
    "data_asthma = data_asthma_df.values[:, 1:]"
   ]
  },
  {
   "cell_type": "code",
   "execution_count": 105,
   "metadata": {},
   "outputs": [],
   "source": [
    "healthy_mean, healthy_cov = do_factor_analysis(data_healthy)"
   ]
  },
  {
   "cell_type": "code",
   "execution_count": 106,
   "metadata": {},
   "outputs": [],
   "source": [
    "asthma_mean, asthma_cov = do_factor_analysis(data_asthma)"
   ]
  },
  {
   "cell_type": "code",
   "execution_count": 107,
   "metadata": {},
   "outputs": [],
   "source": [
    "dist, t1, t2 = bhatt_dist(healthy_mean, healthy_cov, asthma_mean, asthma_cov)"
   ]
  },
  {
   "cell_type": "code",
   "execution_count": 108,
   "metadata": {},
   "outputs": [
    {
     "data": {
      "text/plain": [
       "1.0077670608323313"
      ]
     },
     "execution_count": 108,
     "metadata": {},
     "output_type": "execute_result"
    }
   ],
   "source": [
    "dist"
   ]
  },
  {
   "cell_type": "code",
   "execution_count": null,
   "metadata": {},
   "outputs": [],
   "source": []
  },
  {
   "cell_type": "code",
   "execution_count": null,
   "metadata": {},
   "outputs": [],
   "source": []
  },
  {
   "cell_type": "markdown",
   "metadata": {},
   "source": [
    "# Univariate Statistical Feature Selection"
   ]
  },
  {
   "cell_type": "markdown",
   "metadata": {},
   "source": [
    "## Anova"
   ]
  },
  {
   "cell_type": "code",
   "execution_count": 293,
   "metadata": {},
   "outputs": [],
   "source": [
    "f,p = f_classif(data_scaled_df.values[:,2:].astype(float), data.ID_num.values)\n",
    "feature_ids = np.where(p<=0.05)[0]\n",
    "\n",
    "\n",
    "selected_features = np.array(X_no_corr_df.columns[feature_ids])\n",
    "\n",
    "X_anova = data_scaled_df.values[:,2:][:,feature_ids]"
   ]
  },
  {
   "cell_type": "code",
   "execution_count": 294,
   "metadata": {},
   "outputs": [
    {
     "data": {
      "text/plain": [
       "(43, 23)"
      ]
     },
     "execution_count": 294,
     "metadata": {},
     "output_type": "execute_result"
    }
   ],
   "source": [
    "X_anova.shape"
   ]
  },
  {
   "cell_type": "code",
   "execution_count": null,
   "metadata": {},
   "outputs": [],
   "source": []
  },
  {
   "cell_type": "code",
   "execution_count": 295,
   "metadata": {},
   "outputs": [],
   "source": [
    "X_anova_df = pd.DataFrame(X_anova, columns = selected_features)\n",
    "X_anova_df.insert(0, 'ID', data.ID.values)"
   ]
  },
  {
   "cell_type": "code",
   "execution_count": 296,
   "metadata": {},
   "outputs": [
    {
     "data": {
      "text/html": [
       "<div>\n",
       "<style scoped>\n",
       "    .dataframe tbody tr th:only-of-type {\n",
       "        vertical-align: middle;\n",
       "    }\n",
       "\n",
       "    .dataframe tbody tr th {\n",
       "        vertical-align: top;\n",
       "    }\n",
       "\n",
       "    .dataframe thead th {\n",
       "        text-align: right;\n",
       "    }\n",
       "</style>\n",
       "<table border=\"1\" class=\"dataframe\">\n",
       "  <thead>\n",
       "    <tr style=\"text-align: right;\">\n",
       "      <th></th>\n",
       "      <th>ID</th>\n",
       "      <th>M151T1</th>\n",
       "      <th>M67T2_1</th>\n",
       "      <th>M90T2_2</th>\n",
       "      <th>M72T2_2</th>\n",
       "      <th>M82T2_2</th>\n",
       "      <th>M95T2</th>\n",
       "      <th>M97T3_1</th>\n",
       "      <th>M77T3_1</th>\n",
       "      <th>M84T4_1</th>\n",
       "      <th>...</th>\n",
       "      <th>M127T6</th>\n",
       "      <th>M39T7_1</th>\n",
       "      <th>M63T7_2</th>\n",
       "      <th>M77T7_2</th>\n",
       "      <th>M108T7</th>\n",
       "      <th>M58T7</th>\n",
       "      <th>M94T11_1</th>\n",
       "      <th>M93T11_1</th>\n",
       "      <th>M38T11</th>\n",
       "      <th>M110T12_2</th>\n",
       "    </tr>\n",
       "  </thead>\n",
       "  <tbody>\n",
       "    <tr>\n",
       "      <th>0</th>\n",
       "      <td>Healthy</td>\n",
       "      <td>-0.268167</td>\n",
       "      <td>-0.459512</td>\n",
       "      <td>-0.482348</td>\n",
       "      <td>-0.645626</td>\n",
       "      <td>-0.855105</td>\n",
       "      <td>-0.942973</td>\n",
       "      <td>-0.0778075</td>\n",
       "      <td>-0.655164</td>\n",
       "      <td>-0.874023</td>\n",
       "      <td>...</td>\n",
       "      <td>-0.562474</td>\n",
       "      <td>-0.536436</td>\n",
       "      <td>-0.620496</td>\n",
       "      <td>-0.549814</td>\n",
       "      <td>-0.541696</td>\n",
       "      <td>-0.532667</td>\n",
       "      <td>-0.584152</td>\n",
       "      <td>-0.462755</td>\n",
       "      <td>-0.563194</td>\n",
       "      <td>-0.756397</td>\n",
       "    </tr>\n",
       "    <tr>\n",
       "      <th>1</th>\n",
       "      <td>Healthy</td>\n",
       "      <td>-0.263205</td>\n",
       "      <td>0.597175</td>\n",
       "      <td>1.88202</td>\n",
       "      <td>-0.944398</td>\n",
       "      <td>2.18404</td>\n",
       "      <td>0.444226</td>\n",
       "      <td>0.299322</td>\n",
       "      <td>1.38727</td>\n",
       "      <td>0.839667</td>\n",
       "      <td>...</td>\n",
       "      <td>-0.209553</td>\n",
       "      <td>1.61849</td>\n",
       "      <td>2.13032</td>\n",
       "      <td>0.668414</td>\n",
       "      <td>1.5753</td>\n",
       "      <td>0.913865</td>\n",
       "      <td>-0.550068</td>\n",
       "      <td>-0.581811</td>\n",
       "      <td>-0.387506</td>\n",
       "      <td>2.78272</td>\n",
       "    </tr>\n",
       "    <tr>\n",
       "      <th>2</th>\n",
       "      <td>Healthy</td>\n",
       "      <td>-0.254105</td>\n",
       "      <td>2.10178</td>\n",
       "      <td>1.31152</td>\n",
       "      <td>-0.148172</td>\n",
       "      <td>2.09556</td>\n",
       "      <td>2.53259</td>\n",
       "      <td>0.191514</td>\n",
       "      <td>0.633136</td>\n",
       "      <td>1.78128</td>\n",
       "      <td>...</td>\n",
       "      <td>-0.391824</td>\n",
       "      <td>0.794053</td>\n",
       "      <td>1.26737</td>\n",
       "      <td>0.124668</td>\n",
       "      <td>0.811305</td>\n",
       "      <td>0.631648</td>\n",
       "      <td>-0.549622</td>\n",
       "      <td>-0.538452</td>\n",
       "      <td>-0.0809946</td>\n",
       "      <td>0.878527</td>\n",
       "    </tr>\n",
       "    <tr>\n",
       "      <th>3</th>\n",
       "      <td>Healthy</td>\n",
       "      <td>-0.268131</td>\n",
       "      <td>-0.468733</td>\n",
       "      <td>-0.572338</td>\n",
       "      <td>-1.25737</td>\n",
       "      <td>-0.917285</td>\n",
       "      <td>-1.02991</td>\n",
       "      <td>0.131019</td>\n",
       "      <td>-0.653796</td>\n",
       "      <td>-1.02205</td>\n",
       "      <td>...</td>\n",
       "      <td>-0.608561</td>\n",
       "      <td>-0.556864</td>\n",
       "      <td>-0.648659</td>\n",
       "      <td>-0.559228</td>\n",
       "      <td>-0.579382</td>\n",
       "      <td>-0.55209</td>\n",
       "      <td>-0.723417</td>\n",
       "      <td>-0.531289</td>\n",
       "      <td>-0.57296</td>\n",
       "      <td>-0.536689</td>\n",
       "    </tr>\n",
       "    <tr>\n",
       "      <th>4</th>\n",
       "      <td>Healthy</td>\n",
       "      <td>-0.268</td>\n",
       "      <td>-0.456096</td>\n",
       "      <td>-0.55483</td>\n",
       "      <td>-1.28042</td>\n",
       "      <td>-1.30846</td>\n",
       "      <td>-1.04277</td>\n",
       "      <td>0.137262</td>\n",
       "      <td>-0.570038</td>\n",
       "      <td>-1.03825</td>\n",
       "      <td>...</td>\n",
       "      <td>-0.54252</td>\n",
       "      <td>-0.543088</td>\n",
       "      <td>-0.63492</td>\n",
       "      <td>-0.500634</td>\n",
       "      <td>-0.556233</td>\n",
       "      <td>-0.531873</td>\n",
       "      <td>-0.759001</td>\n",
       "      <td>-0.606578</td>\n",
       "      <td>-0.618214</td>\n",
       "      <td>-0.775964</td>\n",
       "    </tr>\n",
       "  </tbody>\n",
       "</table>\n",
       "<p>5 rows × 24 columns</p>\n",
       "</div>"
      ],
      "text/plain": [
       "        ID    M151T1   M67T2_1   M90T2_2   M72T2_2   M82T2_2     M95T2  \\\n",
       "0  Healthy -0.268167 -0.459512 -0.482348 -0.645626 -0.855105 -0.942973   \n",
       "1  Healthy -0.263205  0.597175   1.88202 -0.944398   2.18404  0.444226   \n",
       "2  Healthy -0.254105   2.10178   1.31152 -0.148172   2.09556   2.53259   \n",
       "3  Healthy -0.268131 -0.468733 -0.572338  -1.25737 -0.917285  -1.02991   \n",
       "4  Healthy    -0.268 -0.456096  -0.55483  -1.28042  -1.30846  -1.04277   \n",
       "\n",
       "     M97T3_1   M77T3_1   M84T4_1  ...    M127T6   M39T7_1   M63T7_2   M77T7_2  \\\n",
       "0 -0.0778075 -0.655164 -0.874023  ... -0.562474 -0.536436 -0.620496 -0.549814   \n",
       "1   0.299322   1.38727  0.839667  ... -0.209553   1.61849   2.13032  0.668414   \n",
       "2   0.191514  0.633136   1.78128  ... -0.391824  0.794053   1.26737  0.124668   \n",
       "3   0.131019 -0.653796  -1.02205  ... -0.608561 -0.556864 -0.648659 -0.559228   \n",
       "4   0.137262 -0.570038  -1.03825  ...  -0.54252 -0.543088  -0.63492 -0.500634   \n",
       "\n",
       "     M108T7     M58T7  M94T11_1  M93T11_1     M38T11 M110T12_2  \n",
       "0 -0.541696 -0.532667 -0.584152 -0.462755  -0.563194 -0.756397  \n",
       "1    1.5753  0.913865 -0.550068 -0.581811  -0.387506   2.78272  \n",
       "2  0.811305  0.631648 -0.549622 -0.538452 -0.0809946  0.878527  \n",
       "3 -0.579382  -0.55209 -0.723417 -0.531289   -0.57296 -0.536689  \n",
       "4 -0.556233 -0.531873 -0.759001 -0.606578  -0.618214 -0.775964  \n",
       "\n",
       "[5 rows x 24 columns]"
      ]
     },
     "execution_count": 296,
     "metadata": {},
     "output_type": "execute_result"
    }
   ],
   "source": [
    "X_anova_df.head()"
   ]
  },
  {
   "cell_type": "code",
   "execution_count": 297,
   "metadata": {},
   "outputs": [],
   "source": [
    "data_healthy_df = X_anova_df.loc[X_anova_df.ID == 'Healthy']\n",
    "data_asthma_df = X_anova_df.loc[X_anova_df.ID == 'Asthmatic']"
   ]
  },
  {
   "cell_type": "code",
   "execution_count": 298,
   "metadata": {},
   "outputs": [],
   "source": [
    "data_healthy = data_healthy_df.values[:,1:]\n",
    "data_asthma = data_asthma_df.values[:, 1:]"
   ]
  },
  {
   "cell_type": "code",
   "execution_count": 299,
   "metadata": {},
   "outputs": [],
   "source": [
    "healthy_mean, healthy_cov = do_factor_analysis(data_healthy)"
   ]
  },
  {
   "cell_type": "code",
   "execution_count": 300,
   "metadata": {},
   "outputs": [],
   "source": [
    "asthma_mean, asthma_cov = do_factor_analysis(data_asthma)"
   ]
  },
  {
   "cell_type": "code",
   "execution_count": 301,
   "metadata": {},
   "outputs": [],
   "source": [
    "dist, t1, t2 = bhatt_dist(healthy_mean, healthy_cov, asthma_mean, asthma_cov)"
   ]
  },
  {
   "cell_type": "code",
   "execution_count": 302,
   "metadata": {},
   "outputs": [
    {
     "data": {
      "text/plain": [
       "69.33796335919133"
      ]
     },
     "execution_count": 302,
     "metadata": {},
     "output_type": "execute_result"
    }
   ],
   "source": [
    "dist"
   ]
  },
  {
   "cell_type": "code",
   "execution_count": 303,
   "metadata": {},
   "outputs": [
    {
     "data": {
      "text/plain": [
       "1.0328911165212588e-09"
      ]
     },
     "execution_count": 303,
     "metadata": {},
     "output_type": "execute_result"
    }
   ],
   "source": [
    "np.linalg.det(healthy_cov)"
   ]
  },
  {
   "cell_type": "code",
   "execution_count": 304,
   "metadata": {},
   "outputs": [
    {
     "data": {
      "text/plain": [
       "1.9571702616627723e-126"
      ]
     },
     "execution_count": 304,
     "metadata": {},
     "output_type": "execute_result"
    }
   ],
   "source": [
    "np.linalg.det(asthma_cov)"
   ]
  },
  {
   "cell_type": "code",
   "execution_count": null,
   "metadata": {},
   "outputs": [],
   "source": []
  },
  {
   "cell_type": "markdown",
   "metadata": {},
   "source": [
    "# Combinations"
   ]
  },
  {
   "cell_type": "markdown",
   "metadata": {},
   "source": [
    "## Anova + Relief-F"
   ]
  },
  {
   "cell_type": "code",
   "execution_count": 240,
   "metadata": {},
   "outputs": [
    {
     "data": {
      "text/plain": [
       "(43, 23)"
      ]
     },
     "execution_count": 240,
     "metadata": {},
     "output_type": "execute_result"
    }
   ],
   "source": [
    "X_anova.shape"
   ]
  },
  {
   "cell_type": "code",
   "execution_count": 241,
   "metadata": {},
   "outputs": [],
   "source": [
    "fs = ReliefF(discrete_threshold = 5, n_jobs=1)\n",
    "fs.fit(X_anova.astype(float), data.ID_num.values)\n",
    "\n",
    "feature_scores = fs.feature_importances_\n",
    "feature_ids = np.where(feature_scores>=0)[0]\n",
    "selected_features = selected_features[feature_ids]"
   ]
  },
  {
   "cell_type": "code",
   "execution_count": 242,
   "metadata": {},
   "outputs": [],
   "source": [
    "X_ano_reliefF = X_anova[:,feature_ids]"
   ]
  },
  {
   "cell_type": "code",
   "execution_count": 243,
   "metadata": {},
   "outputs": [
    {
     "data": {
      "text/plain": [
       "(43, 18)"
      ]
     },
     "execution_count": 243,
     "metadata": {},
     "output_type": "execute_result"
    }
   ],
   "source": [
    "X_ano_reliefF.shape"
   ]
  },
  {
   "cell_type": "code",
   "execution_count": null,
   "metadata": {},
   "outputs": [],
   "source": []
  },
  {
   "cell_type": "code",
   "execution_count": 244,
   "metadata": {},
   "outputs": [],
   "source": [
    "X_anova_relief_df = pd.DataFrame(X_ano_reliefF, columns = selected_features)\n",
    "X_anova_relief_df.insert(0, 'ID', data.ID.values)"
   ]
  },
  {
   "cell_type": "code",
   "execution_count": 245,
   "metadata": {},
   "outputs": [
    {
     "data": {
      "text/html": [
       "<div>\n",
       "<style scoped>\n",
       "    .dataframe tbody tr th:only-of-type {\n",
       "        vertical-align: middle;\n",
       "    }\n",
       "\n",
       "    .dataframe tbody tr th {\n",
       "        vertical-align: top;\n",
       "    }\n",
       "\n",
       "    .dataframe thead th {\n",
       "        text-align: right;\n",
       "    }\n",
       "</style>\n",
       "<table border=\"1\" class=\"dataframe\">\n",
       "  <thead>\n",
       "    <tr style=\"text-align: right;\">\n",
       "      <th></th>\n",
       "      <th>ID</th>\n",
       "      <th>M151T1</th>\n",
       "      <th>M72T2_2</th>\n",
       "      <th>M82T2_2</th>\n",
       "      <th>M95T2</th>\n",
       "      <th>M97T3_1</th>\n",
       "      <th>M77T3_1</th>\n",
       "      <th>M84T4_1</th>\n",
       "      <th>M100T4_1</th>\n",
       "      <th>M138T4</th>\n",
       "      <th>M84T6_1</th>\n",
       "      <th>M98T6_2</th>\n",
       "      <th>M127T6</th>\n",
       "      <th>M63T7_2</th>\n",
       "      <th>M108T7</th>\n",
       "      <th>M94T11_1</th>\n",
       "      <th>M93T11_1</th>\n",
       "      <th>M38T11</th>\n",
       "      <th>M110T12_2</th>\n",
       "    </tr>\n",
       "  </thead>\n",
       "  <tbody>\n",
       "    <tr>\n",
       "      <th>0</th>\n",
       "      <td>Healthy</td>\n",
       "      <td>-0.268167</td>\n",
       "      <td>-0.645626</td>\n",
       "      <td>-0.855105</td>\n",
       "      <td>-0.942973</td>\n",
       "      <td>-0.0778075</td>\n",
       "      <td>-0.655164</td>\n",
       "      <td>-0.874023</td>\n",
       "      <td>-0.531849</td>\n",
       "      <td>-0.474613</td>\n",
       "      <td>-0.869495</td>\n",
       "      <td>-0.712758</td>\n",
       "      <td>-0.562474</td>\n",
       "      <td>-0.620496</td>\n",
       "      <td>-0.541696</td>\n",
       "      <td>-0.584152</td>\n",
       "      <td>-0.462755</td>\n",
       "      <td>-0.563194</td>\n",
       "      <td>-0.756397</td>\n",
       "    </tr>\n",
       "    <tr>\n",
       "      <th>1</th>\n",
       "      <td>Healthy</td>\n",
       "      <td>-0.263205</td>\n",
       "      <td>-0.944398</td>\n",
       "      <td>2.18404</td>\n",
       "      <td>0.444226</td>\n",
       "      <td>0.299322</td>\n",
       "      <td>1.38727</td>\n",
       "      <td>0.839667</td>\n",
       "      <td>2.19339</td>\n",
       "      <td>3.14949</td>\n",
       "      <td>0.746347</td>\n",
       "      <td>-0.42891</td>\n",
       "      <td>-0.209553</td>\n",
       "      <td>2.13032</td>\n",
       "      <td>1.5753</td>\n",
       "      <td>-0.550068</td>\n",
       "      <td>-0.581811</td>\n",
       "      <td>-0.387506</td>\n",
       "      <td>2.78272</td>\n",
       "    </tr>\n",
       "    <tr>\n",
       "      <th>2</th>\n",
       "      <td>Healthy</td>\n",
       "      <td>-0.254105</td>\n",
       "      <td>-0.148172</td>\n",
       "      <td>2.09556</td>\n",
       "      <td>2.53259</td>\n",
       "      <td>0.191514</td>\n",
       "      <td>0.633136</td>\n",
       "      <td>1.78128</td>\n",
       "      <td>1.65591</td>\n",
       "      <td>2.52769</td>\n",
       "      <td>0.131106</td>\n",
       "      <td>-0.495078</td>\n",
       "      <td>-0.391824</td>\n",
       "      <td>1.26737</td>\n",
       "      <td>0.811305</td>\n",
       "      <td>-0.549622</td>\n",
       "      <td>-0.538452</td>\n",
       "      <td>-0.0809946</td>\n",
       "      <td>0.878527</td>\n",
       "    </tr>\n",
       "    <tr>\n",
       "      <th>3</th>\n",
       "      <td>Healthy</td>\n",
       "      <td>-0.268131</td>\n",
       "      <td>-1.25737</td>\n",
       "      <td>-0.917285</td>\n",
       "      <td>-1.02991</td>\n",
       "      <td>0.131019</td>\n",
       "      <td>-0.653796</td>\n",
       "      <td>-1.02205</td>\n",
       "      <td>-0.806302</td>\n",
       "      <td>-0.670972</td>\n",
       "      <td>-0.807571</td>\n",
       "      <td>-0.644416</td>\n",
       "      <td>-0.608561</td>\n",
       "      <td>-0.648659</td>\n",
       "      <td>-0.579382</td>\n",
       "      <td>-0.723417</td>\n",
       "      <td>-0.531289</td>\n",
       "      <td>-0.57296</td>\n",
       "      <td>-0.536689</td>\n",
       "    </tr>\n",
       "    <tr>\n",
       "      <th>4</th>\n",
       "      <td>Healthy</td>\n",
       "      <td>-0.268</td>\n",
       "      <td>-1.28042</td>\n",
       "      <td>-1.30846</td>\n",
       "      <td>-1.04277</td>\n",
       "      <td>0.137262</td>\n",
       "      <td>-0.570038</td>\n",
       "      <td>-1.03825</td>\n",
       "      <td>-1.07789</td>\n",
       "      <td>-0.606536</td>\n",
       "      <td>-0.378076</td>\n",
       "      <td>-0.162183</td>\n",
       "      <td>-0.54252</td>\n",
       "      <td>-0.63492</td>\n",
       "      <td>-0.556233</td>\n",
       "      <td>-0.759001</td>\n",
       "      <td>-0.606578</td>\n",
       "      <td>-0.618214</td>\n",
       "      <td>-0.775964</td>\n",
       "    </tr>\n",
       "  </tbody>\n",
       "</table>\n",
       "</div>"
      ],
      "text/plain": [
       "        ID    M151T1   M72T2_2   M82T2_2     M95T2    M97T3_1   M77T3_1  \\\n",
       "0  Healthy -0.268167 -0.645626 -0.855105 -0.942973 -0.0778075 -0.655164   \n",
       "1  Healthy -0.263205 -0.944398   2.18404  0.444226   0.299322   1.38727   \n",
       "2  Healthy -0.254105 -0.148172   2.09556   2.53259   0.191514  0.633136   \n",
       "3  Healthy -0.268131  -1.25737 -0.917285  -1.02991   0.131019 -0.653796   \n",
       "4  Healthy    -0.268  -1.28042  -1.30846  -1.04277   0.137262 -0.570038   \n",
       "\n",
       "    M84T4_1  M100T4_1    M138T4   M84T6_1   M98T6_2    M127T6   M63T7_2  \\\n",
       "0 -0.874023 -0.531849 -0.474613 -0.869495 -0.712758 -0.562474 -0.620496   \n",
       "1  0.839667   2.19339   3.14949  0.746347  -0.42891 -0.209553   2.13032   \n",
       "2   1.78128   1.65591   2.52769  0.131106 -0.495078 -0.391824   1.26737   \n",
       "3  -1.02205 -0.806302 -0.670972 -0.807571 -0.644416 -0.608561 -0.648659   \n",
       "4  -1.03825  -1.07789 -0.606536 -0.378076 -0.162183  -0.54252  -0.63492   \n",
       "\n",
       "     M108T7  M94T11_1  M93T11_1     M38T11 M110T12_2  \n",
       "0 -0.541696 -0.584152 -0.462755  -0.563194 -0.756397  \n",
       "1    1.5753 -0.550068 -0.581811  -0.387506   2.78272  \n",
       "2  0.811305 -0.549622 -0.538452 -0.0809946  0.878527  \n",
       "3 -0.579382 -0.723417 -0.531289   -0.57296 -0.536689  \n",
       "4 -0.556233 -0.759001 -0.606578  -0.618214 -0.775964  "
      ]
     },
     "execution_count": 245,
     "metadata": {},
     "output_type": "execute_result"
    }
   ],
   "source": [
    "X_anova_relief_df.head()"
   ]
  },
  {
   "cell_type": "code",
   "execution_count": 246,
   "metadata": {},
   "outputs": [],
   "source": [
    "data_healthy_df = X_anova_relief_df.loc[X_anova_relief_df.ID == 'Healthy']\n",
    "data_asthma_df = X_anova_relief_df.loc[X_anova_relief_df.ID == 'Asthmatic']"
   ]
  },
  {
   "cell_type": "code",
   "execution_count": 247,
   "metadata": {},
   "outputs": [],
   "source": [
    "data_healthy = data_healthy_df.values[:,1:]\n",
    "data_asthma = data_asthma_df.values[:, 1:]"
   ]
  },
  {
   "cell_type": "code",
   "execution_count": 281,
   "metadata": {},
   "outputs": [
    {
     "data": {
      "text/html": [
       "<div>\n",
       "<style scoped>\n",
       "    .dataframe tbody tr th:only-of-type {\n",
       "        vertical-align: middle;\n",
       "    }\n",
       "\n",
       "    .dataframe tbody tr th {\n",
       "        vertical-align: top;\n",
       "    }\n",
       "\n",
       "    .dataframe thead th {\n",
       "        text-align: right;\n",
       "    }\n",
       "</style>\n",
       "<table border=\"1\" class=\"dataframe\">\n",
       "  <thead>\n",
       "    <tr style=\"text-align: right;\">\n",
       "      <th></th>\n",
       "      <th>ID</th>\n",
       "      <th>ID_num</th>\n",
       "      <th>M151T1</th>\n",
       "      <th>M83T1</th>\n",
       "      <th>M101T1</th>\n",
       "      <th>M46T1</th>\n",
       "      <th>M49T1</th>\n",
       "      <th>M66T1</th>\n",
       "      <th>M62T1</th>\n",
       "      <th>M80T1</th>\n",
       "      <th>...</th>\n",
       "      <th>M177T24</th>\n",
       "      <th>M179T24_1</th>\n",
       "      <th>M160T24_1</th>\n",
       "      <th>M118T25_1</th>\n",
       "      <th>M149T25_1</th>\n",
       "      <th>M133T25_1</th>\n",
       "      <th>M77T25_3</th>\n",
       "      <th>M107T25</th>\n",
       "      <th>M136T26_1</th>\n",
       "      <th>M135T26_1</th>\n",
       "    </tr>\n",
       "  </thead>\n",
       "  <tbody>\n",
       "    <tr>\n",
       "      <th>0</th>\n",
       "      <td>Healthy</td>\n",
       "      <td>0</td>\n",
       "      <td>-0.268167</td>\n",
       "      <td>-0.173282</td>\n",
       "      <td>-0.468532</td>\n",
       "      <td>-0.689375</td>\n",
       "      <td>-0.545787</td>\n",
       "      <td>-0.619796</td>\n",
       "      <td>-0.409468</td>\n",
       "      <td>-0.387656</td>\n",
       "      <td>...</td>\n",
       "      <td>-0.593770</td>\n",
       "      <td>-0.637100</td>\n",
       "      <td>-0.641001</td>\n",
       "      <td>-0.777737</td>\n",
       "      <td>-0.563426</td>\n",
       "      <td>-0.509932</td>\n",
       "      <td>-0.449127</td>\n",
       "      <td>-0.562903</td>\n",
       "      <td>-0.617659</td>\n",
       "      <td>-0.597298</td>\n",
       "    </tr>\n",
       "    <tr>\n",
       "      <th>1</th>\n",
       "      <td>Healthy</td>\n",
       "      <td>0</td>\n",
       "      <td>-0.263205</td>\n",
       "      <td>-0.105216</td>\n",
       "      <td>0.307663</td>\n",
       "      <td>0.251702</td>\n",
       "      <td>-0.410207</td>\n",
       "      <td>0.588939</td>\n",
       "      <td>-0.072891</td>\n",
       "      <td>-0.365801</td>\n",
       "      <td>...</td>\n",
       "      <td>0.031987</td>\n",
       "      <td>0.383918</td>\n",
       "      <td>0.488144</td>\n",
       "      <td>1.915872</td>\n",
       "      <td>0.384146</td>\n",
       "      <td>4.395997</td>\n",
       "      <td>0.059717</td>\n",
       "      <td>1.989039</td>\n",
       "      <td>1.890985</td>\n",
       "      <td>0.252684</td>\n",
       "    </tr>\n",
       "    <tr>\n",
       "      <th>2</th>\n",
       "      <td>Healthy</td>\n",
       "      <td>0</td>\n",
       "      <td>-0.254105</td>\n",
       "      <td>-0.147462</td>\n",
       "      <td>-0.383205</td>\n",
       "      <td>0.560778</td>\n",
       "      <td>-0.516126</td>\n",
       "      <td>-0.475555</td>\n",
       "      <td>-0.001122</td>\n",
       "      <td>-0.375542</td>\n",
       "      <td>...</td>\n",
       "      <td>0.729482</td>\n",
       "      <td>1.246497</td>\n",
       "      <td>0.268835</td>\n",
       "      <td>0.782965</td>\n",
       "      <td>0.608436</td>\n",
       "      <td>0.311254</td>\n",
       "      <td>0.138799</td>\n",
       "      <td>1.309250</td>\n",
       "      <td>0.292015</td>\n",
       "      <td>1.225839</td>\n",
       "    </tr>\n",
       "    <tr>\n",
       "      <th>3</th>\n",
       "      <td>Healthy</td>\n",
       "      <td>0</td>\n",
       "      <td>-0.268131</td>\n",
       "      <td>-0.170967</td>\n",
       "      <td>-0.478020</td>\n",
       "      <td>-0.727070</td>\n",
       "      <td>-0.566170</td>\n",
       "      <td>-0.625262</td>\n",
       "      <td>-0.429223</td>\n",
       "      <td>-0.381917</td>\n",
       "      <td>...</td>\n",
       "      <td>-0.665796</td>\n",
       "      <td>-0.719223</td>\n",
       "      <td>-0.811968</td>\n",
       "      <td>-0.801357</td>\n",
       "      <td>-0.656812</td>\n",
       "      <td>-0.519180</td>\n",
       "      <td>-0.455090</td>\n",
       "      <td>-0.666131</td>\n",
       "      <td>-0.629933</td>\n",
       "      <td>-0.603180</td>\n",
       "    </tr>\n",
       "    <tr>\n",
       "      <th>4</th>\n",
       "      <td>Healthy</td>\n",
       "      <td>0</td>\n",
       "      <td>-0.268000</td>\n",
       "      <td>-0.172635</td>\n",
       "      <td>-0.476942</td>\n",
       "      <td>-0.730256</td>\n",
       "      <td>-0.537614</td>\n",
       "      <td>-0.603333</td>\n",
       "      <td>-0.417282</td>\n",
       "      <td>-0.373187</td>\n",
       "      <td>...</td>\n",
       "      <td>-0.598309</td>\n",
       "      <td>-0.643263</td>\n",
       "      <td>-0.699333</td>\n",
       "      <td>-0.768384</td>\n",
       "      <td>-0.585998</td>\n",
       "      <td>-0.496175</td>\n",
       "      <td>-0.443044</td>\n",
       "      <td>-0.579593</td>\n",
       "      <td>-0.584662</td>\n",
       "      <td>-0.562185</td>\n",
       "    </tr>\n",
       "  </tbody>\n",
       "</table>\n",
       "<p>5 rows × 683 columns</p>\n",
       "</div>"
      ],
      "text/plain": [
       "        ID  ID_num    M151T1     M83T1    M101T1     M46T1     M49T1  \\\n",
       "0  Healthy       0 -0.268167 -0.173282 -0.468532 -0.689375 -0.545787   \n",
       "1  Healthy       0 -0.263205 -0.105216  0.307663  0.251702 -0.410207   \n",
       "2  Healthy       0 -0.254105 -0.147462 -0.383205  0.560778 -0.516126   \n",
       "3  Healthy       0 -0.268131 -0.170967 -0.478020 -0.727070 -0.566170   \n",
       "4  Healthy       0 -0.268000 -0.172635 -0.476942 -0.730256 -0.537614   \n",
       "\n",
       "      M66T1     M62T1     M80T1  ...   M177T24  M179T24_1  M160T24_1  \\\n",
       "0 -0.619796 -0.409468 -0.387656  ... -0.593770  -0.637100  -0.641001   \n",
       "1  0.588939 -0.072891 -0.365801  ...  0.031987   0.383918   0.488144   \n",
       "2 -0.475555 -0.001122 -0.375542  ...  0.729482   1.246497   0.268835   \n",
       "3 -0.625262 -0.429223 -0.381917  ... -0.665796  -0.719223  -0.811968   \n",
       "4 -0.603333 -0.417282 -0.373187  ... -0.598309  -0.643263  -0.699333   \n",
       "\n",
       "   M118T25_1  M149T25_1  M133T25_1  M77T25_3   M107T25  M136T26_1  M135T26_1  \n",
       "0  -0.777737  -0.563426  -0.509932 -0.449127 -0.562903  -0.617659  -0.597298  \n",
       "1   1.915872   0.384146   4.395997  0.059717  1.989039   1.890985   0.252684  \n",
       "2   0.782965   0.608436   0.311254  0.138799  1.309250   0.292015   1.225839  \n",
       "3  -0.801357  -0.656812  -0.519180 -0.455090 -0.666131  -0.629933  -0.603180  \n",
       "4  -0.768384  -0.585998  -0.496175 -0.443044 -0.579593  -0.584662  -0.562185  \n",
       "\n",
       "[5 rows x 683 columns]"
      ]
     },
     "execution_count": 281,
     "metadata": {},
     "output_type": "execute_result"
    }
   ],
   "source": [
    "data_scaled_df.head()"
   ]
  },
  {
   "cell_type": "code",
   "execution_count": null,
   "metadata": {},
   "outputs": [],
   "source": []
  },
  {
   "cell_type": "code",
   "execution_count": 286,
   "metadata": {},
   "outputs": [],
   "source": [
    "import random"
   ]
  },
  {
   "cell_type": "code",
   "execution_count": 287,
   "metadata": {},
   "outputs": [],
   "source": [
    "random_feat_ids = list(range(681))"
   ]
  },
  {
   "cell_type": "code",
   "execution_count": 288,
   "metadata": {},
   "outputs": [],
   "source": [
    "random.shuffle(random_feat_ids)"
   ]
  },
  {
   "cell_type": "code",
   "execution_count": 289,
   "metadata": {},
   "outputs": [
    {
     "data": {
      "text/html": [
       "<div>\n",
       "<style scoped>\n",
       "    .dataframe tbody tr th:only-of-type {\n",
       "        vertical-align: middle;\n",
       "    }\n",
       "\n",
       "    .dataframe tbody tr th {\n",
       "        vertical-align: top;\n",
       "    }\n",
       "\n",
       "    .dataframe thead th {\n",
       "        text-align: right;\n",
       "    }\n",
       "</style>\n",
       "<table border=\"1\" class=\"dataframe\">\n",
       "  <thead>\n",
       "    <tr style=\"text-align: right;\">\n",
       "      <th></th>\n",
       "      <th>ID</th>\n",
       "      <th>ID_num</th>\n",
       "      <th>M151T1</th>\n",
       "      <th>M83T1</th>\n",
       "      <th>M101T1</th>\n",
       "      <th>M46T1</th>\n",
       "      <th>M49T1</th>\n",
       "      <th>M66T1</th>\n",
       "      <th>M62T1</th>\n",
       "      <th>M80T1</th>\n",
       "      <th>...</th>\n",
       "      <th>M177T24</th>\n",
       "      <th>M179T24_1</th>\n",
       "      <th>M160T24_1</th>\n",
       "      <th>M118T25_1</th>\n",
       "      <th>M149T25_1</th>\n",
       "      <th>M133T25_1</th>\n",
       "      <th>M77T25_3</th>\n",
       "      <th>M107T25</th>\n",
       "      <th>M136T26_1</th>\n",
       "      <th>M135T26_1</th>\n",
       "    </tr>\n",
       "  </thead>\n",
       "  <tbody>\n",
       "    <tr>\n",
       "      <th>0</th>\n",
       "      <td>Healthy</td>\n",
       "      <td>0</td>\n",
       "      <td>-0.268167</td>\n",
       "      <td>-0.173282</td>\n",
       "      <td>-0.468532</td>\n",
       "      <td>-0.689375</td>\n",
       "      <td>-0.545787</td>\n",
       "      <td>-0.619796</td>\n",
       "      <td>-0.409468</td>\n",
       "      <td>-0.387656</td>\n",
       "      <td>...</td>\n",
       "      <td>-0.593770</td>\n",
       "      <td>-0.637100</td>\n",
       "      <td>-0.641001</td>\n",
       "      <td>-0.777737</td>\n",
       "      <td>-0.563426</td>\n",
       "      <td>-0.509932</td>\n",
       "      <td>-0.449127</td>\n",
       "      <td>-0.562903</td>\n",
       "      <td>-0.617659</td>\n",
       "      <td>-0.597298</td>\n",
       "    </tr>\n",
       "    <tr>\n",
       "      <th>1</th>\n",
       "      <td>Healthy</td>\n",
       "      <td>0</td>\n",
       "      <td>-0.263205</td>\n",
       "      <td>-0.105216</td>\n",
       "      <td>0.307663</td>\n",
       "      <td>0.251702</td>\n",
       "      <td>-0.410207</td>\n",
       "      <td>0.588939</td>\n",
       "      <td>-0.072891</td>\n",
       "      <td>-0.365801</td>\n",
       "      <td>...</td>\n",
       "      <td>0.031987</td>\n",
       "      <td>0.383918</td>\n",
       "      <td>0.488144</td>\n",
       "      <td>1.915872</td>\n",
       "      <td>0.384146</td>\n",
       "      <td>4.395997</td>\n",
       "      <td>0.059717</td>\n",
       "      <td>1.989039</td>\n",
       "      <td>1.890985</td>\n",
       "      <td>0.252684</td>\n",
       "    </tr>\n",
       "    <tr>\n",
       "      <th>2</th>\n",
       "      <td>Healthy</td>\n",
       "      <td>0</td>\n",
       "      <td>-0.254105</td>\n",
       "      <td>-0.147462</td>\n",
       "      <td>-0.383205</td>\n",
       "      <td>0.560778</td>\n",
       "      <td>-0.516126</td>\n",
       "      <td>-0.475555</td>\n",
       "      <td>-0.001122</td>\n",
       "      <td>-0.375542</td>\n",
       "      <td>...</td>\n",
       "      <td>0.729482</td>\n",
       "      <td>1.246497</td>\n",
       "      <td>0.268835</td>\n",
       "      <td>0.782965</td>\n",
       "      <td>0.608436</td>\n",
       "      <td>0.311254</td>\n",
       "      <td>0.138799</td>\n",
       "      <td>1.309250</td>\n",
       "      <td>0.292015</td>\n",
       "      <td>1.225839</td>\n",
       "    </tr>\n",
       "    <tr>\n",
       "      <th>3</th>\n",
       "      <td>Healthy</td>\n",
       "      <td>0</td>\n",
       "      <td>-0.268131</td>\n",
       "      <td>-0.170967</td>\n",
       "      <td>-0.478020</td>\n",
       "      <td>-0.727070</td>\n",
       "      <td>-0.566170</td>\n",
       "      <td>-0.625262</td>\n",
       "      <td>-0.429223</td>\n",
       "      <td>-0.381917</td>\n",
       "      <td>...</td>\n",
       "      <td>-0.665796</td>\n",
       "      <td>-0.719223</td>\n",
       "      <td>-0.811968</td>\n",
       "      <td>-0.801357</td>\n",
       "      <td>-0.656812</td>\n",
       "      <td>-0.519180</td>\n",
       "      <td>-0.455090</td>\n",
       "      <td>-0.666131</td>\n",
       "      <td>-0.629933</td>\n",
       "      <td>-0.603180</td>\n",
       "    </tr>\n",
       "    <tr>\n",
       "      <th>4</th>\n",
       "      <td>Healthy</td>\n",
       "      <td>0</td>\n",
       "      <td>-0.268000</td>\n",
       "      <td>-0.172635</td>\n",
       "      <td>-0.476942</td>\n",
       "      <td>-0.730256</td>\n",
       "      <td>-0.537614</td>\n",
       "      <td>-0.603333</td>\n",
       "      <td>-0.417282</td>\n",
       "      <td>-0.373187</td>\n",
       "      <td>...</td>\n",
       "      <td>-0.598309</td>\n",
       "      <td>-0.643263</td>\n",
       "      <td>-0.699333</td>\n",
       "      <td>-0.768384</td>\n",
       "      <td>-0.585998</td>\n",
       "      <td>-0.496175</td>\n",
       "      <td>-0.443044</td>\n",
       "      <td>-0.579593</td>\n",
       "      <td>-0.584662</td>\n",
       "      <td>-0.562185</td>\n",
       "    </tr>\n",
       "  </tbody>\n",
       "</table>\n",
       "<p>5 rows × 683 columns</p>\n",
       "</div>"
      ],
      "text/plain": [
       "        ID  ID_num    M151T1     M83T1    M101T1     M46T1     M49T1  \\\n",
       "0  Healthy       0 -0.268167 -0.173282 -0.468532 -0.689375 -0.545787   \n",
       "1  Healthy       0 -0.263205 -0.105216  0.307663  0.251702 -0.410207   \n",
       "2  Healthy       0 -0.254105 -0.147462 -0.383205  0.560778 -0.516126   \n",
       "3  Healthy       0 -0.268131 -0.170967 -0.478020 -0.727070 -0.566170   \n",
       "4  Healthy       0 -0.268000 -0.172635 -0.476942 -0.730256 -0.537614   \n",
       "\n",
       "      M66T1     M62T1     M80T1  ...   M177T24  M179T24_1  M160T24_1  \\\n",
       "0 -0.619796 -0.409468 -0.387656  ... -0.593770  -0.637100  -0.641001   \n",
       "1  0.588939 -0.072891 -0.365801  ...  0.031987   0.383918   0.488144   \n",
       "2 -0.475555 -0.001122 -0.375542  ...  0.729482   1.246497   0.268835   \n",
       "3 -0.625262 -0.429223 -0.381917  ... -0.665796  -0.719223  -0.811968   \n",
       "4 -0.603333 -0.417282 -0.373187  ... -0.598309  -0.643263  -0.699333   \n",
       "\n",
       "   M118T25_1  M149T25_1  M133T25_1  M77T25_3   M107T25  M136T26_1  M135T26_1  \n",
       "0  -0.777737  -0.563426  -0.509932 -0.449127 -0.562903  -0.617659  -0.597298  \n",
       "1   1.915872   0.384146   4.395997  0.059717  1.989039   1.890985   0.252684  \n",
       "2   0.782965   0.608436   0.311254  0.138799  1.309250   0.292015   1.225839  \n",
       "3  -0.801357  -0.656812  -0.519180 -0.455090 -0.666131  -0.629933  -0.603180  \n",
       "4  -0.768384  -0.585998  -0.496175 -0.443044 -0.579593  -0.584662  -0.562185  \n",
       "\n",
       "[5 rows x 683 columns]"
      ]
     },
     "execution_count": 289,
     "metadata": {},
     "output_type": "execute_result"
    }
   ],
   "source": [
    "data_scaled_df.head()"
   ]
  },
  {
   "cell_type": "code",
   "execution_count": null,
   "metadata": {},
   "outputs": [],
   "source": []
  },
  {
   "cell_type": "code",
   "execution_count": 292,
   "metadata": {},
   "outputs": [
    {
     "name": "stdout",
     "output_type": "stream",
     "text": [
      "130.1534765457679\n",
      "1.120548549465393e-58\n",
      "2.2573361229095305e-211\n"
     ]
    }
   ],
   "source": [
    "data_healthy = data_scaled_df.loc[data_scaled_df.ID == 'Healthy'].values[:,2:]\n",
    "data_asthma = data_scaled_df.loc[data_scaled_df.ID == 'Asthmatic'].values[:,2:]\n",
    "\n",
    "healthy_mean, healthy_cov = do_factor_analysis(data_healthy[:,random_feat_ids[:30]])\n",
    "asthma_mean, asthma_cov = do_factor_analysis(data_asthma[:,random_feat_ids[:30]])\n",
    "\n",
    "dist, t1, t2 = bhatt_dist(healthy_mean, healthy_cov, asthma_mean, asthma_cov)\n",
    "print(dist)\n",
    "print(np.linalg.det(healthy_cov))\n",
    "print(np.linalg.det(asthma_cov))"
   ]
  },
  {
   "cell_type": "code",
   "execution_count": null,
   "metadata": {},
   "outputs": [],
   "source": []
  },
  {
   "cell_type": "code",
   "execution_count": null,
   "metadata": {},
   "outputs": [],
   "source": []
  },
  {
   "cell_type": "code",
   "execution_count": 209,
   "metadata": {},
   "outputs": [
    {
     "data": {
      "text/plain": [
       "inf"
      ]
     },
     "execution_count": 209,
     "metadata": {},
     "output_type": "execute_result"
    }
   ],
   "source": [
    "t2"
   ]
  },
  {
   "cell_type": "code",
   "execution_count": 195,
   "metadata": {},
   "outputs": [
    {
     "data": {
      "text/plain": [
       "0.0"
      ]
     },
     "execution_count": 195,
     "metadata": {},
     "output_type": "execute_result"
    }
   ],
   "source": [
    "np.linalg.det(asthma_cov)"
   ]
  },
  {
   "cell_type": "code",
   "execution_count": null,
   "metadata": {},
   "outputs": [],
   "source": []
  },
  {
   "cell_type": "code",
   "execution_count": null,
   "metadata": {},
   "outputs": [],
   "source": []
  }
 ],
 "metadata": {
  "kernelspec": {
   "display_name": "Python 3",
   "language": "python",
   "name": "python3"
  },
  "language_info": {
   "codemirror_mode": {
    "name": "ipython",
    "version": 3
   },
   "file_extension": ".py",
   "mimetype": "text/x-python",
   "name": "python",
   "nbconvert_exporter": "python",
   "pygments_lexer": "ipython3",
   "version": "3.6.10"
  }
 },
 "nbformat": 4,
 "nbformat_minor": 4
}
